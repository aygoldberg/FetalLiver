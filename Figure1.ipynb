{
 "cells": [
  {
   "cell_type": "code",
   "execution_count": 1,
   "id": "219f84ca",
   "metadata": {},
   "outputs": [
    {
     "data": {
      "text/html": [
       "'/hpc/hub_oudenaarden/agiladi/data/small_projects/scripts/hemato_figures'"
      ],
      "text/latex": [
       "'/hpc/hub\\_oudenaarden/agiladi/data/small\\_projects/scripts/hemato\\_figures'"
      ],
      "text/markdown": [
       "'/hpc/hub_oudenaarden/agiladi/data/small_projects/scripts/hemato_figures'"
      ],
      "text/plain": [
       "[1] \"/hpc/hub_oudenaarden/agiladi/data/small_projects/scripts/hemato_figures\""
      ]
     },
     "metadata": {},
     "output_type": "display_data"
    }
   ],
   "source": [
    "getwd()"
   ]
  },
  {
   "cell_type": "code",
   "execution_count": 2,
   "id": "d3bbb9e4",
   "metadata": {},
   "outputs": [],
   "source": [
    "setwd(\"../..\")"
   ]
  },
  {
   "cell_type": "code",
   "execution_count": 3,
   "id": "453df2e3",
   "metadata": {
    "jupyter": {
     "source_hidden": true
    }
   },
   "outputs": [
    {
     "name": "stderr",
     "output_type": "stream",
     "text": [
      "Warning message:\n",
      "“package ‘devtools’ was built under R version 4.2.3”\n",
      "Loading required package: usethis\n",
      "\n",
      "Warning message:\n",
      "“package ‘usethis’ was built under R version 4.2.3”\n",
      "Loading required package: reshape2\n",
      "\n",
      "Warning message:\n",
      "“package ‘reshape2’ was built under R version 4.2.3”\n",
      "Loading required package: plyr\n",
      "\n",
      "Warning message:\n",
      "“package ‘plyr’ was built under R version 4.2.3”\n",
      "Loading required package: plotrix\n",
      "\n",
      "Warning message in library(package, lib.loc = lib.loc, character.only = TRUE, logical.return = TRUE, :\n",
      "“there is no package called ‘plotrix’”\n",
      "initializing scdb to saved_work\n",
      "\n",
      "\u001b[1m\u001b[22m\u001b[36mℹ\u001b[39m SHA-1 hash of file is \"9adfcccbce4f308dad9fb0d084241583dbbeb5b8\"\n",
      "Loading required package: glmnet\n",
      "\n",
      "Loading required package: Matrix\n",
      "\n",
      "Warning message:\n",
      "“package ‘Matrix’ was built under R version 4.2.3”\n",
      "Loaded glmnet 4.1-8\n",
      "\n"
     ]
    }
   ],
   "source": [
    "library(devtools)\n",
    "library(metacell)\n",
    "#library(dendextend)\n",
    "#library(DESeq2)\n",
    "#library(RColorBrewer)\n",
    "#library(GEOquery)\n",
    "\n",
    "source(\"../tuft/scripts/metacell_functions.r\")\n",
    "scdb_init(\"saved_work\", force=T)\n",
    "source_url(\"https://raw.githubusercontent.com/aygoldberg/PIC-seq/master/scripts/pic_parser.r\")"
   ]
  },
  {
   "cell_type": "code",
   "execution_count": null,
   "id": "8c5d08b0-2136-4615-93e2-9841aa7b792c",
   "metadata": {},
   "outputs": [],
   "source": []
  },
  {
   "cell_type": "code",
   "execution_count": 4,
   "id": "4c7a964e",
   "metadata": {},
   "outputs": [
    {
     "name": "stderr",
     "output_type": "stream",
     "text": [
      "Warning message in dir.create(\"figures\"):\n",
      "“'figures' already exists”\n",
      "Warning message in dir.create(outdir):\n",
      "“'figures/figure1' already exists”\n"
     ]
    }
   ],
   "source": [
    "dir.create(\"figures\")\n",
    "outdir = \"figures/figure1\"\n",
    "dir.create(outdir)"
   ]
  },
  {
   "cell_type": "code",
   "execution_count": 5,
   "id": "3ef8cbfe",
   "metadata": {},
   "outputs": [
    {
     "name": "stderr",
     "output_type": "stream",
     "text": [
      "Loading singlets dataset:\n",
      "\n",
      "Loaded a metacell object of 14629 singlets. Total of 268 metacells.\n",
      "\n"
     ]
    }
   ],
   "source": [
    "id = \"hemato_liver\"\n",
    "\n",
    "id_s = paste0(id, \"_annotated\")\n",
    "#message(\"Loaded a UMI matrix of \", sc_mat@ncells, \" cells and \", sc_mat@ngenes, \" genes.\")\n",
    "\n",
    "message(\"Loading singlets dataset:\")\n",
    "sin_2d = scdb_mc2d(id); sin_cl = scdb_mc(id_s); sin_mat = scdb_mat(id)\n",
    "lfp = log2(sin_cl@mc_fp)\n",
    "message(\"Loaded a metacell object of \", length(sin_cl@mc), \" singlets. Total of \", length(table(sin_cl@mc)), \" metacells.\")\n"
   ]
  },
  {
   "cell_type": "code",
   "execution_count": 6,
   "id": "3994da6f",
   "metadata": {},
   "outputs": [
    {
     "name": "stderr",
     "output_type": "stream",
     "text": [
      "mc contains the assignment of cell to metacell\n",
      "\n"
     ]
    },
    {
     "data": {
      "text/html": [
       "<style>\n",
       ".dl-inline {width: auto; margin:0; padding: 0}\n",
       ".dl-inline>dt, .dl-inline>dd {float: none; width: auto; display: inline-block}\n",
       ".dl-inline>dt::after {content: \":\\0020\"; padding-right: .5ex}\n",
       ".dl-inline>dt:not(:first-of-type) {padding-left: .5ex}\n",
       "</style><dl class=dl-inline><dt>AB1007_AAGCCTT</dt><dd>52</dd><dt>AB1007_AAGGCTA</dt><dd>62</dd><dt>AB1007_ACACGTG</dt><dd>60</dd><dt>AB1007_ACAGCTC</dt><dd>39</dd><dt>AB1007_ACATCCG</dt><dd>58</dd><dt>AB1007_ACATGCT</dt><dd>114</dd></dl>\n"
      ],
      "text/latex": [
       "\\begin{description*}\n",
       "\\item[AB1007\\textbackslash{}\\_AAGCCTT] 52\n",
       "\\item[AB1007\\textbackslash{}\\_AAGGCTA] 62\n",
       "\\item[AB1007\\textbackslash{}\\_ACACGTG] 60\n",
       "\\item[AB1007\\textbackslash{}\\_ACAGCTC] 39\n",
       "\\item[AB1007\\textbackslash{}\\_ACATCCG] 58\n",
       "\\item[AB1007\\textbackslash{}\\_ACATGCT] 114\n",
       "\\end{description*}\n"
      ],
      "text/markdown": [
       "AB1007_AAGCCTT\n",
       ":   52AB1007_AAGGCTA\n",
       ":   62AB1007_ACACGTG\n",
       ":   60AB1007_ACAGCTC\n",
       ":   39AB1007_ACATCCG\n",
       ":   58AB1007_ACATGCT\n",
       ":   114\n",
       "\n"
      ],
      "text/plain": [
       "AB1007_AAGCCTT AB1007_AAGGCTA AB1007_ACACGTG AB1007_ACAGCTC AB1007_ACATCCG \n",
       "            52             62             60             39             58 \n",
       "AB1007_ACATGCT \n",
       "           114 "
      ]
     },
     "metadata": {},
     "output_type": "display_data"
    },
    {
     "name": "stderr",
     "output_type": "stream",
     "text": [
      "colors assigns a color label to each metacell, such that each color denotes one annotated cell type or state\n",
      "\n"
     ]
    },
    {
     "data": {
      "text/html": [
       "<style>\n",
       ".list-inline {list-style: none; margin:0; padding: 0}\n",
       ".list-inline>li {display: inline-block}\n",
       ".list-inline>li:not(:last-child)::after {content: \"\\00b7\"; padding: 0 .5ex}\n",
       "</style>\n",
       "<ol class=list-inline><li>'#056863'</li><li>'#034F25'</li><li>'#034F25'</li><li>'#056863'</li><li>'#056863'</li><li>'#056863'</li></ol>\n"
      ],
      "text/latex": [
       "\\begin{enumerate*}\n",
       "\\item '\\#056863'\n",
       "\\item '\\#034F25'\n",
       "\\item '\\#034F25'\n",
       "\\item '\\#056863'\n",
       "\\item '\\#056863'\n",
       "\\item '\\#056863'\n",
       "\\end{enumerate*}\n"
      ],
      "text/markdown": [
       "1. '#056863'\n",
       "2. '#034F25'\n",
       "3. '#034F25'\n",
       "4. '#056863'\n",
       "5. '#056863'\n",
       "6. '#056863'\n",
       "\n",
       "\n"
      ],
      "text/plain": [
       "[1] \"#056863\" \"#034F25\" \"#034F25\" \"#056863\" \"#056863\" \"#056863\""
      ]
     },
     "metadata": {},
     "output_type": "display_data"
    },
    {
     "name": "stderr",
     "output_type": "stream",
     "text": [
      "color_key maps each color to its annotation\n",
      "\n"
     ]
    },
    {
     "data": {
      "text/html": [
       "<table class=\"dataframe\">\n",
       "<caption>A data.frame: 6 × 2</caption>\n",
       "<thead>\n",
       "\t<tr><th></th><th scope=col>group</th><th scope=col>color</th></tr>\n",
       "\t<tr><th></th><th scope=col>&lt;chr&gt;</th><th scope=col>&lt;chr&gt;</th></tr>\n",
       "</thead>\n",
       "<tbody>\n",
       "\t<tr><th scope=row>preB</th><td>preB         </td><td>#CDA3FF</td></tr>\n",
       "\t<tr><th scope=row>pDC</th><td>pDC          </td><td>#9EDAFF</td></tr>\n",
       "\t<tr><th scope=row>T cells</th><td>T cells      </td><td>#00BBDA</td></tr>\n",
       "\t<tr><th scope=row>NK</th><td>NK           </td><td>#0087DA</td></tr>\n",
       "\t<tr><th scope=row>Myeloid cells</th><td>Myeloid cells</td><td>#8CA3B2</td></tr>\n",
       "\t<tr><th scope=row>Monocytes</th><td>Monocytes    </td><td>#69D29F</td></tr>\n",
       "</tbody>\n",
       "</table>\n"
      ],
      "text/latex": [
       "A data.frame: 6 × 2\n",
       "\\begin{tabular}{r|ll}\n",
       "  & group & color\\\\\n",
       "  & <chr> & <chr>\\\\\n",
       "\\hline\n",
       "\tpreB & preB          & \\#CDA3FF\\\\\n",
       "\tpDC & pDC           & \\#9EDAFF\\\\\n",
       "\tT cells & T cells       & \\#00BBDA\\\\\n",
       "\tNK & NK            & \\#0087DA\\\\\n",
       "\tMyeloid cells & Myeloid cells & \\#8CA3B2\\\\\n",
       "\tMonocytes & Monocytes     & \\#69D29F\\\\\n",
       "\\end{tabular}\n"
      ],
      "text/markdown": [
       "\n",
       "A data.frame: 6 × 2\n",
       "\n",
       "| <!--/--> | group &lt;chr&gt; | color &lt;chr&gt; |\n",
       "|---|---|---|\n",
       "| preB | preB          | #CDA3FF |\n",
       "| pDC | pDC           | #9EDAFF |\n",
       "| T cells | T cells       | #00BBDA |\n",
       "| NK | NK            | #0087DA |\n",
       "| Myeloid cells | Myeloid cells | #8CA3B2 |\n",
       "| Monocytes | Monocytes     | #69D29F |\n",
       "\n"
      ],
      "text/plain": [
       "              group         color  \n",
       "preB          preB          #CDA3FF\n",
       "pDC           pDC           #9EDAFF\n",
       "T cells       T cells       #00BBDA\n",
       "NK            NK            #0087DA\n",
       "Myeloid cells Myeloid cells #8CA3B2\n",
       "Monocytes     Monocytes     #69D29F"
      ]
     },
     "metadata": {},
     "output_type": "display_data"
    },
    {
     "name": "stderr",
     "output_type": "stream",
     "text": [
      "It is useful to create two-sided directories that allow mapping from color to annotation and from annotation to color\n",
      "\n",
      "Now we can assign each cell with its annotation\n",
      "\n"
     ]
    },
    {
     "data": {
      "text/html": [
       "<table class=\"dataframe\">\n",
       "<caption>A matrix: 24 × 1 of type int</caption>\n",
       "<tbody>\n",
       "\t<tr><th scope=row>Basophils</th><td>  74</td></tr>\n",
       "\t<tr><th scope=row>Dendritic cells</th><td> 314</td></tr>\n",
       "\t<tr><th scope=row>Elane+ Ms4a3+ immature neutrophils</th><td> 712</td></tr>\n",
       "\t<tr><th scope=row>Endothelial cells</th><td>1963</td></tr>\n",
       "\t<tr><th scope=row>Erythrocytes</th><td> 590</td></tr>\n",
       "\t<tr><th scope=row>Erythroid cells</th><td>1275</td></tr>\n",
       "\t<tr><th scope=row>Erythroid progenitors</th><td>2931</td></tr>\n",
       "\t<tr><th scope=row>Fcnb+ neutrophils</th><td> 383</td></tr>\n",
       "\t<tr><th scope=row>Hepatic stellate cells</th><td>  81</td></tr>\n",
       "\t<tr><th scope=row>Kupffer cells</th><td>  74</td></tr>\n",
       "\t<tr><th scope=row>Liver epithelial cells</th><td> 223</td></tr>\n",
       "\t<tr><th scope=row>Megakaryocytes</th><td> 522</td></tr>\n",
       "\t<tr><th scope=row>Mesothelial cells</th><td> 213</td></tr>\n",
       "\t<tr><th scope=row>Mfap5+ fibroblasts</th><td> 100</td></tr>\n",
       "\t<tr><th scope=row>Mix</th><td> 372</td></tr>\n",
       "\t<tr><th scope=row>Mmp8 low Retnlg low Fcnb+ neutrophils</th><td>1781</td></tr>\n",
       "\t<tr><th scope=row>Monocytes</th><td> 925</td></tr>\n",
       "\t<tr><th scope=row>Myeloid cells</th><td> 322</td></tr>\n",
       "\t<tr><th scope=row>NK</th><td>  77</td></tr>\n",
       "\t<tr><th scope=row>pDC</th><td>  88</td></tr>\n",
       "\t<tr><th scope=row>Platelets</th><td> 198</td></tr>\n",
       "\t<tr><th scope=row>preB</th><td> 486</td></tr>\n",
       "\t<tr><th scope=row>Retnlg+ mmp8+ neutrophils</th><td> 810</td></tr>\n",
       "\t<tr><th scope=row>T cells</th><td> 115</td></tr>\n",
       "</tbody>\n",
       "</table>\n"
      ],
      "text/latex": [
       "A matrix: 24 × 1 of type int\n",
       "\\begin{tabular}{r|l}\n",
       "\tBasophils &   74\\\\\n",
       "\tDendritic cells &  314\\\\\n",
       "\tElane+ Ms4a3+ immature neutrophils &  712\\\\\n",
       "\tEndothelial cells & 1963\\\\\n",
       "\tErythrocytes &  590\\\\\n",
       "\tErythroid cells & 1275\\\\\n",
       "\tErythroid progenitors & 2931\\\\\n",
       "\tFcnb+ neutrophils &  383\\\\\n",
       "\tHepatic stellate cells &   81\\\\\n",
       "\tKupffer cells &   74\\\\\n",
       "\tLiver epithelial cells &  223\\\\\n",
       "\tMegakaryocytes &  522\\\\\n",
       "\tMesothelial cells &  213\\\\\n",
       "\tMfap5+ fibroblasts &  100\\\\\n",
       "\tMix &  372\\\\\n",
       "\tMmp8 low Retnlg low Fcnb+ neutrophils & 1781\\\\\n",
       "\tMonocytes &  925\\\\\n",
       "\tMyeloid cells &  322\\\\\n",
       "\tNK &   77\\\\\n",
       "\tpDC &   88\\\\\n",
       "\tPlatelets &  198\\\\\n",
       "\tpreB &  486\\\\\n",
       "\tRetnlg+ mmp8+ neutrophils &  810\\\\\n",
       "\tT cells &  115\\\\\n",
       "\\end{tabular}\n"
      ],
      "text/markdown": [
       "\n",
       "A matrix: 24 × 1 of type int\n",
       "\n",
       "| Basophils |   74 |\n",
       "| Dendritic cells |  314 |\n",
       "| Elane+ Ms4a3+ immature neutrophils |  712 |\n",
       "| Endothelial cells | 1963 |\n",
       "| Erythrocytes |  590 |\n",
       "| Erythroid cells | 1275 |\n",
       "| Erythroid progenitors | 2931 |\n",
       "| Fcnb+ neutrophils |  383 |\n",
       "| Hepatic stellate cells |   81 |\n",
       "| Kupffer cells |   74 |\n",
       "| Liver epithelial cells |  223 |\n",
       "| Megakaryocytes |  522 |\n",
       "| Mesothelial cells |  213 |\n",
       "| Mfap5+ fibroblasts |  100 |\n",
       "| Mix |  372 |\n",
       "| Mmp8 low Retnlg low Fcnb+ neutrophils | 1781 |\n",
       "| Monocytes |  925 |\n",
       "| Myeloid cells |  322 |\n",
       "| NK |   77 |\n",
       "| pDC |   88 |\n",
       "| Platelets |  198 |\n",
       "| preB |  486 |\n",
       "| Retnlg+ mmp8+ neutrophils |  810 |\n",
       "| T cells |  115 |\n",
       "\n"
      ],
      "text/plain": [
       "                                      [,1]\n",
       "Basophils                               74\n",
       "Dendritic cells                        314\n",
       "Elane+ Ms4a3+ immature neutrophils     712\n",
       "Endothelial cells                     1963\n",
       "Erythrocytes                           590\n",
       "Erythroid cells                       1275\n",
       "Erythroid progenitors                 2931\n",
       "Fcnb+ neutrophils                      383\n",
       "Hepatic stellate cells                  81\n",
       "Kupffer cells                           74\n",
       "Liver epithelial cells                 223\n",
       "Megakaryocytes                         522\n",
       "Mesothelial cells                      213\n",
       "Mfap5+ fibroblasts                     100\n",
       "Mix                                    372\n",
       "Mmp8 low Retnlg low Fcnb+ neutrophils 1781\n",
       "Monocytes                              925\n",
       "Myeloid cells                          322\n",
       "NK                                      77\n",
       "pDC                                     88\n",
       "Platelets                              198\n",
       "preB                                   486\n",
       "Retnlg+ mmp8+ neutrophils              810\n",
       "T cells                                115"
      ]
     },
     "metadata": {},
     "output_type": "display_data"
    }
   ],
   "source": [
    "message(\"mc contains the assignment of cell to metacell\")\n",
    "head(sin_cl@mc)\n",
    "\n",
    "message(\"colors assigns a color label to each metacell, such that each color denotes one annotated cell type or state\")\n",
    "head(sin_cl@colors)\n",
    "\n",
    "message(\"color_key maps each color to its annotation\")\n",
    "head(sin_cl@color_key)\n",
    "\n",
    "message(\"It is useful to create two-sided directories that allow mapping from color to annotation and from annotation to color\")\n",
    "color_scheme = sin_cl@color_key\n",
    "color2name = as.vector(color_scheme$group); names(color2name) = color_scheme$color\n",
    "name2color = as.vector(color_scheme$color); names(name2color) = color_scheme$group\n",
    "\n",
    "message(\"Now we can assign each cell with its annotation\")\n",
    "sin_names = color2name[ sin_cl@colors[ sin_cl@mc]]; names(sin_names) = names(sin_cl@mc)\n",
    "\n",
    "as.matrix(table(sin_names))\n"
   ]
  },
  {
   "cell_type": "code",
   "execution_count": 7,
   "id": "4b3fd45e",
   "metadata": {},
   "outputs": [
    {
     "name": "stderr",
     "output_type": "stream",
     "text": [
      "In addition, metadata per cell can be extracted from the mat object\n",
      "\n"
     ]
    },
    {
     "data": {
      "text/html": [
       "<table class=\"dataframe\">\n",
       "<caption>A data.frame: 5 × 30</caption>\n",
       "<thead>\n",
       "\t<tr><th></th><th scope=col>plate</th><th scope=col>cell</th><th scope=col>barcode</th><th scope=col>umicount</th><th scope=col>mt_frac</th><th scope=col>Seq.Batch.ID</th><th scope=col>Date.of.sequencing</th><th scope=col>Batch.Set.ID</th><th scope=col>Owner</th><th scope=col>Date.of.sort</th><th scope=col>⋯</th><th scope=col>FACS.machine</th><th scope=col>Wells</th><th scope=col>condition</th><th scope=col>Tissue</th><th scope=col>Age</th><th scope=col>Cell_type</th><th scope=col>Replicate</th><th scope=col>Analysis</th><th scope=col>Include</th><th scope=col>amp_batch_id</th></tr>\n",
       "\t<tr><th></th><th scope=col>&lt;fct&gt;</th><th scope=col>&lt;fct&gt;</th><th scope=col>&lt;fct&gt;</th><th scope=col>&lt;dbl&gt;</th><th scope=col>&lt;dbl&gt;</th><th scope=col>&lt;chr&gt;</th><th scope=col>&lt;chr&gt;</th><th scope=col>&lt;chr&gt;</th><th scope=col>&lt;chr&gt;</th><th scope=col>&lt;chr&gt;</th><th scope=col>⋯</th><th scope=col>&lt;chr&gt;</th><th scope=col>&lt;chr&gt;</th><th scope=col>&lt;chr&gt;</th><th scope=col>&lt;chr&gt;</th><th scope=col>&lt;chr&gt;</th><th scope=col>&lt;chr&gt;</th><th scope=col>&lt;int&gt;</th><th scope=col>&lt;chr&gt;</th><th scope=col>&lt;chr&gt;</th><th scope=col>&lt;dbl&gt;</th></tr>\n",
       "</thead>\n",
       "<tbody>\n",
       "\t<tr><th scope=row>AB974_GTCGAGA</th><td>AB974</td><td>AB974_GTCGAGA</td><td>GTCGAGA</td><td>6320</td><td>0.08829114</td><td>SB013</td><td>15/02/2024</td><td>Maiia-FL-E16.5</td><td>Maiia</td><td>29/11/2023</td><td>⋯</td><td>S6         </td><td>ALL</td><td>       </td><td>Liver</td><td>E16.5</td><td>CD150</td><td>4</td><td>           </td><td>Models</td><td>1</td></tr>\n",
       "\t<tr><th scope=row>AB754_CATGAAC</th><td>AB754</td><td>AB754_CATGAAC</td><td>CATGAAC</td><td> 599</td><td>0.11352254</td><td>SB011</td><td>04/09/2023</td><td>Maiia-FL-P5   </td><td>Maiia</td><td>02/08/23  </td><td>⋯</td><td>BD Aria III</td><td>ALL</td><td>       </td><td>Liver</td><td>P5   </td><td>CD45+</td><td>1</td><td>Neutrophils</td><td>Models</td><td>1</td></tr>\n",
       "\t<tr><th scope=row>AB974_GTCCATA</th><td>AB974</td><td>AB974_GTCCATA</td><td>GTCCATA</td><td>8865</td><td>0.07422448</td><td>SB013</td><td>15/02/2024</td><td>Maiia-FL-E16.5</td><td>Maiia</td><td>29/11/2023</td><td>⋯</td><td>S6         </td><td>ALL</td><td>       </td><td>Liver</td><td>E16.5</td><td>CD150</td><td>4</td><td>           </td><td>Models</td><td>1</td></tr>\n",
       "\t<tr><th scope=row>AB464_GGAATCG</th><td>AB464</td><td>AB464_GGAATCG</td><td>GGAATCG</td><td>1085</td><td>0.05253456</td><td>SB008</td><td>14/03/2023</td><td>Maiia-FL-E16.5</td><td>Maiia</td><td>11/09/2022</td><td>⋯</td><td>BD Aria III</td><td>ALL</td><td>mouse 1</td><td>Liver</td><td>E16.5</td><td>CD45-</td><td>1</td><td>           </td><td>Models</td><td>1</td></tr>\n",
       "\t<tr><th scope=row>AB467_GTCAGTG</th><td>AB467</td><td>AB467_GTCAGTG</td><td>GTCAGTG</td><td>4787</td><td>0.14226029</td><td>SB008</td><td>14/03/2023</td><td>Maiia-FL-P0   </td><td>Maiia</td><td>10/11/2022</td><td>⋯</td><td>BD Aria III</td><td>ALL</td><td>mouse 2</td><td>Liver</td><td>P0   </td><td>CD150</td><td>1</td><td>           </td><td>Models</td><td>1</td></tr>\n",
       "</tbody>\n",
       "</table>\n"
      ],
      "text/latex": [
       "A data.frame: 5 × 30\n",
       "\\begin{tabular}{r|lllllllllllllllllllll}\n",
       "  & plate & cell & barcode & umicount & mt\\_frac & Seq.Batch.ID & Date.of.sequencing & Batch.Set.ID & Owner & Date.of.sort & ⋯ & FACS.machine & Wells & condition & Tissue & Age & Cell\\_type & Replicate & Analysis & Include & amp\\_batch\\_id\\\\\n",
       "  & <fct> & <fct> & <fct> & <dbl> & <dbl> & <chr> & <chr> & <chr> & <chr> & <chr> & ⋯ & <chr> & <chr> & <chr> & <chr> & <chr> & <chr> & <int> & <chr> & <chr> & <dbl>\\\\\n",
       "\\hline\n",
       "\tAB974\\_GTCGAGA & AB974 & AB974\\_GTCGAGA & GTCGAGA & 6320 & 0.08829114 & SB013 & 15/02/2024 & Maiia-FL-E16.5 & Maiia & 29/11/2023 & ⋯ & S6          & ALL &         & Liver & E16.5 & CD150 & 4 &             & Models & 1\\\\\n",
       "\tAB754\\_CATGAAC & AB754 & AB754\\_CATGAAC & CATGAAC &  599 & 0.11352254 & SB011 & 04/09/2023 & Maiia-FL-P5    & Maiia & 02/08/23   & ⋯ & BD Aria III & ALL &         & Liver & P5    & CD45+ & 1 & Neutrophils & Models & 1\\\\\n",
       "\tAB974\\_GTCCATA & AB974 & AB974\\_GTCCATA & GTCCATA & 8865 & 0.07422448 & SB013 & 15/02/2024 & Maiia-FL-E16.5 & Maiia & 29/11/2023 & ⋯ & S6          & ALL &         & Liver & E16.5 & CD150 & 4 &             & Models & 1\\\\\n",
       "\tAB464\\_GGAATCG & AB464 & AB464\\_GGAATCG & GGAATCG & 1085 & 0.05253456 & SB008 & 14/03/2023 & Maiia-FL-E16.5 & Maiia & 11/09/2022 & ⋯ & BD Aria III & ALL & mouse 1 & Liver & E16.5 & CD45- & 1 &             & Models & 1\\\\\n",
       "\tAB467\\_GTCAGTG & AB467 & AB467\\_GTCAGTG & GTCAGTG & 4787 & 0.14226029 & SB008 & 14/03/2023 & Maiia-FL-P0    & Maiia & 10/11/2022 & ⋯ & BD Aria III & ALL & mouse 2 & Liver & P0    & CD150 & 1 &             & Models & 1\\\\\n",
       "\\end{tabular}\n"
      ],
      "text/markdown": [
       "\n",
       "A data.frame: 5 × 30\n",
       "\n",
       "| <!--/--> | plate &lt;fct&gt; | cell &lt;fct&gt; | barcode &lt;fct&gt; | umicount &lt;dbl&gt; | mt_frac &lt;dbl&gt; | Seq.Batch.ID &lt;chr&gt; | Date.of.sequencing &lt;chr&gt; | Batch.Set.ID &lt;chr&gt; | Owner &lt;chr&gt; | Date.of.sort &lt;chr&gt; | ⋯ ⋯ | FACS.machine &lt;chr&gt; | Wells &lt;chr&gt; | condition &lt;chr&gt; | Tissue &lt;chr&gt; | Age &lt;chr&gt; | Cell_type &lt;chr&gt; | Replicate &lt;int&gt; | Analysis &lt;chr&gt; | Include &lt;chr&gt; | amp_batch_id &lt;dbl&gt; |\n",
       "|---|---|---|---|---|---|---|---|---|---|---|---|---|---|---|---|---|---|---|---|---|---|\n",
       "| AB974_GTCGAGA | AB974 | AB974_GTCGAGA | GTCGAGA | 6320 | 0.08829114 | SB013 | 15/02/2024 | Maiia-FL-E16.5 | Maiia | 29/11/2023 | ⋯ | S6          | ALL | <!----> | Liver | E16.5 | CD150 | 4 | <!----> | Models | 1 |\n",
       "| AB754_CATGAAC | AB754 | AB754_CATGAAC | CATGAAC |  599 | 0.11352254 | SB011 | 04/09/2023 | Maiia-FL-P5    | Maiia | 02/08/23   | ⋯ | BD Aria III | ALL | <!----> | Liver | P5    | CD45+ | 1 | Neutrophils | Models | 1 |\n",
       "| AB974_GTCCATA | AB974 | AB974_GTCCATA | GTCCATA | 8865 | 0.07422448 | SB013 | 15/02/2024 | Maiia-FL-E16.5 | Maiia | 29/11/2023 | ⋯ | S6          | ALL | <!----> | Liver | E16.5 | CD150 | 4 | <!----> | Models | 1 |\n",
       "| AB464_GGAATCG | AB464 | AB464_GGAATCG | GGAATCG | 1085 | 0.05253456 | SB008 | 14/03/2023 | Maiia-FL-E16.5 | Maiia | 11/09/2022 | ⋯ | BD Aria III | ALL | mouse 1 | Liver | E16.5 | CD45- | 1 | <!----> | Models | 1 |\n",
       "| AB467_GTCAGTG | AB467 | AB467_GTCAGTG | GTCAGTG | 4787 | 0.14226029 | SB008 | 14/03/2023 | Maiia-FL-P0    | Maiia | 10/11/2022 | ⋯ | BD Aria III | ALL | mouse 2 | Liver | P0    | CD150 | 1 | <!----> | Models | 1 |\n",
       "\n"
      ],
      "text/plain": [
       "              plate cell          barcode umicount mt_frac    Seq.Batch.ID\n",
       "AB974_GTCGAGA AB974 AB974_GTCGAGA GTCGAGA 6320     0.08829114 SB013       \n",
       "AB754_CATGAAC AB754 AB754_CATGAAC CATGAAC  599     0.11352254 SB011       \n",
       "AB974_GTCCATA AB974 AB974_GTCCATA GTCCATA 8865     0.07422448 SB013       \n",
       "AB464_GGAATCG AB464 AB464_GGAATCG GGAATCG 1085     0.05253456 SB008       \n",
       "AB467_GTCAGTG AB467 AB467_GTCAGTG GTCAGTG 4787     0.14226029 SB008       \n",
       "              Date.of.sequencing Batch.Set.ID   Owner Date.of.sort ⋯\n",
       "AB974_GTCGAGA 15/02/2024         Maiia-FL-E16.5 Maiia 29/11/2023   ⋯\n",
       "AB754_CATGAAC 04/09/2023         Maiia-FL-P5    Maiia 02/08/23     ⋯\n",
       "AB974_GTCCATA 15/02/2024         Maiia-FL-E16.5 Maiia 29/11/2023   ⋯\n",
       "AB464_GGAATCG 14/03/2023         Maiia-FL-E16.5 Maiia 11/09/2022   ⋯\n",
       "AB467_GTCAGTG 14/03/2023         Maiia-FL-P0    Maiia 10/11/2022   ⋯\n",
       "              FACS.machine Wells condition Tissue Age   Cell_type Replicate\n",
       "AB974_GTCGAGA S6           ALL             Liver  E16.5 CD150     4        \n",
       "AB754_CATGAAC BD Aria III  ALL             Liver  P5    CD45+     1        \n",
       "AB974_GTCCATA S6           ALL             Liver  E16.5 CD150     4        \n",
       "AB464_GGAATCG BD Aria III  ALL   mouse 1   Liver  E16.5 CD45-     1        \n",
       "AB467_GTCAGTG BD Aria III  ALL   mouse 2   Liver  P0    CD150     1        \n",
       "              Analysis    Include amp_batch_id\n",
       "AB974_GTCGAGA             Models  1           \n",
       "AB754_CATGAAC Neutrophils Models  1           \n",
       "AB974_GTCCATA             Models  1           \n",
       "AB464_GGAATCG             Models  1           \n",
       "AB467_GTCAGTG             Models  1           "
      ]
     },
     "metadata": {},
     "output_type": "display_data"
    }
   ],
   "source": [
    "message(\"In addition, metadata per cell can be extracted from the mat object\")\n",
    "sin_stats = sin_mat@cell_metadata[names(sin_cl@mc),]\n",
    "sin_stats[ sample(rownames(sin_stats), 5),]"
   ]
  },
  {
   "cell_type": "code",
   "execution_count": 8,
   "id": "8ee4bf3d-441a-41d7-a6bb-e64d477ec9a1",
   "metadata": {
    "scrolled": true
   },
   "outputs": [],
   "source": [
    "df = data.frame(mc = sin_cl@mc, cell_type = sin_names[ names(sin_cl@mc)])\n",
    "write.table(df, sep = \"\\t\", quote = F, col.names = NA, file = paste0(outdir, \"/liver_metacells.txt\"))"
   ]
  },
  {
   "cell_type": "code",
   "execution_count": 9,
   "id": "da982eac",
   "metadata": {},
   "outputs": [
    {
     "data": {
      "text/html": [
       "<style>\n",
       ".list-inline {list-style: none; margin:0; padding: 0}\n",
       ".list-inline>li {display: inline-block}\n",
       ".list-inline>li:not(:last-child)::after {content: \"\\00b7\"; padding: 0 .5ex}\n",
       "</style>\n",
       "<ol class=list-inline><li>'preB'</li><li>'pDC'</li><li>'T cells'</li><li>'NK'</li><li>'Myeloid cells'</li><li>'Monocytes'</li><li>'Kupffer cells'</li><li>'Dendritic cells'</li><li>'Elane+ Ms4a3+ immature neutrophils'</li><li>'Fcnb+ neutrophils'</li><li>'Mmp8 low Retnlg low Fcnb+ neutrophils'</li><li>'Retnlg+ mmp8+ neutrophils'</li><li>'Basophils'</li><li>'Erythroid progenitors'</li><li>'Erythroid cells'</li><li>'Erythrocytes'</li><li>'Megakaryocytes'</li><li>'Platelets'</li><li>'Endothelial cells'</li><li>'Mesothelial cells'</li><li>'Mfap5+ fibroblasts'</li><li>'Hepatic stellate cells'</li><li>'Liver epithelial cells'</li><li>'Mix'</li></ol>\n"
      ],
      "text/latex": [
       "\\begin{enumerate*}\n",
       "\\item 'preB'\n",
       "\\item 'pDC'\n",
       "\\item 'T cells'\n",
       "\\item 'NK'\n",
       "\\item 'Myeloid cells'\n",
       "\\item 'Monocytes'\n",
       "\\item 'Kupffer cells'\n",
       "\\item 'Dendritic cells'\n",
       "\\item 'Elane+ Ms4a3+ immature neutrophils'\n",
       "\\item 'Fcnb+ neutrophils'\n",
       "\\item 'Mmp8 low Retnlg low Fcnb+ neutrophils'\n",
       "\\item 'Retnlg+ mmp8+ neutrophils'\n",
       "\\item 'Basophils'\n",
       "\\item 'Erythroid progenitors'\n",
       "\\item 'Erythroid cells'\n",
       "\\item 'Erythrocytes'\n",
       "\\item 'Megakaryocytes'\n",
       "\\item 'Platelets'\n",
       "\\item 'Endothelial cells'\n",
       "\\item 'Mesothelial cells'\n",
       "\\item 'Mfap5+ fibroblasts'\n",
       "\\item 'Hepatic stellate cells'\n",
       "\\item 'Liver epithelial cells'\n",
       "\\item 'Mix'\n",
       "\\end{enumerate*}\n"
      ],
      "text/markdown": [
       "1. 'preB'\n",
       "2. 'pDC'\n",
       "3. 'T cells'\n",
       "4. 'NK'\n",
       "5. 'Myeloid cells'\n",
       "6. 'Monocytes'\n",
       "7. 'Kupffer cells'\n",
       "8. 'Dendritic cells'\n",
       "9. 'Elane+ Ms4a3+ immature neutrophils'\n",
       "10. 'Fcnb+ neutrophils'\n",
       "11. 'Mmp8 low Retnlg low Fcnb+ neutrophils'\n",
       "12. 'Retnlg+ mmp8+ neutrophils'\n",
       "13. 'Basophils'\n",
       "14. 'Erythroid progenitors'\n",
       "15. 'Erythroid cells'\n",
       "16. 'Erythrocytes'\n",
       "17. 'Megakaryocytes'\n",
       "18. 'Platelets'\n",
       "19. 'Endothelial cells'\n",
       "20. 'Mesothelial cells'\n",
       "21. 'Mfap5+ fibroblasts'\n",
       "22. 'Hepatic stellate cells'\n",
       "23. 'Liver epithelial cells'\n",
       "24. 'Mix'\n",
       "\n",
       "\n"
      ],
      "text/plain": [
       " [1] \"preB\"                                 \n",
       " [2] \"pDC\"                                  \n",
       " [3] \"T cells\"                              \n",
       " [4] \"NK\"                                   \n",
       " [5] \"Myeloid cells\"                        \n",
       " [6] \"Monocytes\"                            \n",
       " [7] \"Kupffer cells\"                        \n",
       " [8] \"Dendritic cells\"                      \n",
       " [9] \"Elane+ Ms4a3+ immature neutrophils\"   \n",
       "[10] \"Fcnb+ neutrophils\"                    \n",
       "[11] \"Mmp8 low Retnlg low Fcnb+ neutrophils\"\n",
       "[12] \"Retnlg+ mmp8+ neutrophils\"            \n",
       "[13] \"Basophils\"                            \n",
       "[14] \"Erythroid progenitors\"                \n",
       "[15] \"Erythroid cells\"                      \n",
       "[16] \"Erythrocytes\"                         \n",
       "[17] \"Megakaryocytes\"                       \n",
       "[18] \"Platelets\"                            \n",
       "[19] \"Endothelial cells\"                    \n",
       "[20] \"Mesothelial cells\"                    \n",
       "[21] \"Mfap5+ fibroblasts\"                   \n",
       "[22] \"Hepatic stellate cells\"               \n",
       "[23] \"Liver epithelial cells\"               \n",
       "[24] \"Mix\"                                  "
      ]
     },
     "metadata": {},
     "output_type": "display_data"
    }
   ],
   "source": [
    "annotations = as.matrix(read.delim(paste0(\"config/\", id, \"_lin-ord.txt\"), stringsAsFactor=F, h=T))[,1]\n",
    "lin_ord = annotations\n",
    "lin_ord"
   ]
  },
  {
   "cell_type": "code",
   "execution_count": 10,
   "id": "1a6a87ee",
   "metadata": {},
   "outputs": [
    {
     "name": "stderr",
     "output_type": "stream",
     "text": [
      "zlim: -9.20167133399361<>9.20167133399361\n",
      "\n"
     ]
    },
    {
     "data": {
      "image/png": "[encoded data removed]",
      "text/plain": [
       "plot without title"
      ]
     },
     "metadata": {
      "image/png": {
       "height": 420,
       "width": 420
      }
     },
     "output_type": "display_data"
    }
   ],
   "source": [
    "mc2lin = factor(color2name[ sin_cl@colors], levels = lin_ord); \n",
    "names(mc2lin) = seq_along(mc2lin)\n",
    "mc_ord = order(mc2lin)\n",
    "\n",
    "lfp = log2(sin_cl@mc_fp)\n",
    "nms = choose_genes_from_clust(mc_id = id_s,      # the unique id of the mc object\n",
    "                              mat_id = id_s,     # the unique id of the mat object\n",
    "                              nms_per_clust = 2, # number of differential genes per metacell\n",
    "                              nms_thresh = 2)  # minimum threshold for gene enrichment\n",
    "\n",
    "IM = lfp[ nms, mc_ord]\n",
    "IM = IM[ order(max.col(IM)),]\n",
    "\n",
    "image.2(IM, balance=T, vct = mc2lin[ colnames(IM)])\n",
    "box()"
   ]
  },
  {
   "cell_type": "code",
   "execution_count": 11,
   "id": "5d66d8e9",
   "metadata": {},
   "outputs": [
    {
     "data": {
      "text/plain": [
       "sin_names\n",
       "                            Basophils                       Dendritic cells \n",
       "                                   74                                   314 \n",
       "   Elane+ Ms4a3+ immature neutrophils                     Endothelial cells \n",
       "                                  712                                  1963 \n",
       "                         Erythrocytes                       Erythroid cells \n",
       "                                  590                                  1275 \n",
       "                Erythroid progenitors                     Fcnb+ neutrophils \n",
       "                                 2931                                   383 \n",
       "               Hepatic stellate cells                         Kupffer cells \n",
       "                                   81                                    74 \n",
       "               Liver epithelial cells                        Megakaryocytes \n",
       "                                  223                                   522 \n",
       "                    Mesothelial cells                    Mfap5+ fibroblasts \n",
       "                                  213                                   100 \n",
       "                                  Mix Mmp8 low Retnlg low Fcnb+ neutrophils \n",
       "                                  372                                  1781 \n",
       "                            Monocytes                         Myeloid cells \n",
       "                                  925                                   322 \n",
       "                                   NK                                   pDC \n",
       "                                   77                                    88 \n",
       "                            Platelets                                  preB \n",
       "                                  198                                   486 \n",
       "            Retnlg+ mmp8+ neutrophils                               T cells \n",
       "                                  810                                   115 "
      ]
     },
     "metadata": {},
     "output_type": "display_data"
    }
   ],
   "source": [
    "table(sin_names)\n",
    "bad_pops = \"Mix\"\n",
    "good_pops = setdiff(lin_ord, bad_pops)\n",
    "good_cells = names(sin_names)[ sin_names %in% good_pops]"
   ]
  },
  {
   "cell_type": "code",
   "execution_count": 12,
   "id": "27297c2c",
   "metadata": {},
   "outputs": [
    {
     "data": {
      "text/html": [
       "<strong>pdf:</strong> 2"
      ],
      "text/latex": [
       "\\textbf{pdf:} 2"
      ],
      "text/markdown": [
       "**pdf:** 2"
      ],
      "text/plain": [
       "pdf \n",
       "  2 "
      ]
     },
     "metadata": {},
     "output_type": "display_data"
    },
    {
     "data": {
      "text/html": [
       "<strong>pdf:</strong> 2"
      ],
      "text/latex": [
       "\\textbf{pdf:} 2"
      ],
      "text/markdown": [
       "**pdf:** 2"
      ],
      "text/plain": [
       "pdf \n",
       "  2 "
      ]
     },
     "metadata": {},
     "output_type": "display_data"
    }
   ],
   "source": [
    "pdf(paste0(outdir, \"/Fig1C.pdf\"), useDingbats = F)\n",
    "plot.2(sin_2d@sc_x[ good_cells], sin_2d@sc_y[ good_cells], col = sin_cl@colors[ sin_cl@mc[ good_cells]])\n",
    "dev.off()\n",
    "\n",
    "pdf(paste0(outdir, \"/Fig1C_legend.pdf\"), useDingbats = F)\n",
    "plot.empty()\n",
    "legend(\"topleft\", good_pops, pch = 20, pt.cex = 2, col = name2color[ good_pops])\n",
    "dev.off()\n"
   ]
  },
  {
   "cell_type": "code",
   "execution_count": 13,
   "id": "362bb0c7",
   "metadata": {},
   "outputs": [],
   "source": [
    "comb = paste0(sin_stats$Cell_type, \"@\", sin_stats$Age)\n",
    "comb = gsub(\"\\\\+\", \"\", comb)\n",
    "names(comb) = rownames(sin_stats)\n",
    "sample_dist = table(comb[ good_cells], factor(sin_names[ good_cells], levels = good_pops))\n",
    "dist_n = sample_dist / rowSums(sample_dist)\n",
    "\n",
    "l = names(table(sin_stats[ good_cells, \"Cell_type\"]))\n",
    "for (c in l) {\n",
    "    pdf(paste0(outdir, \"/liver_sample_dist_\", c, \".pdf\"), height = 5, width = 4)\n",
    "    X = dist_n[ grep(paste0(c, \"@\"), rownames(dist_n)),]\n",
    "    rownames(X) = vecsplit(rownames(X), \"@\", 2)\n",
    "    barplot(t(X) * 100, col = name2color[ colnames(sample_dist)], main = c, axes = F)\n",
    "    axis(2, las = 2)\n",
    "    dev.off()\n",
    "}"
   ]
  },
  {
   "cell_type": "code",
   "execution_count": 14,
   "id": "3e043bf4-3ac6-492a-a6ed-18c74e5b168c",
   "metadata": {},
   "outputs": [
    {
     "data": {
      "text/html": [
       "<style>\n",
       ".dl-inline {width: auto; margin:0; padding: 0}\n",
       ".dl-inline>dt, .dl-inline>dd {float: none; width: auto; display: inline-block}\n",
       ".dl-inline>dt::after {content: \":\\0020\"; padding-right: .5ex}\n",
       ".dl-inline>dt:not(:first-of-type) {padding-left: .5ex}\n",
       "</style><dl class=dl-inline><dt>CD45-@E16.5</dt><dd>0</dd><dt>CD45-@P0</dt><dd>0</dd><dt>CD45-@P5</dt><dd>0</dd><dt>CD45@P5</dt><dd>0.000596302921884317</dd><dt>CD45@P0</dt><dd>0.00428849902534113</dd><dt>CD45@E16.5</dt><dd>0.00533570475767008</dd><dt>CD150@P5</dt><dd>0.0151962853524694</dd><dt>CD150@E16.5</dt><dd>0.0608989850169164</dd><dt>CD150@P0</dt><dd>0.201801801801802</dd></dl>\n"
      ],
      "text/latex": [
       "\\begin{description*}\n",
       "\\item[CD45-@E16.5] 0\n",
       "\\item[CD45-@P0] 0\n",
       "\\item[CD45-@P5] 0\n",
       "\\item[CD45@P5] 0.000596302921884317\n",
       "\\item[CD45@P0] 0.00428849902534113\n",
       "\\item[CD45@E16.5] 0.00533570475767008\n",
       "\\item[CD150@P5] 0.0151962853524694\n",
       "\\item[CD150@E16.5] 0.0608989850169164\n",
       "\\item[CD150@P0] 0.201801801801802\n",
       "\\end{description*}\n"
      ],
      "text/markdown": [
       "CD45-@E16.5\n",
       ":   0CD45-@P0\n",
       ":   0CD45-@P5\n",
       ":   0CD45@P5\n",
       ":   0.000596302921884317CD45@P0\n",
       ":   0.00428849902534113CD45@E16.5\n",
       ":   0.00533570475767008CD150@P5\n",
       ":   0.0151962853524694CD150@E16.5\n",
       ":   0.0608989850169164CD150@P0\n",
       ":   0.201801801801802\n",
       "\n"
      ],
      "text/plain": [
       " CD45-@E16.5     CD45-@P0     CD45-@P5      CD45@P5      CD45@P0   CD45@E16.5 \n",
       "0.0000000000 0.0000000000 0.0000000000 0.0005963029 0.0042884990 0.0053357048 \n",
       "    CD150@P5  CD150@E16.5     CD150@P0 \n",
       "0.0151962854 0.0608989850 0.2018018018 "
      ]
     },
     "metadata": {},
     "output_type": "display_data"
    }
   ],
   "source": [
    "X = table(comb[ names(sin_names)], sin_names)\n",
    "Xn = X / rowSums(X)\n",
    "sort(Xn[,\"Megakaryocytes\"])"
   ]
  },
  {
   "cell_type": "code",
   "execution_count": 15,
   "id": "75ef300a-3f1d-46ab-af53-9f54c90c17f3",
   "metadata": {},
   "outputs": [
    {
     "data": {
      "text/plain": [
       "sin_names\n",
       "                            Basophils                       Dendritic cells \n",
       "                                   74                                   314 \n",
       "   Elane+ Ms4a3+ immature neutrophils                     Endothelial cells \n",
       "                                  712                                  1963 \n",
       "                         Erythrocytes                       Erythroid cells \n",
       "                                  590                                  1275 \n",
       "                Erythroid progenitors                     Fcnb+ neutrophils \n",
       "                                 2931                                   383 \n",
       "               Hepatic stellate cells                         Kupffer cells \n",
       "                                   81                                    74 \n",
       "               Liver epithelial cells                        Megakaryocytes \n",
       "                                  223                                   522 \n",
       "                    Mesothelial cells                    Mfap5+ fibroblasts \n",
       "                                  213                                   100 \n",
       "                                  Mix Mmp8 low Retnlg low Fcnb+ neutrophils \n",
       "                                  372                                  1781 \n",
       "                            Monocytes                         Myeloid cells \n",
       "                                  925                                   322 \n",
       "                                   NK                                   pDC \n",
       "                                   77                                    88 \n",
       "                            Platelets                                  preB \n",
       "                                  198                                   486 \n",
       "            Retnlg+ mmp8+ neutrophils                               T cells \n",
       "                                  810                                   115 "
      ]
     },
     "metadata": {},
     "output_type": "display_data"
    }
   ],
   "source": [
    "table(sin_names)"
   ]
  },
  {
   "cell_type": "code",
   "execution_count": 16,
   "id": "3f0c2137",
   "metadata": {
    "scrolled": true
   },
   "outputs": [
    {
     "data": {
      "text/html": [
       "6113"
      ],
      "text/latex": [
       "6113"
      ],
      "text/markdown": [
       "6113"
      ],
      "text/plain": [
       "[1] 6113"
      ]
     },
     "metadata": {},
     "output_type": "display_data"
    },
    {
     "data": {
      "text/html": [
       "8096"
      ],
      "text/latex": [
       "8096"
      ],
      "text/markdown": [
       "8096"
      ],
      "text/plain": [
       "[1] 8096"
      ]
     },
     "metadata": {},
     "output_type": "display_data"
    }
   ],
   "source": [
    "im_cells = names(scdb_mc(paste0(id_s, \"_a\"))@mc)\n",
    "ni_cells = names(scdb_mc(paste0(id_s, \"_b\"))@mc)\n",
    "length(im_cells)\n",
    "length(ni_cells)\n",
    "\n",
    "im_mc = names(table(sin_cl@mc[ im_cells]))\n",
    "ni_mc = names(table(sin_cl@mc[ ni_cells]))\n",
    "\n",
    "im_pops = intersect(good_pops, names(table(sin_names[ im_cells])))\n",
    "ni_pops = intersect(good_pops, names(table(sin_names[ ni_cells])))"
   ]
  },
  {
   "cell_type": "code",
   "execution_count": 17,
   "id": "92edf675",
   "metadata": {},
   "outputs": [
    {
     "name": "stderr",
     "output_type": "stream",
     "text": [
      "Warning message in asMethod(object):\n",
      "“sparse->dense coercion: allocating vector of size 2.5 GiB”\n",
      "Warning message in asMethod(object):\n",
      "“sparse->dense coercion: allocating vector of size 1.1 GiB”\n"
     ]
    }
   ],
   "source": [
    "sin_umis = read_large_umis(id, cells = good_cells)\n",
    "sin_n = sweep(sin_umis, 2, colSums(sin_umis), \"/\") * 1000\n",
    "foc = log(1 + 7 * sin_n)"
   ]
  },
  {
   "cell_type": "code",
   "execution_count": 18,
   "id": "bc1d01d0",
   "metadata": {},
   "outputs": [],
   "source": [
    "bad_genes = grep(\"Gm[0-9].|Mir|-ps|Rpl|Rps|Ig|Jchain|Ftl1|Malat1\", sin_mat@genes, v=T)\n"
   ]
  },
  {
   "cell_type": "code",
   "execution_count": 19,
   "id": "490cc5eb",
   "metadata": {},
   "outputs": [
    {
     "data": {
      "text/html": [
       "44"
      ],
      "text/latex": [
       "44"
      ],
      "text/markdown": [
       "44"
      ],
      "text/plain": [
       "[1] 44"
      ]
     },
     "metadata": {},
     "output_type": "display_data"
    }
   ],
   "source": [
    "id_a = paste0(id_s, \"_a\")\n",
    "a_nms = choose_genes_from_clust(id_a, id, \n",
    "        nms_per_clust = 3, nms_thresh = 3, \n",
    "        ord = \"max.col\", bad_genes = bad_genes,\n",
    "        must_haves = c(\"Vpreb1\", \"Trbc2\", \"Cd3e\", \"Ccr2\"))\n",
    "length(a_nms)\n",
    "#"
   ]
  },
  {
   "cell_type": "code",
   "execution_count": 20,
   "id": "59953034",
   "metadata": {},
   "outputs": [],
   "source": [
    "a_lfp = log2(scdb_mc(id_a)@mc_fp)\n",
    "colnames(a_lfp) = im_mc\n",
    "IM = a_lfp[a_nms,]\n",
    "IM = IM[, order(mc2lin[ colnames(IM)])]\n",
    "IM = IM[ order(max.col(IM)),]\n",
    "a_nms = rownames(IM)\n",
    "#write.table(rev(a_nms), quote=F, row.names = F, file = paste0(outdir, \"/im_genes.txt\"))"
   ]
  },
  {
   "cell_type": "code",
   "execution_count": 80,
   "id": "1b1eb0a4",
   "metadata": {},
   "outputs": [
    {
     "name": "stderr",
     "output_type": "stream",
     "text": [
      "zlim: -6.52541535821011<>6.52541535821011\n",
      "\n"
     ]
    },
    {
     "data": {
      "image/png": "[encoded data removed]",
      "text/plain": [
       "plot without title"
      ]
     },
     "metadata": {
      "image/png": {
       "height": 420,
       "width": 420
      }
     },
     "output_type": "display_data"
    }
   ],
   "source": [
    "a_nms = rev(read.table(paste0(outdir, \"/im_genes.txt\"), h=T, stringsAsFactors = F)[[1]])\n",
    "IM = a_lfp[intersect(a_nms, rownames(a_lfp)),]\n",
    "IM = IM[, order(mc2lin[ colnames(IM)])]\n",
    "image.2(IM, b=T, vct = factor(mc2lin[ colnames(IM)], levels = im_pops)); box()"
   ]
  },
  {
   "cell_type": "code",
   "execution_count": 81,
   "id": "f9609280",
   "metadata": {},
   "outputs": [
    {
     "data": {
      "text/html": [
       "<table class=\"dataframe\">\n",
       "<caption>A matrix: 25 × 4 of type dbl</caption>\n",
       "<thead>\n",
       "\t<tr><th></th><th scope=col>CD150</th><th scope=col>CD45-</th><th scope=col>CD45+</th><th scope=col>total</th></tr>\n",
       "</thead>\n",
       "<tbody>\n",
       "\t<tr><th scope=row>Basophils</th><td>   0</td><td>   0</td><td>  74</td><td>   74</td></tr>\n",
       "\t<tr><th scope=row>Dendritic cells</th><td>   0</td><td>   0</td><td> 314</td><td>  314</td></tr>\n",
       "\t<tr><th scope=row>Elane+ Ms4a3+ immature neutrophils</th><td>   3</td><td>   1</td><td> 708</td><td>  712</td></tr>\n",
       "\t<tr><th scope=row>Endothelial cells</th><td>1612</td><td> 342</td><td>   9</td><td> 1963</td></tr>\n",
       "\t<tr><th scope=row>Erythrocytes</th><td> 127</td><td> 430</td><td>  33</td><td>  590</td></tr>\n",
       "\t<tr><th scope=row>Erythroid cells</th><td> 355</td><td> 911</td><td>   9</td><td> 1275</td></tr>\n",
       "\t<tr><th scope=row>Erythroid progenitors</th><td>2658</td><td> 227</td><td>  46</td><td> 2931</td></tr>\n",
       "\t<tr><th scope=row>Fcnb+ neutrophils</th><td>   3</td><td>   0</td><td> 380</td><td>  383</td></tr>\n",
       "\t<tr><th scope=row>Hepatic stellate cells</th><td>  77</td><td>   4</td><td>   0</td><td>   81</td></tr>\n",
       "\t<tr><th scope=row>Kupffer cells</th><td>   8</td><td>   0</td><td>  66</td><td>   74</td></tr>\n",
       "\t<tr><th scope=row>Liver epithelial cells</th><td> 184</td><td>  32</td><td>   7</td><td>  223</td></tr>\n",
       "\t<tr><th scope=row>Megakaryocytes</th><td> 498</td><td>   0</td><td>  24</td><td>  522</td></tr>\n",
       "\t<tr><th scope=row>Mesothelial cells</th><td> 182</td><td>  31</td><td>   0</td><td>  213</td></tr>\n",
       "\t<tr><th scope=row>Mfap5+ fibroblasts</th><td>  90</td><td>  10</td><td>   0</td><td>  100</td></tr>\n",
       "\t<tr><th scope=row>Mix</th><td>  57</td><td>  33</td><td> 282</td><td>  372</td></tr>\n",
       "\t<tr><th scope=row>Mmp8 low Retnlg low Fcnb+ neutrophils</th><td>   1</td><td>   2</td><td>1778</td><td> 1781</td></tr>\n",
       "\t<tr><th scope=row>Monocytes</th><td>   1</td><td>   0</td><td> 924</td><td>  925</td></tr>\n",
       "\t<tr><th scope=row>Myeloid cells</th><td>  19</td><td>   0</td><td> 303</td><td>  322</td></tr>\n",
       "\t<tr><th scope=row>NK</th><td>   1</td><td>   1</td><td>  75</td><td>   77</td></tr>\n",
       "\t<tr><th scope=row>pDC</th><td>   1</td><td>   0</td><td>  87</td><td>   88</td></tr>\n",
       "\t<tr><th scope=row>Platelets</th><td> 197</td><td>   0</td><td>   1</td><td>  198</td></tr>\n",
       "\t<tr><th scope=row>preB</th><td>  28</td><td>  10</td><td> 448</td><td>  486</td></tr>\n",
       "\t<tr><th scope=row>Retnlg+ mmp8+ neutrophils</th><td>   1</td><td>   1</td><td> 808</td><td>  810</td></tr>\n",
       "\t<tr><th scope=row>T cells</th><td>   0</td><td>   0</td><td> 115</td><td>  115</td></tr>\n",
       "\t<tr><th scope=row>total</th><td>6103</td><td>2035</td><td>6491</td><td>14629</td></tr>\n",
       "</tbody>\n",
       "</table>\n"
      ],
      "text/latex": [
       "A matrix: 25 × 4 of type dbl\n",
       "\\begin{tabular}{r|llll}\n",
       "  & CD150 & CD45- & CD45+ & total\\\\\n",
       "\\hline\n",
       "\tBasophils &    0 &    0 &   74 &    74\\\\\n",
       "\tDendritic cells &    0 &    0 &  314 &   314\\\\\n",
       "\tElane+ Ms4a3+ immature neutrophils &    3 &    1 &  708 &   712\\\\\n",
       "\tEndothelial cells & 1612 &  342 &    9 &  1963\\\\\n",
       "\tErythrocytes &  127 &  430 &   33 &   590\\\\\n",
       "\tErythroid cells &  355 &  911 &    9 &  1275\\\\\n",
       "\tErythroid progenitors & 2658 &  227 &   46 &  2931\\\\\n",
       "\tFcnb+ neutrophils &    3 &    0 &  380 &   383\\\\\n",
       "\tHepatic stellate cells &   77 &    4 &    0 &    81\\\\\n",
       "\tKupffer cells &    8 &    0 &   66 &    74\\\\\n",
       "\tLiver epithelial cells &  184 &   32 &    7 &   223\\\\\n",
       "\tMegakaryocytes &  498 &    0 &   24 &   522\\\\\n",
       "\tMesothelial cells &  182 &   31 &    0 &   213\\\\\n",
       "\tMfap5+ fibroblasts &   90 &   10 &    0 &   100\\\\\n",
       "\tMix &   57 &   33 &  282 &   372\\\\\n",
       "\tMmp8 low Retnlg low Fcnb+ neutrophils &    1 &    2 & 1778 &  1781\\\\\n",
       "\tMonocytes &    1 &    0 &  924 &   925\\\\\n",
       "\tMyeloid cells &   19 &    0 &  303 &   322\\\\\n",
       "\tNK &    1 &    1 &   75 &    77\\\\\n",
       "\tpDC &    1 &    0 &   87 &    88\\\\\n",
       "\tPlatelets &  197 &    0 &    1 &   198\\\\\n",
       "\tpreB &   28 &   10 &  448 &   486\\\\\n",
       "\tRetnlg+ mmp8+ neutrophils &    1 &    1 &  808 &   810\\\\\n",
       "\tT cells &    0 &    0 &  115 &   115\\\\\n",
       "\ttotal & 6103 & 2035 & 6491 & 14629\\\\\n",
       "\\end{tabular}\n"
      ],
      "text/markdown": [
       "\n",
       "A matrix: 25 × 4 of type dbl\n",
       "\n",
       "| <!--/--> | CD150 | CD45- | CD45+ | total |\n",
       "|---|---|---|---|---|\n",
       "| Basophils |    0 |    0 |   74 |    74 |\n",
       "| Dendritic cells |    0 |    0 |  314 |   314 |\n",
       "| Elane+ Ms4a3+ immature neutrophils |    3 |    1 |  708 |   712 |\n",
       "| Endothelial cells | 1612 |  342 |    9 |  1963 |\n",
       "| Erythrocytes |  127 |  430 |   33 |   590 |\n",
       "| Erythroid cells |  355 |  911 |    9 |  1275 |\n",
       "| Erythroid progenitors | 2658 |  227 |   46 |  2931 |\n",
       "| Fcnb+ neutrophils |    3 |    0 |  380 |   383 |\n",
       "| Hepatic stellate cells |   77 |    4 |    0 |    81 |\n",
       "| Kupffer cells |    8 |    0 |   66 |    74 |\n",
       "| Liver epithelial cells |  184 |   32 |    7 |   223 |\n",
       "| Megakaryocytes |  498 |    0 |   24 |   522 |\n",
       "| Mesothelial cells |  182 |   31 |    0 |   213 |\n",
       "| Mfap5+ fibroblasts |   90 |   10 |    0 |   100 |\n",
       "| Mix |   57 |   33 |  282 |   372 |\n",
       "| Mmp8 low Retnlg low Fcnb+ neutrophils |    1 |    2 | 1778 |  1781 |\n",
       "| Monocytes |    1 |    0 |  924 |   925 |\n",
       "| Myeloid cells |   19 |    0 |  303 |   322 |\n",
       "| NK |    1 |    1 |   75 |    77 |\n",
       "| pDC |    1 |    0 |   87 |    88 |\n",
       "| Platelets |  197 |    0 |    1 |   198 |\n",
       "| preB |   28 |   10 |  448 |   486 |\n",
       "| Retnlg+ mmp8+ neutrophils |    1 |    1 |  808 |   810 |\n",
       "| T cells |    0 |    0 |  115 |   115 |\n",
       "| total | 6103 | 2035 | 6491 | 14629 |\n",
       "\n"
      ],
      "text/plain": [
       "                                      CD150 CD45- CD45+ total\n",
       "Basophils                                0     0    74     74\n",
       "Dendritic cells                          0     0   314    314\n",
       "Elane+ Ms4a3+ immature neutrophils       3     1   708    712\n",
       "Endothelial cells                     1612   342     9   1963\n",
       "Erythrocytes                           127   430    33    590\n",
       "Erythroid cells                        355   911     9   1275\n",
       "Erythroid progenitors                 2658   227    46   2931\n",
       "Fcnb+ neutrophils                        3     0   380    383\n",
       "Hepatic stellate cells                  77     4     0     81\n",
       "Kupffer cells                            8     0    66     74\n",
       "Liver epithelial cells                 184    32     7    223\n",
       "Megakaryocytes                         498     0    24    522\n",
       "Mesothelial cells                      182    31     0    213\n",
       "Mfap5+ fibroblasts                      90    10     0    100\n",
       "Mix                                     57    33   282    372\n",
       "Mmp8 low Retnlg low Fcnb+ neutrophils    1     2  1778   1781\n",
       "Monocytes                                1     0   924    925\n",
       "Myeloid cells                           19     0   303    322\n",
       "NK                                       1     1    75     77\n",
       "pDC                                      1     0    87     88\n",
       "Platelets                              197     0     1    198\n",
       "preB                                    28    10   448    486\n",
       "Retnlg+ mmp8+ neutrophils                1     1   808    810\n",
       "T cells                                  0     0   115    115\n",
       "total                                 6103  2035  6491  14629"
      ]
     },
     "metadata": {},
     "output_type": "display_data"
    }
   ],
   "source": [
    "summarize.table(table(sin_names, sin_stats$Cell_type))"
   ]
  },
  {
   "cell_type": "code",
   "execution_count": 82,
   "id": "68fea322",
   "metadata": {},
   "outputs": [],
   "source": [
    "genes_shades = colorRampPalette(c(\"white\", \n",
    "        \"orange\", \"tomato\", \"mediumorchid4\", \"midnightblue\"))(1000)"
   ]
  },
  {
   "cell_type": "code",
   "execution_count": 83,
   "id": "1e5b202c-c87c-4374-bba8-35ddd6009120",
   "metadata": {},
   "outputs": [
    {
     "data": {
      "text/html": [
       "<style>\n",
       ".dl-inline {width: auto; margin:0; padding: 0}\n",
       ".dl-inline>dt, .dl-inline>dd {float: none; width: auto; display: inline-block}\n",
       ".dl-inline>dt::after {content: \":\\0020\"; padding-right: .5ex}\n",
       ".dl-inline>dt:not(:first-of-type) {padding-left: .5ex}\n",
       "</style><dl class=dl-inline><dt>S100a9</dt><dd>4.20856931370767</dd><dt>S100a8</dt><dd>3.5850734457459</dd><dt>Cd52</dt><dd>3.55635084407048</dd><dt>Stfa1</dt><dd>3.29835964853285</dd><dt>Tmsb10</dt><dd>3.21024553205314</dd><dt>Coro1a</dt><dd>2.67380075504414</dd><dt>Cstdc5</dt><dd>2.65652741431669</dd><dt>Tyrobp</dt><dd>2.62890973326554</dd><dt>Lsp1</dt><dd>2.62830765839753</dd><dt>Ngp</dt><dd>2.6191598973631</dd><dt>Gzma</dt><dd>2.59639733334248</dd><dt>Lcp1</dt><dd>2.56924882700945</dd><dt>AW112010</dt><dd>2.56429375107216</dd><dt>Trbc2</dt><dd>2.3931136331989</dd><dt>Rac2</dt><dd>2.39233945303176</dd><dt>Gimap4</dt><dd>2.30670448469806</dd><dt>Ccl5</dt><dd>2.29203835619286</dd><dt>Il2rb</dt><dd>2.2812420358612</dd><dt>Ly6e</dt><dd>2.27410643324695</dd><dt>Nkg7</dt><dd>2.27003205575806</dd><dt>Id2</dt><dd>2.26569750915712</dd><dt>S100a4</dt><dd>2.19171853350007</dd><dt>Stfa3</dt><dd>2.17249992352146</dd><dt>Cd7</dt><dd>2.15496294103699</dd><dt>S100a6</dt><dd>2.07497494529736</dd><dt>Cstdc4</dt><dd>2.03812944768975</dd><dt>Camp</dt><dd>1.9804879459019</dd><dt>Crip1</dt><dd>1.93326575805084</dd><dt>Stfa2l1</dt><dd>1.90415561900613</dd><dt>Tmsb4x</dt><dd>1.87460324885839</dd><dt>Fcer1g</dt><dd>1.86161782534527</dd><dt>Trbc1</dt><dd>1.85524390497087</dd><dt>Klrd1</dt><dd>1.79181585284797</dd><dt>Psmb8</dt><dd>1.76350038188213</dd><dt>Lcn2</dt><dd>1.75900586724593</dd><dt>Anxa6</dt><dd>1.75263573752134</dd><dt>B2m</dt><dd>1.71521019299597</dd><dt>Ctsw</dt><dd>1.70036972688971</dd><dt>Lyz2</dt><dd>1.69440875024948</dd><dt>Ptprc</dt><dd>1.65322646296243</dd></dl>\n"
      ],
      "text/latex": [
       "\\begin{description*}\n",
       "\\item[S100a9] 4.20856931370767\n",
       "\\item[S100a8] 3.5850734457459\n",
       "\\item[Cd52] 3.55635084407048\n",
       "\\item[Stfa1] 3.29835964853285\n",
       "\\item[Tmsb10] 3.21024553205314\n",
       "\\item[Coro1a] 2.67380075504414\n",
       "\\item[Cstdc5] 2.65652741431669\n",
       "\\item[Tyrobp] 2.62890973326554\n",
       "\\item[Lsp1] 2.62830765839753\n",
       "\\item[Ngp] 2.6191598973631\n",
       "\\item[Gzma] 2.59639733334248\n",
       "\\item[Lcp1] 2.56924882700945\n",
       "\\item[AW112010] 2.56429375107216\n",
       "\\item[Trbc2] 2.3931136331989\n",
       "\\item[Rac2] 2.39233945303176\n",
       "\\item[Gimap4] 2.30670448469806\n",
       "\\item[Ccl5] 2.29203835619286\n",
       "\\item[Il2rb] 2.2812420358612\n",
       "\\item[Ly6e] 2.27410643324695\n",
       "\\item[Nkg7] 2.27003205575806\n",
       "\\item[Id2] 2.26569750915712\n",
       "\\item[S100a4] 2.19171853350007\n",
       "\\item[Stfa3] 2.17249992352146\n",
       "\\item[Cd7] 2.15496294103699\n",
       "\\item[S100a6] 2.07497494529736\n",
       "\\item[Cstdc4] 2.03812944768975\n",
       "\\item[Camp] 1.9804879459019\n",
       "\\item[Crip1] 1.93326575805084\n",
       "\\item[Stfa2l1] 1.90415561900613\n",
       "\\item[Tmsb4x] 1.87460324885839\n",
       "\\item[Fcer1g] 1.86161782534527\n",
       "\\item[Trbc1] 1.85524390497087\n",
       "\\item[Klrd1] 1.79181585284797\n",
       "\\item[Psmb8] 1.76350038188213\n",
       "\\item[Lcn2] 1.75900586724593\n",
       "\\item[Anxa6] 1.75263573752134\n",
       "\\item[B2m] 1.71521019299597\n",
       "\\item[Ctsw] 1.70036972688971\n",
       "\\item[Lyz2] 1.69440875024948\n",
       "\\item[Ptprc] 1.65322646296243\n",
       "\\end{description*}\n"
      ],
      "text/markdown": [
       "S100a9\n",
       ":   4.20856931370767S100a8\n",
       ":   3.5850734457459Cd52\n",
       ":   3.55635084407048Stfa1\n",
       ":   3.29835964853285Tmsb10\n",
       ":   3.21024553205314Coro1a\n",
       ":   2.67380075504414Cstdc5\n",
       ":   2.65652741431669Tyrobp\n",
       ":   2.62890973326554Lsp1\n",
       ":   2.62830765839753Ngp\n",
       ":   2.6191598973631Gzma\n",
       ":   2.59639733334248Lcp1\n",
       ":   2.56924882700945AW112010\n",
       ":   2.56429375107216Trbc2\n",
       ":   2.3931136331989Rac2\n",
       ":   2.39233945303176Gimap4\n",
       ":   2.30670448469806Ccl5\n",
       ":   2.29203835619286Il2rb\n",
       ":   2.2812420358612Ly6e\n",
       ":   2.27410643324695Nkg7\n",
       ":   2.27003205575806Id2\n",
       ":   2.26569750915712S100a4\n",
       ":   2.19171853350007Stfa3\n",
       ":   2.17249992352146Cd7\n",
       ":   2.15496294103699S100a6\n",
       ":   2.07497494529736Cstdc4\n",
       ":   2.03812944768975Camp\n",
       ":   1.9804879459019Crip1\n",
       ":   1.93326575805084Stfa2l1\n",
       ":   1.90415561900613Tmsb4x\n",
       ":   1.87460324885839Fcer1g\n",
       ":   1.86161782534527Trbc1\n",
       ":   1.85524390497087Klrd1\n",
       ":   1.79181585284797Psmb8\n",
       ":   1.76350038188213Lcn2\n",
       ":   1.75900586724593Anxa6\n",
       ":   1.75263573752134B2m\n",
       ":   1.71521019299597Ctsw\n",
       ":   1.70036972688971Lyz2\n",
       ":   1.69440875024948Ptprc\n",
       ":   1.65322646296243\n",
       "\n"
      ],
      "text/plain": [
       "  S100a9   S100a8     Cd52    Stfa1   Tmsb10   Coro1a   Cstdc5   Tyrobp \n",
       "4.208569 3.585073 3.556351 3.298360 3.210246 2.673801 2.656527 2.628910 \n",
       "    Lsp1      Ngp     Gzma     Lcp1 AW112010    Trbc2     Rac2   Gimap4 \n",
       "2.628308 2.619160 2.596397 2.569249 2.564294 2.393114 2.392339 2.306704 \n",
       "    Ccl5    Il2rb     Ly6e     Nkg7      Id2   S100a4    Stfa3      Cd7 \n",
       "2.292038 2.281242 2.274106 2.270032 2.265698 2.191719 2.172500 2.154963 \n",
       "  S100a6   Cstdc4     Camp    Crip1  Stfa2l1   Tmsb4x   Fcer1g    Trbc1 \n",
       "2.074975 2.038129 1.980488 1.933266 1.904156 1.874603 1.861618 1.855244 \n",
       "   Klrd1    Psmb8     Lcn2    Anxa6      B2m     Ctsw     Lyz2    Ptprc \n",
       "1.791816 1.763500 1.759006 1.752636 1.715210 1.700370 1.694409 1.653226 "
      ]
     },
     "metadata": {},
     "output_type": "display_data"
    }
   ],
   "source": [
    "head(sort(lfp[,\"104\"], T), 40)"
   ]
  },
  {
   "cell_type": "code",
   "execution_count": 84,
   "id": "f66ded43",
   "metadata": {},
   "outputs": [
    {
     "name": "stderr",
     "output_type": "stream",
     "text": [
      "zlim: 0<>7.31899853319997\n",
      "\n"
     ]
    },
    {
     "data": {
      "text/html": [
       "<strong>pdf:</strong> 2"
      ],
      "text/latex": [
       "\\textbf{pdf:} 2"
      ],
      "text/markdown": [
       "**pdf:** 2"
      ],
      "text/plain": [
       "pdf \n",
       "  2 "
      ]
     },
     "metadata": {},
     "output_type": "display_data"
    }
   ],
   "source": [
    "IM = foc[a_nms, sample(im_cells)]\n",
    "vct = factor(sin_names[ colnames(IM)], levels = im_pops); names(vct) = colnames(IM)\n",
    "IM = IM[, order(vct)]\n",
    "\n",
    "pdf(paste0(outdir, \"/FigS1A.pdf\"), height = 5, width = 8)\n",
    "par(mar = c(0.5,7,0,0), fig = c(0,0.9,0.1,1))\n",
    "image.2(IM, col = genes_shades, vct = vct[ colnames(IM)], annotate = \"rows\"); box()\n",
    "par(mar = c(0,7,0,0), fig = c(0,0.9,0,0.1), new = T)\n",
    "image(matrix(seq_len(ncol(IM))), axes = F, col = sin_cl@colors[ sin_cl@mc[ colnames(IM)]]); box()\n",
    "par(mar = c(0.5,3,0,0), fig = c(0.9,1,0.1,0.3), new = T)\n",
    "ax = seq(0, max(IM), length.out = length(genes_shades))\n",
    "image(y = ax, z = t(ax), axes = F, col = genes_shades); box()\n",
    "axis(2, las = 2)\n",
    "dev.off()"
   ]
  },
  {
   "cell_type": "code",
   "execution_count": 85,
   "id": "b6479a7a-1de6-4bea-8e15-5421f892c240",
   "metadata": {
    "scrolled": true
   },
   "outputs": [
    {
     "name": "stderr",
     "output_type": "stream",
     "text": [
      "zlim: 0<>7.31899853319997\n",
      "\n"
     ]
    },
    {
     "data": {
      "text/html": [
       "<strong>pdf:</strong> 2"
      ],
      "text/latex": [
       "\\textbf{pdf:} 2"
      ],
      "text/markdown": [
       "**pdf:** 2"
      ],
      "text/plain": [
       "pdf \n",
       "  2 "
      ]
     },
     "metadata": {},
     "output_type": "display_data"
    },
    {
     "name": "stderr",
     "output_type": "stream",
     "text": [
      "zlim: 0<>1\n",
      "\n"
     ]
    },
    {
     "data": {
      "text/html": [
       "<strong>pdf:</strong> 2"
      ],
      "text/latex": [
       "\\textbf{pdf:} 2"
      ],
      "text/markdown": [
       "**pdf:** 2"
      ],
      "text/plain": [
       "pdf \n",
       "  2 "
      ]
     },
     "metadata": {},
     "output_type": "display_data"
    }
   ],
   "source": [
    "png(paste0(outdir, \"/FigS1A.png\"), height = 1000, width = 1000)\n",
    "par(mar = rep(0,4))\n",
    "image.2(IM, col = genes_shades, annotate = \"none\"); \n",
    "dev.off()\n",
    "\n",
    "IM_empty = IM\n",
    "IM_empty[!is.na(IM_empty)] = NA\n",
    "pdf(paste0(outdir, \"/FigS1A_reduced.pdf\"), height = 5, width = 8)\n",
    "par(mar = c(0.5,7,0,0), fig = c(0,0.9,0.1,1))\n",
    "image.2(IM_empty, col = genes_shades, vct = vct[ colnames(IM)], annotate = \"rows\", zlim = c(0,1)); box()\n",
    "par(mar = c(0,7,0,0), fig = c(0,0.9,0,0.1), new = T)\n",
    "image(matrix(seq_len(ncol(IM))), axes = F, col = sin_cl@colors[ sin_cl@mc[ colnames(IM)]]); box()\n",
    "par(mar = c(0.5,3,0,0), fig = c(0.9,1,0.1,0.3), new = T)\n",
    "ax = seq(0, max(IM), length.out = length(genes_shades))\n",
    "image(y = ax, z = t(ax), axes = F, col = genes_shades); box()\n",
    "axis(2, las = 2)\n",
    "dev.off()"
   ]
  },
  {
   "cell_type": "code",
   "execution_count": null,
   "id": "4cac3b76",
   "metadata": {},
   "outputs": [],
   "source": [
    "id_b = paste0(id_s, \"_b\")\n",
    "b_nms = choose_genes_from_clust(id_b, id, \n",
    "        nms_per_clust = 3, nms_thresh = 3, \n",
    "        ord = \"max.col\", bad_genes = bad_genes,\n",
    "        must_haves = c(\"Gata2\", \"Car1\", \"Klf1\", \"Cd34\", \"Ifitm1\", \"Cdh5\", \"Kdr\", \"Cxcl12\", \"Upk3b\", \"Msln\", \"Igfbp5\"))\n",
    "length(b_nms)\n",
    "#"
   ]
  },
  {
   "cell_type": "code",
   "execution_count": null,
   "id": "a301644e",
   "metadata": {},
   "outputs": [],
   "source": [
    "b_lfp = log2(scdb_mc(id_b)@mc_fp)\n",
    "colnames(b_lfp) = ni_mc\n",
    "IM = b_lfp[b_nms,]\n",
    "IM = IM[, order(mc2lin[ colnames(IM)])]\n",
    "IM = IM[ order(max.col(IM)),]\n",
    "b_nms = rownames(IM)\n",
    "#write.table(rev(b_nms), quote=F, row.names = F, file = paste0(outdir, \"/ni_genes.txt\"))"
   ]
  },
  {
   "cell_type": "code",
   "execution_count": null,
   "id": "a9dee2c1",
   "metadata": {},
   "outputs": [],
   "source": [
    "b_nms = rev(read.table(paste0(outdir, \"/ni_genes.txt\"), h=T, stringsAsFactors = F)[[1]])\n",
    "IM = b_lfp[b_nms,]\n",
    "IM = IM[, order(mc2lin[ colnames(IM)])]\n",
    "image.2(IM, b=T, vct = factor(mc2lin[ colnames(IM)], levels = ni_pops)); box()"
   ]
  },
  {
   "cell_type": "markdown",
   "id": "91be9b8d",
   "metadata": {},
   "source": [
    "invisible(plot_two_genes_fp(id_s, \"Col1a1\", \"Dcn\"))\n",
    "#invisible(plot_two_mc_fp(id_s, \"174\", \"173\"))"
   ]
  },
  {
   "cell_type": "code",
   "execution_count": null,
   "id": "3cc38129",
   "metadata": {},
   "outputs": [],
   "source": [
    "IM = foc[b_nms, ni_cells]\n",
    "#vct = factor(sin_cl@mc[ colnames(IM)], levels = names(sort(mc2lin[ ni_mc)])); names(vct) = colnames(IM)\n",
    "vct = factor(sin_names[ colnames(IM)], levels = ni_pops); names(vct) = colnames(IM)\n",
    "IM = IM[, order(vct)]\n",
    "\n",
    "pdf(paste0(outdir, \"/FigS1B.pdf\"), height = 5, width = 8)\n",
    "par(mar = c(0.5,7,0,0), fig = c(0,0.9,0.1,1))\n",
    "image.2(IM, col = genes_shades, vct = vct[ colnames(IM)], annotate = \"rows\"); box()\n",
    "par(mar = c(0,7,0,0), fig = c(0,0.9,0,0.1), new = T)\n",
    "image(matrix(seq_len(ncol(IM))), axes = F, col = sin_cl@colors[ sin_cl@mc[ colnames(IM)]]); box()\n",
    "par(mar = c(0.5,3,0,0), fig = c(0.9,1,0.1,0.3), new = T)\n",
    "ax = seq(0, max(IM), length.out = length(genes_shades))\n",
    "image(y = ax, z = t(ax), axes = F, col = genes_shades); box()\n",
    "axis(2, las = 2)\n",
    "dev.off()"
   ]
  },
  {
   "cell_type": "code",
   "execution_count": null,
   "id": "c104d7c0-3d75-4454-9ad1-f7d396438859",
   "metadata": {},
   "outputs": [],
   "source": [
    "png(paste0(outdir, \"/FigS1B.png\"), height = 1000, width = 1000)\n",
    "par(mar = rep(0,4))\n",
    "image.2(IM, col = genes_shades, annotate = \"none\"); \n",
    "dev.off()\n",
    "\n",
    "IM_empty = IM\n",
    "IM_empty[!is.na(IM_empty)] = NA\n",
    "pdf(paste0(outdir, \"/FigS1B_reduced.pdf\"), height = 5, width = 8)\n",
    "par(mar = c(0.5,7,0,0), fig = c(0,0.9,0.1,1))\n",
    "image.2(IM_empty, col = genes_shades, vct = vct[ colnames(IM)], annotate = \"rows\", zlim = c(0,1)); box()\n",
    "par(mar = c(0,7,0,0), fig = c(0,0.9,0,0.1), new = T)\n",
    "image(matrix(seq_len(ncol(IM))), axes = F, col = sin_cl@colors[ sin_cl@mc[ colnames(IM)]]); box()\n",
    "par(mar = c(0.5,3,0,0), fig = c(0.9,1,0.1,0.3), new = T)\n",
    "ax = seq(0, max(IM), length.out = length(genes_shades))\n",
    "image(y = ax, z = t(ax), axes = F, col = genes_shades); box()\n",
    "axis(2, las = 2)\n",
    "dev.off()"
   ]
  },
  {
   "cell_type": "code",
   "execution_count": null,
   "id": "3da38bca-2e14-4a18-a430-fe3af12e777b",
   "metadata": {},
   "outputs": [],
   "source": [
    "new_id = \"hemato_clodronate_all\"\n",
    "new_mat = scdb_mat(new_id)\n",
    "new_stats = new_mat@cell_metadata\n",
    "dim(new_stats)"
   ]
  },
  {
   "cell_type": "code",
   "execution_count": null,
   "id": "f1223525-88e1-4c3f-b919-65cc4fd14714",
   "metadata": {},
   "outputs": [],
   "source": [
    "new_cells = rownames(new_stats)[ new_stats$umicount >= 350 & new_stats$mt_frac < 0.25]\n",
    "length(new_cells)"
   ]
  },
  {
   "cell_type": "code",
   "execution_count": null,
   "id": "cfe9c685-25ab-4d8c-9749-5280253a6d16",
   "metadata": {},
   "outputs": [],
   "source": [
    "head(new_stats)\n",
    "table(new_stats[ new_cells, \"Tissue\"])"
   ]
  },
  {
   "cell_type": "code",
   "execution_count": null,
   "id": "0fd74bc8-4247-49da-b31c-6df80612647e",
   "metadata": {},
   "outputs": [],
   "source": [
    "new_umis = read_large_umis(new_id, cells = new_cells)\n",
    "dim(new_umis)"
   ]
  },
  {
   "cell_type": "code",
   "execution_count": null,
   "id": "b0aaa34f-975c-419a-a006-e69badaa4ffe",
   "metadata": {},
   "outputs": [],
   "source": [
    "markers = names(scdb_gset(id)@gene_set)\n",
    "length(markers)"
   ]
  },
  {
   "cell_type": "code",
   "execution_count": null,
   "id": "37d39249-d789-4b59-9f40-7b3516bfbd27",
   "metadata": {},
   "outputs": [],
   "source": [
    "shared_genes = intersect(rownames(sin_umis), rownames(new_umis))\n",
    "length(shared_genes)\n",
    "\n",
    "both_umis = cbind(sin_umis[ shared_genes,], new_umis[ shared_genes,])"
   ]
  },
  {
   "cell_type": "code",
   "execution_count": null,
   "id": "f5b1d272-7011-4f93-a152-8dd9606e0a4b",
   "metadata": {},
   "outputs": [],
   "source": [
    "venn(good_cells, colnames(both_umis))\n",
    "venn(markers, rownames(both_umis))"
   ]
  },
  {
   "cell_type": "code",
   "execution_count": null,
   "id": "e28fb246-eb33-4f30-9482-1a164745406d",
   "metadata": {},
   "outputs": [],
   "source": [
    "clusts = proj_sc_on_clusts(umis = both_umis, new_cells = new_cells, old_cells = good_cells, clusts = sin_cl@mc[ good_cells], \n",
    "                           markers = intersect(shared_genes, markers))\n",
    "table(clusts)"
   ]
  },
  {
   "cell_type": "code",
   "execution_count": null,
   "id": "d051c9ff-fc4e-4339-9830-29703f49a552",
   "metadata": {},
   "outputs": [],
   "source": [
    "new_dist = table(new_stats[ new_cells, \"Tissue\"],\n",
    "                 factor(color2name[ sin_cl@colors[ clusts]], levels = lin_ord))\n",
    "new_dist"
   ]
  },
  {
   "cell_type": "code",
   "execution_count": null,
   "id": "d9cd2366-3078-45a5-a328-8cdd0f575f4c",
   "metadata": {},
   "outputs": [],
   "source": [
    "new_n = new_dist / rowSums(new_dist)\n",
    "barplot(t(new_n), col = name2color[ colnames(new_n)], axes = F)\n",
    "axis(2, las = 2)\n",
    "par(mar = c(10,10,0,0))\n",
    "image.2(new_n, col = colorRampPalette(c(\"white\", \"red\"))(1000)); box()"
   ]
  },
  {
   "cell_type": "markdown",
   "id": "6c4fdddc",
   "metadata": {},
   "source": [
    "## Bone analysis"
   ]
  },
  {
   "cell_type": "code",
   "execution_count": null,
   "id": "0ab7f343",
   "metadata": {},
   "outputs": [],
   "source": [
    "id = \"hemato_bone\""
   ]
  },
  {
   "cell_type": "code",
   "execution_count": null,
   "id": "67def10a",
   "metadata": {},
   "outputs": [],
   "source": [
    "id_s = paste0(id, \"_annotated\")\n",
    "#message(\"Loaded a UMI matrix of \", sc_mat@ncells, \" cells and \", sc_mat@ngenes, \" genes.\")\n",
    "\n",
    "message(\"Loading singlets dataset:\")\n",
    "sin_2d = scdb_mc2d(id); sin_cl = scdb_mc(id_s); sin_mat = scdb_mat(id)\n",
    "lfp = log2(sin_cl@mc_fp)\n",
    "message(\"Loaded a metacell object of \", length(sin_cl@mc), \" singlets. Total of \", length(table(sin_cl@mc)), \" metacells.\")\n"
   ]
  },
  {
   "cell_type": "code",
   "execution_count": null,
   "id": "438ae886",
   "metadata": {},
   "outputs": [],
   "source": [
    "message(\"mc contains the assignment of cell to metacell\")\n",
    "head(sin_cl@mc)\n",
    "\n",
    "message(\"colors assigns a color label to each metacell, such that each color denotes one annotated cell type or state\")\n",
    "head(sin_cl@colors)\n",
    "\n",
    "message(\"color_key maps each color to its annotation\")\n",
    "head(sin_cl@color_key)\n",
    "\n",
    "message(\"It is useful to create two-sided directories that allow mapping from color to annotation and from annotation to color\")\n",
    "color_scheme = sin_cl@color_key\n",
    "color2name = as.vector(color_scheme$group); names(color2name) = color_scheme$color\n",
    "name2color = as.vector(color_scheme$color); names(name2color) = color_scheme$group\n",
    "\n",
    "message(\"Now we can assign each cell with its annotation\")\n",
    "sin_names = color2name[ sin_cl@colors[ sin_cl@mc]]; names(sin_names) = names(sin_cl@mc)\n",
    "\n",
    "as.matrix(table(sin_names))\n"
   ]
  },
  {
   "cell_type": "code",
   "execution_count": null,
   "id": "4fb5568a",
   "metadata": {},
   "outputs": [],
   "source": [
    "message(\"In addition, metadata per cell can be extracted from the mat object\")\n",
    "sin_stats = sin_mat@cell_metadata[names(sin_cl@mc),]\n",
    "sin_stats[ sample(rownames(sin_stats), 5),]"
   ]
  },
  {
   "cell_type": "code",
   "execution_count": null,
   "id": "50957d3a",
   "metadata": {},
   "outputs": [],
   "source": [
    "annotations = as.matrix(read.delim(paste0(\"config/\", id, \"_lin-ord.txt\"), stringsAsFactor=F, h=T))[,1]\n",
    "lin_ord = annotations\n",
    "lin_ord"
   ]
  },
  {
   "cell_type": "code",
   "execution_count": null,
   "id": "88e3d5b3",
   "metadata": {},
   "outputs": [],
   "source": [
    "mc2lin = factor(color2name[ sin_cl@colors], levels = lin_ord); \n",
    "names(mc2lin) = seq_along(mc2lin)\n",
    "mc_ord = order(mc2lin)\n",
    "\n",
    "lfp = log2(sin_cl@mc_fp)\n",
    "nms = choose_genes_from_clust(mc_id = id_s,      # the unique id of the mc object\n",
    "                              mat_id = id_s,     # the unique id of the mat object\n",
    "                              nms_per_clust = 2, # number of differential genes per metacell\n",
    "                              nms_thresh = 2)  # minimum threshold for gene enrichment\n",
    "\n",
    "IM = lfp[ nms, mc_ord]\n",
    "IM = IM[ order(max.col(IM)),]\n",
    "\n",
    "image.2(IM, balance=T, vct = mc2lin[ colnames(IM)])\n",
    "box()"
   ]
  },
  {
   "cell_type": "code",
   "execution_count": null,
   "id": "7d8e7259",
   "metadata": {},
   "outputs": [],
   "source": [
    "table(sin_names)\n",
    "bad_pops = \"Mix\"\n",
    "good_pops = setdiff(lin_ord, bad_pops)\n",
    "good_cells = names(sin_names)[ sin_names %in% good_pops]"
   ]
  },
  {
   "cell_type": "code",
   "execution_count": null,
   "id": "169a34c4",
   "metadata": {},
   "outputs": [],
   "source": [
    "pdf(paste0(outdir, \"/Fig1E.pdf\"), useDingbats = F)\n",
    "plot.2(sin_2d@sc_x[ good_cells], sin_2d@sc_y[ good_cells], col = sin_cl@colors[ sin_cl@mc[ good_cells]])\n",
    "dev.off()\n",
    "\n",
    "pdf(paste0(outdir, \"/Fig1E_legend.pdf\"), useDingbats = F)\n",
    "plot.empty()\n",
    "legend(\"topleft\", good_pops, pch = 20, pt.cex = 2, col = name2color[ good_pops])\n",
    "dev.off()\n"
   ]
  },
  {
   "cell_type": "code",
   "execution_count": null,
   "id": "41d55abe",
   "metadata": {},
   "outputs": [],
   "source": [
    "comb = paste0(sin_stats$Cell_type, \"@\", sin_stats$Age)\n",
    "comb = gsub(\"\\\\+\", \"\", comb)\n",
    "names(comb) = rownames(sin_stats)\n",
    "sample_dist = table(comb[ good_cells], factor(sin_names[ good_cells], levels = good_pops))\n",
    "dist_n = sample_dist / rowSums(sample_dist)\n",
    "\n",
    "l = names(table(sin_stats[ good_cells, \"Cell_type\"]))\n",
    "for (c in setdiff(l, \"CD150\")) {\n",
    "    pdf(paste0(outdir, \"/bone_sample_dist_\", c, \".pdf\"), height = 5, width = 4)\n",
    "    X = dist_n[ grep(paste0(c, \"@\"), rownames(dist_n)),]\n",
    "    rownames(X) = vecsplit(rownames(X), \"@\", 2)\n",
    "    barplot(t(X) * 100, col = name2color[ colnames(sample_dist)], main = c, axes = F)\n",
    "    axis(2, las = 2)\n",
    "    dev.off()\n",
    "}"
   ]
  },
  {
   "cell_type": "code",
   "execution_count": null,
   "id": "4b0bcfa0",
   "metadata": {},
   "outputs": [],
   "source": [
    "c = \"CD150\"\n",
    "pdf(paste0(outdir, \"/bone_sample_dist_\", c, \".pdf\"), height = 5, width = 2)\n",
    "X = dist_n[ grep(paste0(c, \"@\"), rownames(dist_n)),]\n",
    "barplot(matrix(X) * 100, col = name2color[ colnames(sample_dist)], main = c, axes = F)\n",
    "axis(2, las = 2)\n",
    "dev.off()\n"
   ]
  },
  {
   "cell_type": "code",
   "execution_count": null,
   "id": "5020ea9a",
   "metadata": {},
   "outputs": [],
   "source": [
    "table(comb)"
   ]
  },
  {
   "cell_type": "code",
   "execution_count": null,
   "id": "7f9fc6a1",
   "metadata": {},
   "outputs": [],
   "source": [
    "X"
   ]
  },
  {
   "cell_type": "code",
   "execution_count": null,
   "id": "dca52dba",
   "metadata": {
    "scrolled": true
   },
   "outputs": [],
   "source": [
    "im_cells = names(scdb_mc(paste0(id, \"_a\"))@mc)\n",
    "ni_cells = names(scdb_mc(paste0(id, \"_b\"))@mc)\n",
    "length(im_cells)\n",
    "length(ni_cells)\n",
    "\n",
    "im_mc = names(table(sin_cl@mc[ im_cells]))\n",
    "ni_mc = names(table(sin_cl@mc[ ni_cells]))\n",
    "\n",
    "im_pops = intersect(good_pops, names(table(sin_names[ im_cells])))\n",
    "ni_pops = intersect(good_pops, names(table(sin_names[ ni_cells])))"
   ]
  },
  {
   "cell_type": "code",
   "execution_count": null,
   "id": "74e49d66",
   "metadata": {},
   "outputs": [],
   "source": [
    "sin_umis = read_large_umis(id, cells = good_cells)\n",
    "sin_n = sweep(sin_umis, 2, colSums(sin_umis), \"/\") * 1000\n",
    "foc = log(1 + 7 * sin_n)"
   ]
  },
  {
   "cell_type": "code",
   "execution_count": null,
   "id": "40e3c5eb",
   "metadata": {},
   "outputs": [],
   "source": [
    "bad_genes = grep(\"Gm[0-9].|Mir|-ps|Rpl|Rps|Ig|Jchain|Ftl1|Malat1\", sin_mat@genes, v=T)\n"
   ]
  },
  {
   "cell_type": "code",
   "execution_count": null,
   "id": "35ad1028",
   "metadata": {},
   "outputs": [],
   "source": [
    "id_a = paste0(id, \"_a\")\n",
    "a_nms = choose_genes_from_clust(id_a, id, \n",
    "        nms_per_clust = 3, nms_thresh = 3, \n",
    "        ord = \"max.col\", bad_genes = bad_genes,\n",
    "        must_haves = c(\"Vpreb1\", \"Trbc2\", \"Cd3e\", \"Ccr2\", \"Mcpt4\"))\n",
    "length(a_nms)\n",
    "#"
   ]
  },
  {
   "cell_type": "code",
   "execution_count": null,
   "id": "6e18e1ae",
   "metadata": {},
   "outputs": [],
   "source": [
    "a_lfp = log2(scdb_mc(id_a)@mc_fp)\n",
    "colnames(a_lfp) = im_mc\n",
    "IM = a_lfp[a_nms,]\n",
    "IM = IM[, order(mc2lin[ colnames(IM)])]\n",
    "IM = IM[ order(max.col(IM)),]\n",
    "a_nms = rownames(IM)\n",
    "#write.table(rev(a_nms), quote=F, row.names = F, file = paste0(outdir, \"/bone_im_genes.txt\"))"
   ]
  },
  {
   "cell_type": "code",
   "execution_count": null,
   "id": "e67e23fe",
   "metadata": {},
   "outputs": [],
   "source": [
    "a_nms = rev(read.table(paste0(outdir, \"/bone_im_genes.txt\"), h=T, stringsAsFactors = F)[[1]])\n",
    "IM = a_lfp[a_nms,]\n",
    "IM = IM[, order(mc2lin[ colnames(IM)])]\n",
    "image.2(IM, b=T, vct = factor(mc2lin[ colnames(IM)], levels = im_pops)); box()"
   ]
  },
  {
   "cell_type": "code",
   "execution_count": null,
   "id": "7f8d0d04",
   "metadata": {},
   "outputs": [],
   "source": [
    "genes_shades = colorRampPalette(c(\"white\", \n",
    "        \"orange\", \"tomato\", \"mediumorchid4\", \"midnightblue\"))(1000)"
   ]
  },
  {
   "cell_type": "code",
   "execution_count": null,
   "id": "bc9a95e8",
   "metadata": {},
   "outputs": [],
   "source": [
    "IM = foc[a_nms, im_cells]\n",
    "vct = factor(sin_names[ colnames(IM)], levels = im_pops); names(vct) = colnames(IM)\n",
    "IM = IM[, order(vct)]\n",
    "\n",
    "pdf(paste0(outdir, \"/FigS1C.pdf\"), height = 5, width = 8)\n",
    "par(mar = c(0.5,7,0,0), fig = c(0,0.9,0.1,1))\n",
    "image.2(IM, col = genes_shades, vct = vct[ colnames(IM)], annotate = \"rows\"); box()\n",
    "par(mar = c(0,7,0,0), fig = c(0,0.9,0,0.1), new = T)\n",
    "image(matrix(seq_len(ncol(IM))), axes = F, col = sin_cl@colors[ sin_cl@mc[ colnames(IM)]]); box()\n",
    "par(mar = c(0.5,3,0,0), fig = c(0.9,1,0.1,0.3), new = T)\n",
    "ax = seq(0, max(IM), length.out = length(genes_shades))\n",
    "image(y = ax, z = t(ax), axes = F, col = genes_shades); box()\n",
    "axis(2, las = 2)\n",
    "dev.off()"
   ]
  },
  {
   "cell_type": "code",
   "execution_count": null,
   "id": "66f6c4a6-f867-4181-896f-8231e47c9cae",
   "metadata": {},
   "outputs": [],
   "source": [
    "png(paste0(outdir, \"/FigS1C.png\"), height = 1000, width = 1000)\n",
    "par(mar = rep(0,4))\n",
    "image.2(IM, col = genes_shades, annotate = \"none\"); \n",
    "dev.off()\n",
    "\n",
    "IM_empty = IM\n",
    "IM_empty[!is.na(IM_empty)] = NA\n",
    "pdf(paste0(outdir, \"/FigS1C_reduced.pdf\"), height = 5, width = 8)\n",
    "par(mar = c(0.5,7,0,0), fig = c(0,0.9,0.1,1))\n",
    "image.2(IM_empty, col = genes_shades, vct = vct[ colnames(IM)], annotate = \"rows\", zlim = c(0,1)); box()\n",
    "par(mar = c(0,7,0,0), fig = c(0,0.9,0,0.1), new = T)\n",
    "image(matrix(seq_len(ncol(IM))), axes = F, col = sin_cl@colors[ sin_cl@mc[ colnames(IM)]]); box()\n",
    "par(mar = c(0.5,3,0,0), fig = c(0.9,1,0.1,0.3), new = T)\n",
    "ax = seq(0, max(IM), length.out = length(genes_shades))\n",
    "image(y = ax, z = t(ax), axes = F, col = genes_shades); box()\n",
    "axis(2, las = 2)\n",
    "dev.off()"
   ]
  },
  {
   "cell_type": "code",
   "execution_count": null,
   "id": "59ffd5a2-7e2e-4f45-a9ec-bf19b81c11ab",
   "metadata": {},
   "outputs": [],
   "source": [
    "which(color2name[ sin_cl@colors] == \"NK/T\")"
   ]
  },
  {
   "cell_type": "code",
   "execution_count": null,
   "id": "41a1925d-4e44-4b61-847f-109a65eb5f19",
   "metadata": {},
   "outputs": [],
   "source": [
    "head(sort(lfp[,44],T),20)"
   ]
  },
  {
   "cell_type": "code",
   "execution_count": null,
   "id": "1bdd04e3",
   "metadata": {},
   "outputs": [],
   "source": [
    "id_b = paste0(id, \"_b\")\n",
    "b_nms = choose_genes_from_clust(id_b, id, \n",
    "        nms_per_clust = 3, nms_thresh = 3, \n",
    "        ord = \"max.col\", bad_genes = bad_genes,\n",
    "        must_haves = c(\"Gata2\", \"Car1\", \"Klf1\", \"Cd34\", \"Ifitm1\", \"Cdh5\", \"Kdr\", \"Cxcl12\", \"Hlf\"))\n",
    "length(b_nms)\n",
    "#"
   ]
  },
  {
   "cell_type": "code",
   "execution_count": null,
   "id": "afb98ce3",
   "metadata": {},
   "outputs": [],
   "source": [
    "b_lfp = log2(scdb_mc(id_b)@mc_fp)\n",
    "colnames(b_lfp) = ni_mc\n",
    "IM = b_lfp[b_nms,]\n",
    "IM = IM[, order(mc2lin[ colnames(IM)])]\n",
    "IM = IM[ order(max.col(IM)),]\n",
    "b_nms = rownames(IM)\n",
    "#write.table(rev(b_nms), quote=F, row.names = F, file = paste0(outdir, \"/bone_ni_genes.txt\"))"
   ]
  },
  {
   "cell_type": "code",
   "execution_count": null,
   "id": "1992fb2b",
   "metadata": {},
   "outputs": [],
   "source": [
    "b_nms = rev(read.table(paste0(outdir, \"/bone_ni_genes.txt\"), h=T, stringsAsFactors = F)[[1]])\n",
    "IM = b_lfp[b_nms,]\n",
    "IM = IM[, order(mc2lin[ colnames(IM)])]\n",
    "image.2(IM, b=T, vct = factor(mc2lin[ colnames(IM)], levels = ni_pops)); box()"
   ]
  },
  {
   "cell_type": "markdown",
   "id": "b3014907",
   "metadata": {},
   "source": [
    "invisible(plot_two_genes_fp(id_s, \"Col1a1\", \"Dcn\"))\n",
    "#invisible(plot_two_mc_fp(id_s, \"174\", \"173\"))"
   ]
  },
  {
   "cell_type": "code",
   "execution_count": null,
   "id": "486ca670",
   "metadata": {},
   "outputs": [],
   "source": [
    "IM = foc[b_nms, ni_cells]\n",
    "#vct = factor(sin_cl@mc[ colnames(IM)], levels = names(sort(mc2lin[ ni_mc)])); names(vct) = colnames(IM)\n",
    "vct = factor(sin_names[ colnames(IM)], levels = ni_pops); names(vct) = colnames(IM)\n",
    "IM = IM[, order(vct)]\n",
    "\n",
    "pdf(paste0(outdir, \"/FigS1D.pdf\"), height = 5, width = 8)\n",
    "par(mar = c(0.5,7,0,0), fig = c(0,0.9,0.1,1))\n",
    "image.2(IM, col = genes_shades, vct = vct[ colnames(IM)], annotate = \"rows\"); box()\n",
    "par(mar = c(0,7,0,0), fig = c(0,0.9,0,0.1), new = T)\n",
    "image(matrix(seq_len(ncol(IM))), axes = F, col = sin_cl@colors[ sin_cl@mc[ colnames(IM)]]); box()\n",
    "par(mar = c(0.5,3,0,0), fig = c(0.9,1,0.1,0.3), new = T)\n",
    "ax = seq(0, max(IM), length.out = length(genes_shades))\n",
    "image(y = ax, z = t(ax), axes = F, col = genes_shades); box()\n",
    "axis(2, las = 2)\n",
    "dev.off()"
   ]
  },
  {
   "cell_type": "code",
   "execution_count": null,
   "id": "c9b31c6e-aa9e-4d54-bb5d-728b6dc86ad1",
   "metadata": {},
   "outputs": [],
   "source": [
    "png(paste0(outdir, \"/FigS1D.png\"), height = 1000, width = 1000)\n",
    "par(mar = rep(0,4))\n",
    "image.2(IM, col = genes_shades, annotate = \"none\"); \n",
    "dev.off()\n",
    "\n",
    "IM_empty = IM\n",
    "IM_empty[!is.na(IM_empty)] = NA\n",
    "pdf(paste0(outdir, \"/FigS1D_reduced.pdf\"), height = 5, width = 8)\n",
    "par(mar = c(0.5,7,0,0), fig = c(0,0.9,0.1,1))\n",
    "image.2(IM_empty, col = genes_shades, vct = vct[ colnames(IM)], annotate = \"rows\", zlim = c(0,1)); box()\n",
    "par(mar = c(0,7,0,0), fig = c(0,0.9,0,0.1), new = T)\n",
    "image(matrix(seq_len(ncol(IM))), axes = F, col = sin_cl@colors[ sin_cl@mc[ colnames(IM)]]); box()\n",
    "par(mar = c(0.5,3,0,0), fig = c(0.9,1,0.1,0.3), new = T)\n",
    "ax = seq(0, max(IM), length.out = length(genes_shades))\n",
    "image(y = ax, z = t(ax), axes = F, col = genes_shades); box()\n",
    "axis(2, las = 2)\n",
    "dev.off()"
   ]
  },
  {
   "cell_type": "code",
   "execution_count": null,
   "id": "30312194-800d-41ef-826b-23b5626c0359",
   "metadata": {},
   "outputs": [],
   "source": [
    "shared = intersect(names(sin_names), colnames(sin_n))\n",
    "\n",
    "y = sort(tapply(sin_n[\"Il1b\", shared], sin_names[ shared], mean))\n",
    "pdf(paste0(outdir, \"/Il1b_expression_bones.pdf\"), height = 5, width = 7)\n",
    "barplot(y, las = 2, col = name2color[ names(y)], main = \"Il1b\")\n",
    "dev.off()"
   ]
  },
  {
   "cell_type": "code",
   "execution_count": null,
   "id": "03441438-10cb-4f00-9c5d-0fd743cb3246",
   "metadata": {},
   "outputs": [],
   "source": [
    "setdiff(lin_ord, names(y))"
   ]
  },
  {
   "cell_type": "code",
   "execution_count": null,
   "id": "75002164-f421-4df1-915c-c462c7783a01",
   "metadata": {},
   "outputs": [],
   "source": [
    "quantile(colSums(sin_umis))"
   ]
  }
 ],
 "metadata": {
  "kernelspec": {
   "display_name": "R [conda env:my_env_metacell]",
   "language": "R",
   "name": "conda-env-my_env_metacell-r"
  },
  "language_info": {
   "codemirror_mode": "r",
   "file_extension": ".r",
   "mimetype": "text/x-r-source",
   "name": "R",
   "pygments_lexer": "r",
   "version": "4.2.2"
  }
 },
 "nbformat": 4,
 "nbformat_minor": 5
}
