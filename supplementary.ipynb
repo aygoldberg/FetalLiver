{
 "cells": [
  {
   "cell_type": "code",
   "execution_count": 1,
   "id": "c8c4da34-9b17-4743-aa8d-ebbc697876dd",
   "metadata": {},
   "outputs": [
    {
     "data": {
      "text/html": [
       "'/hpc/hub_oudenaarden/agiladi/data/small_projects/scripts/hemato_figures'"
      ],
      "text/latex": [
       "'/hpc/hub\\_oudenaarden/agiladi/data/small\\_projects/scripts/hemato\\_figures'"
      ],
      "text/markdown": [
       "'/hpc/hub_oudenaarden/agiladi/data/small_projects/scripts/hemato_figures'"
      ],
      "text/plain": [
       "[1] \"/hpc/hub_oudenaarden/agiladi/data/small_projects/scripts/hemato_figures\""
      ]
     },
     "metadata": {},
     "output_type": "display_data"
    }
   ],
   "source": [
    "getwd()"
   ]
  },
  {
   "cell_type": "code",
   "execution_count": 2,
   "id": "1d6cff7b-6c3d-4b36-bcac-d8b003b623ee",
   "metadata": {},
   "outputs": [],
   "source": [
    "setwd(\"../..\")"
   ]
  },
  {
   "cell_type": "code",
   "execution_count": 3,
   "id": "545e1b87-0212-4269-a915-3140e08a9c90",
   "metadata": {},
   "outputs": [
    {
     "name": "stderr",
     "output_type": "stream",
     "text": [
      "Loading required package: reshape2\n",
      "\n",
      "Warning message:\n",
      "“package ‘reshape2’ was built under R version 4.2.3”\n",
      "Loading required package: plyr\n",
      "\n",
      "Warning message:\n",
      "“package ‘plyr’ was built under R version 4.2.3”\n",
      "Loading required package: plotrix\n",
      "\n",
      "Warning message in library(package, lib.loc = lib.loc, character.only = TRUE, logical.return = TRUE, :\n",
      "“there is no package called ‘plotrix’”\n",
      "\n",
      "Attaching package: ‘metacell’\n",
      "\n",
      "\n",
      "The following objects are masked _by_ ‘.GlobalEnv’:\n",
      "\n",
      "    mc_colorize_sup_hierarchy, mcell_mat_rpt_cor_anchors,\n",
      "    mcell_mc_export_tab\n",
      "\n",
      "\n",
      "initializing scdb to saved_work\n",
      "\n"
     ]
    }
   ],
   "source": [
    "source(\"../tuft/scripts/metacell_functions.r\")\n",
    "\n",
    "library(metacell)\n",
    "\n",
    "scdb_init(\"saved_work\")"
   ]
  },
  {
   "cell_type": "code",
   "execution_count": 4,
   "id": "98fe5ce5-38a3-45f5-8e7e-66b31c1e8c40",
   "metadata": {},
   "outputs": [],
   "source": [
    "outdir = \"figures//sup_figure/\""
   ]
  },
  {
   "cell_type": "code",
   "execution_count": 5,
   "id": "d151fa87-d851-4797-a138-df66741042ee",
   "metadata": {},
   "outputs": [
    {
     "name": "stderr",
     "output_type": "stream",
     "text": [
      "14629 liver cells\n",
      "\n",
      "8438 bone cells\n",
      "\n",
      "8459 megk cells\n",
      "\n",
      "3334 clodronate cells\n",
      "\n",
      "8329 neutrophils\n",
      "\n"
     ]
    }
   ],
   "source": [
    "liver_cells = names(scdb_mc(\"hemato_liver_annotated\")@mc)\n",
    "message(length(liver_cells), \" liver cells\")\n",
    "    \n",
    "bone_cells  = names(scdb_mc(\"hemato_bone_annotated\")@mc)\n",
    "message(length(bone_cells), \" bone cells\")\n",
    "\n",
    "megk_cells  = names(scdb_mc(\"hemato_liver_megk\")@mc)\n",
    "message(length(megk_cells), \" megk cells\")\n",
    "\n",
    "clodronate_cells  = names(scdb_mc(\"hemato_clodronate_f\")@mc)\n",
    "message(length(clodronate_cells), \" clodronate cells\")\n",
    "\n",
    "neut_cells  = names(scdb_mc(\"hemato_neut_f\")@mc)\n",
    "message(length(neut_cells), \" neutrophils\")\n",
    "\n",
    "mle_res = read.delim(\"annotations/mle_res_750u.txt\", stringsAsFactors = F, row.names = 1)\n",
    "mle_res_megk = read.delim(\"annotations/mle_res_megK.txt\", stringsAsFactors = F, row.names=1)\n"
   ]
  },
  {
   "cell_type": "code",
   "execution_count": 6,
   "id": "4baa196d-e202-407b-93af-e2322e1a0dc8",
   "metadata": {},
   "outputs": [
    {
     "data": {
      "text/html": [
       "38803"
      ],
      "text/latex": [
       "38803"
      ],
      "text/markdown": [
       "38803"
      ],
      "text/plain": [
       "[1] 38803"
      ]
     },
     "metadata": {},
     "output_type": "display_data"
    }
   ],
   "source": [
    "cells = unique(c(liver_cells, bone_cells, megk_cells, clodronate_cells, neut_cells, rownames(mle_res), rownames(mle_res_megk)))\n",
    "length(cells)"
   ]
  },
  {
   "cell_type": "code",
   "execution_count": 7,
   "id": "37bbd118-d089-476b-86db-e8d89e40efaa",
   "metadata": {},
   "outputs": [],
   "source": [
    "alls = c(\"hemato_all\", \"hemato_clodronate_all\", \"hemato_liver_all\", \"hemato_neut_all\")"
   ]
  },
  {
   "cell_type": "code",
   "execution_count": 8,
   "id": "1c001c78-1423-44e5-852b-5f6016e4ab76",
   "metadata": {},
   "outputs": [
    {
     "data": {
      "text/html": [
       "<table class=\"dataframe\">\n",
       "<caption>A data.frame: 6 × 30</caption>\n",
       "<thead>\n",
       "\t<tr><th></th><th scope=col>plate</th><th scope=col>cell</th><th scope=col>barcode</th><th scope=col>umicount</th><th scope=col>mt_frac</th><th scope=col>Seq.Batch.ID</th><th scope=col>Date.of.sequencing</th><th scope=col>Batch.Set.ID</th><th scope=col>Owner</th><th scope=col>Date.of.sort</th><th scope=col>⋯</th><th scope=col>FACS.machine</th><th scope=col>Wells</th><th scope=col>condition</th><th scope=col>Tissue</th><th scope=col>Age</th><th scope=col>Cell_type</th><th scope=col>Replicate</th><th scope=col>Analysis</th><th scope=col>Include</th><th scope=col>amp_batch_id</th></tr>\n",
       "\t<tr><th></th><th scope=col>&lt;fct&gt;</th><th scope=col>&lt;fct&gt;</th><th scope=col>&lt;fct&gt;</th><th scope=col>&lt;dbl&gt;</th><th scope=col>&lt;dbl&gt;</th><th scope=col>&lt;chr&gt;</th><th scope=col>&lt;chr&gt;</th><th scope=col>&lt;chr&gt;</th><th scope=col>&lt;chr&gt;</th><th scope=col>&lt;chr&gt;</th><th scope=col>⋯</th><th scope=col>&lt;chr&gt;</th><th scope=col>&lt;chr&gt;</th><th scope=col>&lt;chr&gt;</th><th scope=col>&lt;chr&gt;</th><th scope=col>&lt;chr&gt;</th><th scope=col>&lt;chr&gt;</th><th scope=col>&lt;int&gt;</th><th scope=col>&lt;chr&gt;</th><th scope=col>&lt;chr&gt;</th><th scope=col>&lt;dbl&gt;</th></tr>\n",
       "</thead>\n",
       "<tbody>\n",
       "\t<tr><th scope=row>AB1000_AACAGCT</th><td>AB1000</td><td>AB1000_AACAGCT</td><td>AACAGCT</td><td>1596</td><td>0.04260652</td><td>SB013</td><td>15/02/2024</td><td>Maiia-BM-P0</td><td>Maiia</td><td>06/12/2023</td><td>⋯</td><td>S6</td><td>ALL</td><td></td><td>Bones</td><td>P0</td><td>CD45-</td><td>4</td><td></td><td>Models</td><td>1</td></tr>\n",
       "\t<tr><th scope=row>AB1000_AACATCG</th><td>AB1000</td><td>AB1000_AACATCG</td><td>AACATCG</td><td>1290</td><td>0.09379845</td><td>SB013</td><td>15/02/2024</td><td>Maiia-BM-P0</td><td>Maiia</td><td>06/12/2023</td><td>⋯</td><td>S6</td><td>ALL</td><td></td><td>Bones</td><td>P0</td><td>CD45-</td><td>4</td><td></td><td>Models</td><td>1</td></tr>\n",
       "\t<tr><th scope=row>AB1000_AACCTTG</th><td>AB1000</td><td>AB1000_AACCTTG</td><td>AACCTTG</td><td>2806</td><td>0.09337135</td><td>SB013</td><td>15/02/2024</td><td>Maiia-BM-P0</td><td>Maiia</td><td>06/12/2023</td><td>⋯</td><td>S6</td><td>ALL</td><td></td><td>Bones</td><td>P0</td><td>CD45-</td><td>4</td><td></td><td>Models</td><td>1</td></tr>\n",
       "\t<tr><th scope=row>AB1000_AACGGTG</th><td>AB1000</td><td>AB1000_AACGGTG</td><td>AACGGTG</td><td> 318</td><td>0.89308176</td><td>SB013</td><td>15/02/2024</td><td>Maiia-BM-P0</td><td>Maiia</td><td>06/12/2023</td><td>⋯</td><td>S6</td><td>ALL</td><td></td><td>Bones</td><td>P0</td><td>CD45-</td><td>4</td><td></td><td>Models</td><td>1</td></tr>\n",
       "\t<tr><th scope=row>AB1000_AACGTTC</th><td>AB1000</td><td>AB1000_AACGTTC</td><td>AACGTTC</td><td>1617</td><td>0.14594929</td><td>SB013</td><td>15/02/2024</td><td>Maiia-BM-P0</td><td>Maiia</td><td>06/12/2023</td><td>⋯</td><td>S6</td><td>ALL</td><td></td><td>Bones</td><td>P0</td><td>CD45-</td><td>4</td><td></td><td>Models</td><td>1</td></tr>\n",
       "\t<tr><th scope=row>AB1000_AACTCGT</th><td>AB1000</td><td>AB1000_AACTCGT</td><td>AACTCGT</td><td> 583</td><td>0.08919383</td><td>SB013</td><td>15/02/2024</td><td>Maiia-BM-P0</td><td>Maiia</td><td>06/12/2023</td><td>⋯</td><td>S6</td><td>ALL</td><td></td><td>Bones</td><td>P0</td><td>CD45-</td><td>4</td><td></td><td>Models</td><td>1</td></tr>\n",
       "</tbody>\n",
       "</table>\n"
      ],
      "text/latex": [
       "A data.frame: 6 × 30\n",
       "\\begin{tabular}{r|lllllllllllllllllllll}\n",
       "  & plate & cell & barcode & umicount & mt\\_frac & Seq.Batch.ID & Date.of.sequencing & Batch.Set.ID & Owner & Date.of.sort & ⋯ & FACS.machine & Wells & condition & Tissue & Age & Cell\\_type & Replicate & Analysis & Include & amp\\_batch\\_id\\\\\n",
       "  & <fct> & <fct> & <fct> & <dbl> & <dbl> & <chr> & <chr> & <chr> & <chr> & <chr> & ⋯ & <chr> & <chr> & <chr> & <chr> & <chr> & <chr> & <int> & <chr> & <chr> & <dbl>\\\\\n",
       "\\hline\n",
       "\tAB1000\\_AACAGCT & AB1000 & AB1000\\_AACAGCT & AACAGCT & 1596 & 0.04260652 & SB013 & 15/02/2024 & Maiia-BM-P0 & Maiia & 06/12/2023 & ⋯ & S6 & ALL &  & Bones & P0 & CD45- & 4 &  & Models & 1\\\\\n",
       "\tAB1000\\_AACATCG & AB1000 & AB1000\\_AACATCG & AACATCG & 1290 & 0.09379845 & SB013 & 15/02/2024 & Maiia-BM-P0 & Maiia & 06/12/2023 & ⋯ & S6 & ALL &  & Bones & P0 & CD45- & 4 &  & Models & 1\\\\\n",
       "\tAB1000\\_AACCTTG & AB1000 & AB1000\\_AACCTTG & AACCTTG & 2806 & 0.09337135 & SB013 & 15/02/2024 & Maiia-BM-P0 & Maiia & 06/12/2023 & ⋯ & S6 & ALL &  & Bones & P0 & CD45- & 4 &  & Models & 1\\\\\n",
       "\tAB1000\\_AACGGTG & AB1000 & AB1000\\_AACGGTG & AACGGTG &  318 & 0.89308176 & SB013 & 15/02/2024 & Maiia-BM-P0 & Maiia & 06/12/2023 & ⋯ & S6 & ALL &  & Bones & P0 & CD45- & 4 &  & Models & 1\\\\\n",
       "\tAB1000\\_AACGTTC & AB1000 & AB1000\\_AACGTTC & AACGTTC & 1617 & 0.14594929 & SB013 & 15/02/2024 & Maiia-BM-P0 & Maiia & 06/12/2023 & ⋯ & S6 & ALL &  & Bones & P0 & CD45- & 4 &  & Models & 1\\\\\n",
       "\tAB1000\\_AACTCGT & AB1000 & AB1000\\_AACTCGT & AACTCGT &  583 & 0.08919383 & SB013 & 15/02/2024 & Maiia-BM-P0 & Maiia & 06/12/2023 & ⋯ & S6 & ALL &  & Bones & P0 & CD45- & 4 &  & Models & 1\\\\\n",
       "\\end{tabular}\n"
      ],
      "text/markdown": [
       "\n",
       "A data.frame: 6 × 30\n",
       "\n",
       "| <!--/--> | plate &lt;fct&gt; | cell &lt;fct&gt; | barcode &lt;fct&gt; | umicount &lt;dbl&gt; | mt_frac &lt;dbl&gt; | Seq.Batch.ID &lt;chr&gt; | Date.of.sequencing &lt;chr&gt; | Batch.Set.ID &lt;chr&gt; | Owner &lt;chr&gt; | Date.of.sort &lt;chr&gt; | ⋯ ⋯ | FACS.machine &lt;chr&gt; | Wells &lt;chr&gt; | condition &lt;chr&gt; | Tissue &lt;chr&gt; | Age &lt;chr&gt; | Cell_type &lt;chr&gt; | Replicate &lt;int&gt; | Analysis &lt;chr&gt; | Include &lt;chr&gt; | amp_batch_id &lt;dbl&gt; |\n",
       "|---|---|---|---|---|---|---|---|---|---|---|---|---|---|---|---|---|---|---|---|---|---|\n",
       "| AB1000_AACAGCT | AB1000 | AB1000_AACAGCT | AACAGCT | 1596 | 0.04260652 | SB013 | 15/02/2024 | Maiia-BM-P0 | Maiia | 06/12/2023 | ⋯ | S6 | ALL | <!----> | Bones | P0 | CD45- | 4 | <!----> | Models | 1 |\n",
       "| AB1000_AACATCG | AB1000 | AB1000_AACATCG | AACATCG | 1290 | 0.09379845 | SB013 | 15/02/2024 | Maiia-BM-P0 | Maiia | 06/12/2023 | ⋯ | S6 | ALL | <!----> | Bones | P0 | CD45- | 4 | <!----> | Models | 1 |\n",
       "| AB1000_AACCTTG | AB1000 | AB1000_AACCTTG | AACCTTG | 2806 | 0.09337135 | SB013 | 15/02/2024 | Maiia-BM-P0 | Maiia | 06/12/2023 | ⋯ | S6 | ALL | <!----> | Bones | P0 | CD45- | 4 | <!----> | Models | 1 |\n",
       "| AB1000_AACGGTG | AB1000 | AB1000_AACGGTG | AACGGTG |  318 | 0.89308176 | SB013 | 15/02/2024 | Maiia-BM-P0 | Maiia | 06/12/2023 | ⋯ | S6 | ALL | <!----> | Bones | P0 | CD45- | 4 | <!----> | Models | 1 |\n",
       "| AB1000_AACGTTC | AB1000 | AB1000_AACGTTC | AACGTTC | 1617 | 0.14594929 | SB013 | 15/02/2024 | Maiia-BM-P0 | Maiia | 06/12/2023 | ⋯ | S6 | ALL | <!----> | Bones | P0 | CD45- | 4 | <!----> | Models | 1 |\n",
       "| AB1000_AACTCGT | AB1000 | AB1000_AACTCGT | AACTCGT |  583 | 0.08919383 | SB013 | 15/02/2024 | Maiia-BM-P0 | Maiia | 06/12/2023 | ⋯ | S6 | ALL | <!----> | Bones | P0 | CD45- | 4 | <!----> | Models | 1 |\n",
       "\n"
      ],
      "text/plain": [
       "               plate  cell           barcode umicount mt_frac    Seq.Batch.ID\n",
       "AB1000_AACAGCT AB1000 AB1000_AACAGCT AACAGCT 1596     0.04260652 SB013       \n",
       "AB1000_AACATCG AB1000 AB1000_AACATCG AACATCG 1290     0.09379845 SB013       \n",
       "AB1000_AACCTTG AB1000 AB1000_AACCTTG AACCTTG 2806     0.09337135 SB013       \n",
       "AB1000_AACGGTG AB1000 AB1000_AACGGTG AACGGTG  318     0.89308176 SB013       \n",
       "AB1000_AACGTTC AB1000 AB1000_AACGTTC AACGTTC 1617     0.14594929 SB013       \n",
       "AB1000_AACTCGT AB1000 AB1000_AACTCGT AACTCGT  583     0.08919383 SB013       \n",
       "               Date.of.sequencing Batch.Set.ID Owner Date.of.sort ⋯\n",
       "AB1000_AACAGCT 15/02/2024         Maiia-BM-P0  Maiia 06/12/2023   ⋯\n",
       "AB1000_AACATCG 15/02/2024         Maiia-BM-P0  Maiia 06/12/2023   ⋯\n",
       "AB1000_AACCTTG 15/02/2024         Maiia-BM-P0  Maiia 06/12/2023   ⋯\n",
       "AB1000_AACGGTG 15/02/2024         Maiia-BM-P0  Maiia 06/12/2023   ⋯\n",
       "AB1000_AACGTTC 15/02/2024         Maiia-BM-P0  Maiia 06/12/2023   ⋯\n",
       "AB1000_AACTCGT 15/02/2024         Maiia-BM-P0  Maiia 06/12/2023   ⋯\n",
       "               FACS.machine Wells condition Tissue Age Cell_type Replicate\n",
       "AB1000_AACAGCT S6           ALL             Bones  P0  CD45-     4        \n",
       "AB1000_AACATCG S6           ALL             Bones  P0  CD45-     4        \n",
       "AB1000_AACCTTG S6           ALL             Bones  P0  CD45-     4        \n",
       "AB1000_AACGGTG S6           ALL             Bones  P0  CD45-     4        \n",
       "AB1000_AACGTTC S6           ALL             Bones  P0  CD45-     4        \n",
       "AB1000_AACTCGT S6           ALL             Bones  P0  CD45-     4        \n",
       "               Analysis Include amp_batch_id\n",
       "AB1000_AACAGCT          Models  1           \n",
       "AB1000_AACATCG          Models  1           \n",
       "AB1000_AACCTTG          Models  1           \n",
       "AB1000_AACGGTG          Models  1           \n",
       "AB1000_AACGTTC          Models  1           \n",
       "AB1000_AACTCGT          Models  1           "
      ]
     },
     "metadata": {},
     "output_type": "display_data"
    },
    {
     "data": {
      "text/html": [
       "<table class=\"dataframe\">\n",
       "<caption>A data.frame: 6 × 30</caption>\n",
       "<thead>\n",
       "\t<tr><th></th><th scope=col>plate</th><th scope=col>cell</th><th scope=col>barcode</th><th scope=col>umicount</th><th scope=col>mt_frac</th><th scope=col>Seq.Batch.ID</th><th scope=col>Date.of.sequencing</th><th scope=col>Batch.Set.ID</th><th scope=col>Owner</th><th scope=col>Date.of.sort</th><th scope=col>⋯</th><th scope=col>FACS.machine</th><th scope=col>Wells</th><th scope=col>condition</th><th scope=col>Tissue</th><th scope=col>Age</th><th scope=col>Cell_type</th><th scope=col>Replicate</th><th scope=col>Analysis</th><th scope=col>Include</th><th scope=col>amp_batch_id</th></tr>\n",
       "\t<tr><th></th><th scope=col>&lt;fct&gt;</th><th scope=col>&lt;fct&gt;</th><th scope=col>&lt;fct&gt;</th><th scope=col>&lt;dbl&gt;</th><th scope=col>&lt;dbl&gt;</th><th scope=col>&lt;chr&gt;</th><th scope=col>&lt;chr&gt;</th><th scope=col>&lt;chr&gt;</th><th scope=col>&lt;chr&gt;</th><th scope=col>&lt;chr&gt;</th><th scope=col>⋯</th><th scope=col>&lt;chr&gt;</th><th scope=col>&lt;chr&gt;</th><th scope=col>&lt;chr&gt;</th><th scope=col>&lt;chr&gt;</th><th scope=col>&lt;chr&gt;</th><th scope=col>&lt;chr&gt;</th><th scope=col>&lt;int&gt;</th><th scope=col>&lt;chr&gt;</th><th scope=col>&lt;chr&gt;</th><th scope=col>&lt;dbl&gt;</th></tr>\n",
       "</thead>\n",
       "<tbody>\n",
       "\t<tr><th scope=row>AB1007_AACAGCT</th><td>AB1007</td><td>AB1007_AACAGCT</td><td>AACAGCT</td><td> 273</td><td>0.08424908</td><td>SB013</td><td>15/02/2024</td><td>Maiia-FL-P5</td><td>Maiia</td><td>27/11/2023</td><td>⋯</td><td>S6</td><td>ALL</td><td></td><td>Liver</td><td>P5</td><td>CD45+</td><td>3</td><td>Neutrophils</td><td>Models</td><td>1</td></tr>\n",
       "\t<tr><th scope=row>AB1007_AACATCG</th><td>AB1007</td><td>AB1007_AACATCG</td><td>AACATCG</td><td> 197</td><td>0.27918782</td><td>SB013</td><td>15/02/2024</td><td>Maiia-FL-P5</td><td>Maiia</td><td>27/11/2023</td><td>⋯</td><td>S6</td><td>ALL</td><td></td><td>Liver</td><td>P5</td><td>CD45+</td><td>3</td><td>Neutrophils</td><td>Models</td><td>1</td></tr>\n",
       "\t<tr><th scope=row>AB1007_AACCTTG</th><td>AB1007</td><td>AB1007_AACCTTG</td><td>AACCTTG</td><td> 480</td><td>0.50000000</td><td>SB013</td><td>15/02/2024</td><td>Maiia-FL-P5</td><td>Maiia</td><td>27/11/2023</td><td>⋯</td><td>S6</td><td>ALL</td><td></td><td>Liver</td><td>P5</td><td>CD45+</td><td>3</td><td>Neutrophils</td><td>Models</td><td>1</td></tr>\n",
       "\t<tr><th scope=row>AB1007_AACGGTG</th><td>AB1007</td><td>AB1007_AACGGTG</td><td>AACGGTG</td><td>4871</td><td>0.28864710</td><td>SB013</td><td>15/02/2024</td><td>Maiia-FL-P5</td><td>Maiia</td><td>27/11/2023</td><td>⋯</td><td>S6</td><td>ALL</td><td></td><td>Liver</td><td>P5</td><td>CD45+</td><td>3</td><td>Neutrophils</td><td>Models</td><td>1</td></tr>\n",
       "\t<tr><th scope=row>AB1007_AACGTTC</th><td>AB1007</td><td>AB1007_AACGTTC</td><td>AACGTTC</td><td> 103</td><td>0.24271845</td><td>SB013</td><td>15/02/2024</td><td>Maiia-FL-P5</td><td>Maiia</td><td>27/11/2023</td><td>⋯</td><td>S6</td><td>ALL</td><td></td><td>Liver</td><td>P5</td><td>CD45+</td><td>3</td><td>Neutrophils</td><td>Models</td><td>1</td></tr>\n",
       "\t<tr><th scope=row>AB1007_AACTCGT</th><td>AB1007</td><td>AB1007_AACTCGT</td><td>AACTCGT</td><td> 179</td><td>0.22905028</td><td>SB013</td><td>15/02/2024</td><td>Maiia-FL-P5</td><td>Maiia</td><td>27/11/2023</td><td>⋯</td><td>S6</td><td>ALL</td><td></td><td>Liver</td><td>P5</td><td>CD45+</td><td>3</td><td>Neutrophils</td><td>Models</td><td>1</td></tr>\n",
       "</tbody>\n",
       "</table>\n"
      ],
      "text/latex": [
       "A data.frame: 6 × 30\n",
       "\\begin{tabular}{r|lllllllllllllllllllll}\n",
       "  & plate & cell & barcode & umicount & mt\\_frac & Seq.Batch.ID & Date.of.sequencing & Batch.Set.ID & Owner & Date.of.sort & ⋯ & FACS.machine & Wells & condition & Tissue & Age & Cell\\_type & Replicate & Analysis & Include & amp\\_batch\\_id\\\\\n",
       "  & <fct> & <fct> & <fct> & <dbl> & <dbl> & <chr> & <chr> & <chr> & <chr> & <chr> & ⋯ & <chr> & <chr> & <chr> & <chr> & <chr> & <chr> & <int> & <chr> & <chr> & <dbl>\\\\\n",
       "\\hline\n",
       "\tAB1007\\_AACAGCT & AB1007 & AB1007\\_AACAGCT & AACAGCT &  273 & 0.08424908 & SB013 & 15/02/2024 & Maiia-FL-P5 & Maiia & 27/11/2023 & ⋯ & S6 & ALL &  & Liver & P5 & CD45+ & 3 & Neutrophils & Models & 1\\\\\n",
       "\tAB1007\\_AACATCG & AB1007 & AB1007\\_AACATCG & AACATCG &  197 & 0.27918782 & SB013 & 15/02/2024 & Maiia-FL-P5 & Maiia & 27/11/2023 & ⋯ & S6 & ALL &  & Liver & P5 & CD45+ & 3 & Neutrophils & Models & 1\\\\\n",
       "\tAB1007\\_AACCTTG & AB1007 & AB1007\\_AACCTTG & AACCTTG &  480 & 0.50000000 & SB013 & 15/02/2024 & Maiia-FL-P5 & Maiia & 27/11/2023 & ⋯ & S6 & ALL &  & Liver & P5 & CD45+ & 3 & Neutrophils & Models & 1\\\\\n",
       "\tAB1007\\_AACGGTG & AB1007 & AB1007\\_AACGGTG & AACGGTG & 4871 & 0.28864710 & SB013 & 15/02/2024 & Maiia-FL-P5 & Maiia & 27/11/2023 & ⋯ & S6 & ALL &  & Liver & P5 & CD45+ & 3 & Neutrophils & Models & 1\\\\\n",
       "\tAB1007\\_AACGTTC & AB1007 & AB1007\\_AACGTTC & AACGTTC &  103 & 0.24271845 & SB013 & 15/02/2024 & Maiia-FL-P5 & Maiia & 27/11/2023 & ⋯ & S6 & ALL &  & Liver & P5 & CD45+ & 3 & Neutrophils & Models & 1\\\\\n",
       "\tAB1007\\_AACTCGT & AB1007 & AB1007\\_AACTCGT & AACTCGT &  179 & 0.22905028 & SB013 & 15/02/2024 & Maiia-FL-P5 & Maiia & 27/11/2023 & ⋯ & S6 & ALL &  & Liver & P5 & CD45+ & 3 & Neutrophils & Models & 1\\\\\n",
       "\\end{tabular}\n"
      ],
      "text/markdown": [
       "\n",
       "A data.frame: 6 × 30\n",
       "\n",
       "| <!--/--> | plate &lt;fct&gt; | cell &lt;fct&gt; | barcode &lt;fct&gt; | umicount &lt;dbl&gt; | mt_frac &lt;dbl&gt; | Seq.Batch.ID &lt;chr&gt; | Date.of.sequencing &lt;chr&gt; | Batch.Set.ID &lt;chr&gt; | Owner &lt;chr&gt; | Date.of.sort &lt;chr&gt; | ⋯ ⋯ | FACS.machine &lt;chr&gt; | Wells &lt;chr&gt; | condition &lt;chr&gt; | Tissue &lt;chr&gt; | Age &lt;chr&gt; | Cell_type &lt;chr&gt; | Replicate &lt;int&gt; | Analysis &lt;chr&gt; | Include &lt;chr&gt; | amp_batch_id &lt;dbl&gt; |\n",
       "|---|---|---|---|---|---|---|---|---|---|---|---|---|---|---|---|---|---|---|---|---|---|\n",
       "| AB1007_AACAGCT | AB1007 | AB1007_AACAGCT | AACAGCT |  273 | 0.08424908 | SB013 | 15/02/2024 | Maiia-FL-P5 | Maiia | 27/11/2023 | ⋯ | S6 | ALL | <!----> | Liver | P5 | CD45+ | 3 | Neutrophils | Models | 1 |\n",
       "| AB1007_AACATCG | AB1007 | AB1007_AACATCG | AACATCG |  197 | 0.27918782 | SB013 | 15/02/2024 | Maiia-FL-P5 | Maiia | 27/11/2023 | ⋯ | S6 | ALL | <!----> | Liver | P5 | CD45+ | 3 | Neutrophils | Models | 1 |\n",
       "| AB1007_AACCTTG | AB1007 | AB1007_AACCTTG | AACCTTG |  480 | 0.50000000 | SB013 | 15/02/2024 | Maiia-FL-P5 | Maiia | 27/11/2023 | ⋯ | S6 | ALL | <!----> | Liver | P5 | CD45+ | 3 | Neutrophils | Models | 1 |\n",
       "| AB1007_AACGGTG | AB1007 | AB1007_AACGGTG | AACGGTG | 4871 | 0.28864710 | SB013 | 15/02/2024 | Maiia-FL-P5 | Maiia | 27/11/2023 | ⋯ | S6 | ALL | <!----> | Liver | P5 | CD45+ | 3 | Neutrophils | Models | 1 |\n",
       "| AB1007_AACGTTC | AB1007 | AB1007_AACGTTC | AACGTTC |  103 | 0.24271845 | SB013 | 15/02/2024 | Maiia-FL-P5 | Maiia | 27/11/2023 | ⋯ | S6 | ALL | <!----> | Liver | P5 | CD45+ | 3 | Neutrophils | Models | 1 |\n",
       "| AB1007_AACTCGT | AB1007 | AB1007_AACTCGT | AACTCGT |  179 | 0.22905028 | SB013 | 15/02/2024 | Maiia-FL-P5 | Maiia | 27/11/2023 | ⋯ | S6 | ALL | <!----> | Liver | P5 | CD45+ | 3 | Neutrophils | Models | 1 |\n",
       "\n"
      ],
      "text/plain": [
       "               plate  cell           barcode umicount mt_frac    Seq.Batch.ID\n",
       "AB1007_AACAGCT AB1007 AB1007_AACAGCT AACAGCT  273     0.08424908 SB013       \n",
       "AB1007_AACATCG AB1007 AB1007_AACATCG AACATCG  197     0.27918782 SB013       \n",
       "AB1007_AACCTTG AB1007 AB1007_AACCTTG AACCTTG  480     0.50000000 SB013       \n",
       "AB1007_AACGGTG AB1007 AB1007_AACGGTG AACGGTG 4871     0.28864710 SB013       \n",
       "AB1007_AACGTTC AB1007 AB1007_AACGTTC AACGTTC  103     0.24271845 SB013       \n",
       "AB1007_AACTCGT AB1007 AB1007_AACTCGT AACTCGT  179     0.22905028 SB013       \n",
       "               Date.of.sequencing Batch.Set.ID Owner Date.of.sort ⋯\n",
       "AB1007_AACAGCT 15/02/2024         Maiia-FL-P5  Maiia 27/11/2023   ⋯\n",
       "AB1007_AACATCG 15/02/2024         Maiia-FL-P5  Maiia 27/11/2023   ⋯\n",
       "AB1007_AACCTTG 15/02/2024         Maiia-FL-P5  Maiia 27/11/2023   ⋯\n",
       "AB1007_AACGGTG 15/02/2024         Maiia-FL-P5  Maiia 27/11/2023   ⋯\n",
       "AB1007_AACGTTC 15/02/2024         Maiia-FL-P5  Maiia 27/11/2023   ⋯\n",
       "AB1007_AACTCGT 15/02/2024         Maiia-FL-P5  Maiia 27/11/2023   ⋯\n",
       "               FACS.machine Wells condition Tissue Age Cell_type Replicate\n",
       "AB1007_AACAGCT S6           ALL             Liver  P5  CD45+     3        \n",
       "AB1007_AACATCG S6           ALL             Liver  P5  CD45+     3        \n",
       "AB1007_AACCTTG S6           ALL             Liver  P5  CD45+     3        \n",
       "AB1007_AACGGTG S6           ALL             Liver  P5  CD45+     3        \n",
       "AB1007_AACGTTC S6           ALL             Liver  P5  CD45+     3        \n",
       "AB1007_AACTCGT S6           ALL             Liver  P5  CD45+     3        \n",
       "               Analysis    Include amp_batch_id\n",
       "AB1007_AACAGCT Neutrophils Models  1           \n",
       "AB1007_AACATCG Neutrophils Models  1           \n",
       "AB1007_AACCTTG Neutrophils Models  1           \n",
       "AB1007_AACGGTG Neutrophils Models  1           \n",
       "AB1007_AACGTTC Neutrophils Models  1           \n",
       "AB1007_AACTCGT Neutrophils Models  1           "
      ]
     },
     "metadata": {},
     "output_type": "display_data"
    }
   ],
   "source": [
    "cell_stats_l = lapply(alls, function(id) scdb_mat(id)@cell_metadata)\n",
    "head(cell_stats_l[[1]])\n",
    "head(cell_stats_l[[4]])"
   ]
  },
  {
   "cell_type": "code",
   "execution_count": 9,
   "id": "5cd52554-db59-47c4-8713-573b8740c543",
   "metadata": {},
   "outputs": [],
   "source": [
    "names(cell_stats_l) = alls"
   ]
  },
  {
   "cell_type": "code",
   "execution_count": 10,
   "id": "d9c5cf7a-7d32-444c-b0d5-aed1a1a53ee9",
   "metadata": {},
   "outputs": [],
   "source": [
    "library(gtools)"
   ]
  },
  {
   "cell_type": "code",
   "execution_count": 11,
   "id": "72f36b05-b7c1-4587-b15f-6c268817967d",
   "metadata": {},
   "outputs": [
    {
     "name": "stderr",
     "output_type": "stream",
     "text": [
      "Warning message in smartbind(cell_stats, X[setdiff(rownames(X), rownames(cell_stats)), :\n",
      "“Column class mismatch for 'plate'. Converting column to class 'character'.”\n",
      "Warning message in smartbind(cell_stats, X[setdiff(rownames(X), rownames(cell_stats)), :\n",
      "“Column class mismatch for 'cell'. Converting column to class 'character'.”\n",
      "Warning message in smartbind(cell_stats, X[setdiff(rownames(X), rownames(cell_stats)), :\n",
      "“Column class mismatch for 'barcode'. Converting column to class 'character'.”\n",
      "Warning message in smartbind(cell_stats, X[setdiff(rownames(X), rownames(cell_stats)), :\n",
      "“Column class mismatch for 'plate'. Converting column to class 'character'.”\n",
      "Warning message in smartbind(cell_stats, X[setdiff(rownames(X), rownames(cell_stats)), :\n",
      "“Column class mismatch for 'cell'. Converting column to class 'character'.”\n",
      "Warning message in smartbind(cell_stats, X[setdiff(rownames(X), rownames(cell_stats)), :\n",
      "“Column class mismatch for 'barcode'. Converting column to class 'character'.”\n"
     ]
    }
   ],
   "source": [
    "cell_stats = data.frame()\n",
    "\n",
    "for (a in names(cell_stats_l)) {\n",
    "    X = cell_stats_l[[a]]\n",
    "    rownames(X) = X$cell\n",
    "    cell_stats = smartbind(cell_stats, X[ setdiff(rownames(X), rownames(cell_stats)),])\n",
    "    rownames(cell_stats) = cell_stats$cell\n",
    "}"
   ]
  },
  {
   "cell_type": "code",
   "execution_count": 12,
   "id": "aba8271b-a423-43a9-ac52-29f0b07446c6",
   "metadata": {},
   "outputs": [
    {
     "data": {
      "text/plain": [
       "\n",
       "    A   A,B \n",
       "30689 38803 "
      ]
     },
     "metadata": {},
     "output_type": "display_data"
    }
   ],
   "source": [
    "venn(rownames(cell_stats), cells)"
   ]
  },
  {
   "cell_type": "code",
   "execution_count": 13,
   "id": "e8283c51-4908-4b28-8d15-90c5bda52810",
   "metadata": {},
   "outputs": [],
   "source": [
    "cell_stats$filtered_in = rownames(cell_stats) %in% cells"
   ]
  },
  {
   "cell_type": "code",
   "execution_count": 21,
   "id": "1c74a2d1-107d-4cc9-a34b-d91b9e6bd97d",
   "metadata": {},
   "outputs": [
    {
     "name": "stdout",
     "output_type": "stream",
     "text": [
      "x\n",
      "AB1000\n",
      "AB1001\n",
      "AB1002\n",
      "AB1003\n",
      "AB1007\n",
      "AB1008\n",
      "AB1009\n",
      "AB1012\n",
      "AB1013\n",
      "AB1014\n",
      "AB1015\n",
      "AB1016\n",
      "AB1081\n",
      "AB1083\n",
      "AB1085\n",
      "AB1087\n",
      "AB1088\n",
      "AB1089\n",
      "AB1090\n",
      "AB1091\n",
      "AB1092\n",
      "AB1093\n",
      "AB1094\n",
      "AB1095\n",
      "AB1102\n",
      "AB1103\n",
      "AB1109\n",
      "AB1110\n",
      "AB1111\n",
      "AB1119\n",
      "AB1255\n",
      "AB1256\n",
      "AB1273\n",
      "AB1274\n",
      "AB1280\n",
      "AB1285\n",
      "AB1291\n",
      "AB1292\n",
      "AB1382\n",
      "AB1383\n",
      "AB1384\n",
      "AB1388\n",
      "AB1389\n",
      "AB1390\n",
      "AB1391\n",
      "AB1392\n",
      "AB1393\n",
      "AB1394\n",
      "AB1459\n",
      "AB1460\n",
      "AB1461\n",
      "AB1462\n",
      "AB1463\n",
      "AB1464\n",
      "AB1465\n",
      "AB1466\n",
      "AB1475\n",
      "AB1476\n",
      "AB1483\n",
      "AB1484\n",
      "AB1485\n",
      "AB1486\n",
      "AB344\n",
      "AB345\n",
      "AB346\n",
      "AB347\n",
      "AB348\n",
      "AB350\n",
      "AB351\n",
      "AB439\n",
      "AB440\n",
      "AB441\n",
      "AB443\n",
      "AB445\n",
      "AB446\n",
      "AB449\n",
      "AB451\n",
      "AB452\n",
      "AB461\n",
      "AB462\n",
      "AB463\n",
      "AB464\n",
      "AB465\n",
      "AB466\n",
      "AB467\n",
      "AB507\n",
      "AB510\n",
      "AB596\n",
      "AB597\n",
      "AB598\n",
      "AB599\n",
      "AB600\n",
      "AB601\n",
      "AB619\n",
      "AB683\n",
      "AB717\n",
      "AB746\n",
      "AB748\n",
      "AB749\n",
      "AB750\n",
      "AB751\n",
      "AB752\n",
      "AB753\n",
      "AB754\n",
      "AB777\n",
      "AB778\n",
      "AB779\n",
      "AB780\n",
      "AB781\n",
      "AB812\n",
      "AB823\n",
      "AB824\n",
      "AB825\n",
      "AB826\n",
      "AB827\n",
      "AB828\n",
      "AB829\n",
      "AB830\n",
      "AB831\n",
      "AB832\n",
      "AB833\n",
      "AB834\n",
      "AB835\n",
      "AB836\n",
      "AB837\n",
      "AB838\n",
      "AB839\n",
      "AB840\n",
      "AB841\n",
      "AB842\n",
      "AB843\n",
      "AB844\n",
      "AB845\n",
      "AB846\n",
      "AB847\n",
      "AB848\n",
      "AB850\n",
      "AB851\n",
      "AB852\n",
      "AB853\n",
      "AB854\n",
      "AB856\n",
      "AB860\n",
      "AB861\n",
      "AB862\n",
      "AB963\n",
      "AB964\n",
      "AB965\n",
      "AB966\n",
      "AB967\n",
      "AB968\n",
      "AB969\n",
      "AB970\n",
      "AB971\n",
      "AB972\n",
      "AB973\n",
      "AB974\n",
      "AB975\n",
      "AB976\n",
      "AB977\n",
      "AB978\n",
      "AB979\n",
      "AB982\n",
      "AB983\n",
      "AB984\n",
      "AB985\n",
      "AB986\n",
      "AB987\n",
      "AB988\n",
      "AB989\n",
      "AB990\n",
      "AB991\n",
      "AB993\n",
      "AB994\n",
      "AB995\n",
      "AB996\n",
      "AB997\n",
      "AB998\n",
      "AB999\n"
     ]
    }
   ],
   "source": [
    "write.table(names(table(cell_stats[ cells, \"plate\"])), quote = F, row.names = F)"
   ]
  },
  {
   "cell_type": "code",
   "execution_count": 19,
   "id": "0954469f-7e76-4d38-8670-c39c1524821d",
   "metadata": {},
   "outputs": [
    {
     "name": "stdout",
     "output_type": "stream",
     "text": [
      "\"x\"\n",
      "\"1\" \"plate\"\n",
      "\"2\" \"cell\"\n",
      "\"3\" \"barcode\"\n",
      "\"4\" \"umicount\"\n",
      "\"5\" \"mt_frac\"\n",
      "\"6\" \"Seq.Batch.ID\"\n",
      "\"7\" \"Date.of.sequencing\"\n",
      "\"8\" \"Batch.Set.ID\"\n",
      "\"9\" \"Owner\"\n",
      "\"10\" \"Date.of.sort\"\n",
      "\"11\" \"Plate.description\"\n",
      "\"12\" \"R1.length\"\n",
      "\"13\" \"Pool.barcode.number\"\n",
      "\"14\" \"R2.design\"\n",
      "\"15\" \"Empty.wells\"\n",
      "\"16\" \"Species\"\n",
      "\"17\" \"Tapestation.mean.peak\"\n",
      "\"18\" \"QBit.ng.ul\"\n",
      "\"19\" \"QC1\"\n",
      "\"20\" \"QC2\"\n",
      "\"21\" \"FACS.machine\"\n",
      "\"22\" \"Wells\"\n",
      "\"23\" \"condition\"\n",
      "\"24\" \"Tissue\"\n",
      "\"25\" \"Age\"\n",
      "\"26\" \"Cell_type\"\n",
      "\"27\" \"Replicate\"\n",
      "\"28\" \"Analysis\"\n",
      "\"29\" \"Include\"\n",
      "\"30\" \"amp_batch_id\"\n",
      "\"31\" \"Amp.Batch.ID\"\n",
      "\"32\" \"filtered_in\"\n"
     ]
    }
   ],
   "source": [
    "write.table(colnames(cell_stats))"
   ]
  },
  {
   "cell_type": "code",
   "execution_count": 53,
   "id": "3e6b0b12-678c-4fc5-b68d-38c9c405e98d",
   "metadata": {},
   "outputs": [
    {
     "data": {
      "text/html": [
       "<table class=\"dataframe\">\n",
       "<caption>A data.frame: 6 × 6</caption>\n",
       "<thead>\n",
       "\t<tr><th></th><th scope=col>plate</th><th scope=col>Tissue</th><th scope=col>Age</th><th scope=col>Cell_type</th><th scope=col>Replicate</th><th scope=col>filtered_in</th></tr>\n",
       "\t<tr><th></th><th scope=col>&lt;chr&gt;</th><th scope=col>&lt;chr&gt;</th><th scope=col>&lt;chr&gt;</th><th scope=col>&lt;chr&gt;</th><th scope=col>&lt;int&gt;</th><th scope=col>&lt;lgl&gt;</th></tr>\n",
       "</thead>\n",
       "<tbody>\n",
       "\t<tr><th scope=row>AB1000_AACAGCT</th><td>AB1000</td><td>Bones</td><td>P0</td><td>CD45-</td><td>4</td><td> TRUE</td></tr>\n",
       "\t<tr><th scope=row>AB1000_AACATCG</th><td>AB1000</td><td>Bones</td><td>P0</td><td>CD45-</td><td>4</td><td> TRUE</td></tr>\n",
       "\t<tr><th scope=row>AB1000_AACCTTG</th><td>AB1000</td><td>Bones</td><td>P0</td><td>CD45-</td><td>4</td><td> TRUE</td></tr>\n",
       "\t<tr><th scope=row>AB1000_AACGGTG</th><td>AB1000</td><td>Bones</td><td>P0</td><td>CD45-</td><td>4</td><td>FALSE</td></tr>\n",
       "\t<tr><th scope=row>AB1000_AACGTTC</th><td>AB1000</td><td>Bones</td><td>P0</td><td>CD45-</td><td>4</td><td> TRUE</td></tr>\n",
       "\t<tr><th scope=row>AB1000_AACTCGT</th><td>AB1000</td><td>Bones</td><td>P0</td><td>CD45-</td><td>4</td><td> TRUE</td></tr>\n",
       "</tbody>\n",
       "</table>\n"
      ],
      "text/latex": [
       "A data.frame: 6 × 6\n",
       "\\begin{tabular}{r|llllll}\n",
       "  & plate & Tissue & Age & Cell\\_type & Replicate & filtered\\_in\\\\\n",
       "  & <chr> & <chr> & <chr> & <chr> & <int> & <lgl>\\\\\n",
       "\\hline\n",
       "\tAB1000\\_AACAGCT & AB1000 & Bones & P0 & CD45- & 4 &  TRUE\\\\\n",
       "\tAB1000\\_AACATCG & AB1000 & Bones & P0 & CD45- & 4 &  TRUE\\\\\n",
       "\tAB1000\\_AACCTTG & AB1000 & Bones & P0 & CD45- & 4 &  TRUE\\\\\n",
       "\tAB1000\\_AACGGTG & AB1000 & Bones & P0 & CD45- & 4 & FALSE\\\\\n",
       "\tAB1000\\_AACGTTC & AB1000 & Bones & P0 & CD45- & 4 &  TRUE\\\\\n",
       "\tAB1000\\_AACTCGT & AB1000 & Bones & P0 & CD45- & 4 &  TRUE\\\\\n",
       "\\end{tabular}\n"
      ],
      "text/markdown": [
       "\n",
       "A data.frame: 6 × 6\n",
       "\n",
       "| <!--/--> | plate &lt;chr&gt; | Tissue &lt;chr&gt; | Age &lt;chr&gt; | Cell_type &lt;chr&gt; | Replicate &lt;int&gt; | filtered_in &lt;lgl&gt; |\n",
       "|---|---|---|---|---|---|---|\n",
       "| AB1000_AACAGCT | AB1000 | Bones | P0 | CD45- | 4 |  TRUE |\n",
       "| AB1000_AACATCG | AB1000 | Bones | P0 | CD45- | 4 |  TRUE |\n",
       "| AB1000_AACCTTG | AB1000 | Bones | P0 | CD45- | 4 |  TRUE |\n",
       "| AB1000_AACGGTG | AB1000 | Bones | P0 | CD45- | 4 | FALSE |\n",
       "| AB1000_AACGTTC | AB1000 | Bones | P0 | CD45- | 4 |  TRUE |\n",
       "| AB1000_AACTCGT | AB1000 | Bones | P0 | CD45- | 4 |  TRUE |\n",
       "\n"
      ],
      "text/plain": [
       "               plate  Tissue Age Cell_type Replicate filtered_in\n",
       "AB1000_AACAGCT AB1000 Bones  P0  CD45-     4          TRUE      \n",
       "AB1000_AACATCG AB1000 Bones  P0  CD45-     4          TRUE      \n",
       "AB1000_AACCTTG AB1000 Bones  P0  CD45-     4          TRUE      \n",
       "AB1000_AACGGTG AB1000 Bones  P0  CD45-     4         FALSE      \n",
       "AB1000_AACGTTC AB1000 Bones  P0  CD45-     4          TRUE      \n",
       "AB1000_AACTCGT AB1000 Bones  P0  CD45-     4          TRUE      "
      ]
     },
     "metadata": {},
     "output_type": "display_data"
    }
   ],
   "source": [
    "rel_cols = c(\"plate\", \"Tissue\", \"Age\", \"Cell_type\", \"Replicate\", \"filtered_in\")\n",
    "md = cell_stats[,rel_cols]\n",
    "head(md)"
   ]
  },
  {
   "cell_type": "code",
   "execution_count": null,
   "id": "1234beed-9678-4599-8849-b3a2f345d139",
   "metadata": {},
   "outputs": [],
   "source": [
    "md$comb = with(md, paste0(Tissue, \"@\", Age, \"@\", Cell_type))\n",
    "stats_ncells = tapply(md$filtered_in, md$comb, sum)\n",
    "stats_percent = tapply(md$filtered_in, md$comb, mean)\n",
    "stats_nreps = tapply(md$Replicate, md$comb, function(x) length(unique(x)))\n",
    "stats_nplates = tapply(md$plate, md$comb, function(x) length(unique(x)))\n",
    "df = data.frame(stats_nreps, stats_nplates, stats_ncells, stats_percent)\n",
    "                       "
   ]
  },
  {
   "cell_type": "code",
   "execution_count": 59,
   "id": "bd929819-88ae-4846-9c95-3717ee8fa571",
   "metadata": {},
   "outputs": [],
   "source": [
    "df$Tissue = vecsplit(rownames(df), \"@\", 1)\n",
    "df$Age = vecsplit(rownames(df), \"@\", 2)\n",
    "df$Gate = vecsplit(rownames(df), \"@\", 3)\n",
    "write.table(df, sep = \"\\t\", quote = F, row.names = F, file = paste0(outdir, \"/TableS1.txt\"))"
   ]
  }
 ],
 "metadata": {
  "kernelspec": {
   "display_name": "R [conda env:my_env_metacell]",
   "language": "R",
   "name": "conda-env-my_env_metacell-r"
  },
  "language_info": {
   "codemirror_mode": "r",
   "file_extension": ".r",
   "mimetype": "text/x-r-source",
   "name": "R",
   "pygments_lexer": "r",
   "version": "4.2.2"
  }
 },
 "nbformat": 4,
 "nbformat_minor": 5
}
