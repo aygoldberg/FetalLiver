{
 "cells": [
  {
   "cell_type": "code",
   "execution_count": 1,
   "id": "d78faf55",
   "metadata": {},
   "outputs": [
    {
     "data": {
      "text/html": [
       "'/hpc/hub_oudenaarden/agiladi/data/small_projects/scripts/hemato_figures'"
      ],
      "text/latex": [
       "'/hpc/hub\\_oudenaarden/agiladi/data/small\\_projects/scripts/hemato\\_figures'"
      ],
      "text/markdown": [
       "'/hpc/hub_oudenaarden/agiladi/data/small_projects/scripts/hemato_figures'"
      ],
      "text/plain": [
       "[1] \"/hpc/hub_oudenaarden/agiladi/data/small_projects/scripts/hemato_figures\""
      ]
     },
     "metadata": {},
     "output_type": "display_data"
    }
   ],
   "source": [
    "getwd()"
   ]
  },
  {
   "cell_type": "code",
   "execution_count": 2,
   "id": "e19d9a2c",
   "metadata": {},
   "outputs": [],
   "source": [
    "setwd(\"../..\")"
   ]
  },
  {
   "cell_type": "code",
   "execution_count": 3,
   "id": "f7493229",
   "metadata": {},
   "outputs": [
    {
     "name": "stderr",
     "output_type": "stream",
     "text": [
      "Warning message:\n",
      "“package ‘devtools’ was built under R version 4.2.3”\n",
      "Loading required package: usethis\n",
      "\n",
      "Warning message:\n",
      "“package ‘usethis’ was built under R version 4.2.3”\n",
      "Loading required package: reshape2\n",
      "\n",
      "Warning message:\n",
      "“package ‘reshape2’ was built under R version 4.2.3”\n",
      "Loading required package: plyr\n",
      "\n",
      "Warning message:\n",
      "“package ‘plyr’ was built under R version 4.2.3”\n",
      "Loading required package: plotrix\n",
      "\n",
      "Warning message in library(package, lib.loc = lib.loc, character.only = TRUE, logical.return = TRUE, :\n",
      "“there is no package called ‘plotrix’”\n",
      "initializing scdb to saved_work\n",
      "\n",
      "\u001b[1m\u001b[22m\u001b[36mℹ\u001b[39m SHA-1 hash of file is \"9adfcccbce4f308dad9fb0d084241583dbbeb5b8\"\n",
      "Loading required package: glmnet\n",
      "\n",
      "Loading required package: Matrix\n",
      "\n",
      "Warning message:\n",
      "“package ‘Matrix’ was built under R version 4.2.3”\n",
      "Loaded glmnet 4.1-8\n",
      "\n"
     ]
    }
   ],
   "source": [
    "library(devtools)\n",
    "library(metacell)\n",
    "#library(dendextend)\n",
    "#library(DESeq2)\n",
    "#library(RColorBrewer)\n",
    "#library(GEOquery)\n",
    "\n",
    "source(\"../tuft/scripts/metacell_functions.r\")\n",
    "scdb_init(\"saved_work\", force=T)\n",
    "source_url(\"https://raw.githubusercontent.com/aygoldberg/PIC-seq/master/scripts/pic_parser.r\")"
   ]
  },
  {
   "cell_type": "code",
   "execution_count": 4,
   "id": "1aa28a15",
   "metadata": {},
   "outputs": [
    {
     "name": "stderr",
     "output_type": "stream",
     "text": [
      "Loading singlets dataset:\n",
      "\n",
      "Loaded a metacell object of 8329 singlets. Total of 150 metacells.\n",
      "\n"
     ]
    }
   ],
   "source": [
    "id = \"hemato_neut\"\n",
    "\n",
    "id_s = paste0(id, \"_f\")\n",
    "#message(\"Loaded a UMI matrix of \", sc_mat@ncells, \" cells and \", sc_mat@ngenes, \" genes.\")\n",
    "\n",
    "message(\"Loading singlets dataset:\")\n",
    "sin_2d = scdb_mc2d(id); sin_cl = scdb_mc(id_s); sin_mat = scdb_mat(id)\n",
    "lfp = log2(sin_cl@mc_fp)\n",
    "message(\"Loaded a metacell object of \", length(sin_cl@mc), \" singlets. Total of \", length(table(sin_cl@mc)), \" metacells.\")\n"
   ]
  },
  {
   "cell_type": "code",
   "execution_count": 5,
   "id": "71d63d09",
   "metadata": {},
   "outputs": [
    {
     "name": "stderr",
     "output_type": "stream",
     "text": [
      "mc contains the assignment of cell to metacell\n",
      "\n"
     ]
    },
    {
     "data": {
      "text/html": [
       "<style>\n",
       ".dl-inline {width: auto; margin:0; padding: 0}\n",
       ".dl-inline>dt, .dl-inline>dd {float: none; width: auto; display: inline-block}\n",
       ".dl-inline>dt::after {content: \":\\0020\"; padding-right: .5ex}\n",
       ".dl-inline>dt:not(:first-of-type) {padding-left: .5ex}\n",
       "</style><dl class=dl-inline><dt>AB1007_AAGCCTT</dt><dd>114</dd><dt>AB1007_ACAGCTC</dt><dd>135</dd><dt>AB1007_ACATCCG</dt><dd>112</dd><dt>AB1007_ACGCTAT</dt><dd>17</dd><dt>AB1007_ACTTGGC</dt><dd>131</dd><dt>AB1007_AGATACC</dt><dd>144</dd></dl>\n"
      ],
      "text/latex": [
       "\\begin{description*}\n",
       "\\item[AB1007\\textbackslash{}\\_AAGCCTT] 114\n",
       "\\item[AB1007\\textbackslash{}\\_ACAGCTC] 135\n",
       "\\item[AB1007\\textbackslash{}\\_ACATCCG] 112\n",
       "\\item[AB1007\\textbackslash{}\\_ACGCTAT] 17\n",
       "\\item[AB1007\\textbackslash{}\\_ACTTGGC] 131\n",
       "\\item[AB1007\\textbackslash{}\\_AGATACC] 144\n",
       "\\end{description*}\n"
      ],
      "text/markdown": [
       "AB1007_AAGCCTT\n",
       ":   114AB1007_ACAGCTC\n",
       ":   135AB1007_ACATCCG\n",
       ":   112AB1007_ACGCTAT\n",
       ":   17AB1007_ACTTGGC\n",
       ":   131AB1007_AGATACC\n",
       ":   144\n",
       "\n"
      ],
      "text/plain": [
       "AB1007_AAGCCTT AB1007_ACAGCTC AB1007_ACATCCG AB1007_ACGCTAT AB1007_ACTTGGC \n",
       "           114            135            112             17            131 \n",
       "AB1007_AGATACC \n",
       "           144 "
      ]
     },
     "metadata": {},
     "output_type": "display_data"
    },
    {
     "name": "stderr",
     "output_type": "stream",
     "text": [
      "colors assigns a color label to each metacell, such that each color denotes one annotated cell type or state\n",
      "\n"
     ]
    },
    {
     "data": {
      "text/html": [
       "<style>\n",
       ".list-inline {list-style: none; margin:0; padding: 0}\n",
       ".list-inline>li {display: inline-block}\n",
       ".list-inline>li:not(:last-child)::after {content: \"\\00b7\"; padding: 0 .5ex}\n",
       "</style>\n",
       "<ol class=list-inline><li>'gray20'</li><li>'gray20'</li><li>'gray20'</li><li>'cyan3'</li><li>'cyan3'</li><li>'cyan3'</li></ol>\n"
      ],
      "text/latex": [
       "\\begin{enumerate*}\n",
       "\\item 'gray20'\n",
       "\\item 'gray20'\n",
       "\\item 'gray20'\n",
       "\\item 'cyan3'\n",
       "\\item 'cyan3'\n",
       "\\item 'cyan3'\n",
       "\\end{enumerate*}\n"
      ],
      "text/markdown": [
       "1. 'gray20'\n",
       "2. 'gray20'\n",
       "3. 'gray20'\n",
       "4. 'cyan3'\n",
       "5. 'cyan3'\n",
       "6. 'cyan3'\n",
       "\n",
       "\n"
      ],
      "text/plain": [
       "[1] \"gray20\" \"gray20\" \"gray20\" \"cyan3\"  \"cyan3\"  \"cyan3\" "
      ]
     },
     "metadata": {},
     "output_type": "display_data"
    },
    {
     "name": "stderr",
     "output_type": "stream",
     "text": [
      "color_key maps each color to its annotation\n",
      "\n"
     ]
    },
    {
     "data": {
      "text/html": [
       "<table class=\"dataframe\">\n",
       "<caption>A data.frame: 6 × 3</caption>\n",
       "<thead>\n",
       "\t<tr><th></th><th scope=col>gene</th><th scope=col>group</th><th scope=col>color</th></tr>\n",
       "\t<tr><th></th><th scope=col>&lt;fct&gt;</th><th scope=col>&lt;fct&gt;</th><th scope=col>&lt;fct&gt;</th></tr>\n",
       "</thead>\n",
       "<tbody>\n",
       "\t<tr><th scope=row>1</th><td>     </td><td>Undetermined</td><td>gray       </td></tr>\n",
       "\t<tr><th scope=row>2</th><td>Mmp8 </td><td>Mmp8_hi     </td><td>forestgreen</td></tr>\n",
       "\t<tr><th scope=row>3</th><td>Stfa3</td><td>Stfa3_hi    </td><td>purple     </td></tr>\n",
       "\t<tr><th scope=row>4</th><td>Fcnb </td><td>Fcnb_mid    </td><td>red4       </td></tr>\n",
       "\t<tr><th scope=row>5</th><td>Fcnb </td><td>Fcnb_hi     </td><td>indianred  </td></tr>\n",
       "\t<tr><th scope=row>6</th><td>Elane</td><td>Elane_hi    </td><td>pink       </td></tr>\n",
       "</tbody>\n",
       "</table>\n"
      ],
      "text/latex": [
       "A data.frame: 6 × 3\n",
       "\\begin{tabular}{r|lll}\n",
       "  & gene & group & color\\\\\n",
       "  & <fct> & <fct> & <fct>\\\\\n",
       "\\hline\n",
       "\t1 &       & Undetermined & gray       \\\\\n",
       "\t2 & Mmp8  & Mmp8\\_hi      & forestgreen\\\\\n",
       "\t3 & Stfa3 & Stfa3\\_hi     & purple     \\\\\n",
       "\t4 & Fcnb  & Fcnb\\_mid     & red4       \\\\\n",
       "\t5 & Fcnb  & Fcnb\\_hi      & indianred  \\\\\n",
       "\t6 & Elane & Elane\\_hi     & pink       \\\\\n",
       "\\end{tabular}\n"
      ],
      "text/markdown": [
       "\n",
       "A data.frame: 6 × 3\n",
       "\n",
       "| <!--/--> | gene &lt;fct&gt; | group &lt;fct&gt; | color &lt;fct&gt; |\n",
       "|---|---|---|---|\n",
       "| 1 | <!----> | Undetermined | gray        |\n",
       "| 2 | Mmp8  | Mmp8_hi      | forestgreen |\n",
       "| 3 | Stfa3 | Stfa3_hi     | purple      |\n",
       "| 4 | Fcnb  | Fcnb_mid     | red4        |\n",
       "| 5 | Fcnb  | Fcnb_hi      | indianred   |\n",
       "| 6 | Elane | Elane_hi     | pink        |\n",
       "\n"
      ],
      "text/plain": [
       "  gene  group        color      \n",
       "1       Undetermined gray       \n",
       "2 Mmp8  Mmp8_hi      forestgreen\n",
       "3 Stfa3 Stfa3_hi     purple     \n",
       "4 Fcnb  Fcnb_mid     red4       \n",
       "5 Fcnb  Fcnb_hi      indianred  \n",
       "6 Elane Elane_hi     pink       "
      ]
     },
     "metadata": {},
     "output_type": "display_data"
    },
    {
     "name": "stderr",
     "output_type": "stream",
     "text": [
      "It is useful to create two-sided directories that allow mapping from color to annotation and from annotation to color\n",
      "\n",
      "Now we can assign each cell with its annotation\n",
      "\n"
     ]
    },
    {
     "data": {
      "text/html": [
       "<table class=\"dataframe\">\n",
       "<caption>A matrix: 10 × 1 of type int</caption>\n",
       "<tbody>\n",
       "\t<tr><th scope=row>Dusp1_hi</th><td> 589</td></tr>\n",
       "\t<tr><th scope=row>Elane_hi</th><td>1328</td></tr>\n",
       "\t<tr><th scope=row>Ery_outliers</th><td> 578</td></tr>\n",
       "\t<tr><th scope=row>Fcnb_hi</th><td> 499</td></tr>\n",
       "\t<tr><th scope=row>Fcnb_mid</th><td>1744</td></tr>\n",
       "\t<tr><th scope=row>Il1b_hi</th><td> 518</td></tr>\n",
       "\t<tr><th scope=row>Mmp8_hi</th><td> 382</td></tr>\n",
       "\t<tr><th scope=row>Mono_outliers</th><td>1153</td></tr>\n",
       "\t<tr><th scope=row>Stfa3_hi</th><td>1341</td></tr>\n",
       "\t<tr><th scope=row>Undetermined</th><td> 197</td></tr>\n",
       "</tbody>\n",
       "</table>\n"
      ],
      "text/latex": [
       "A matrix: 10 × 1 of type int\n",
       "\\begin{tabular}{r|l}\n",
       "\tDusp1\\_hi &  589\\\\\n",
       "\tElane\\_hi & 1328\\\\\n",
       "\tEry\\_outliers &  578\\\\\n",
       "\tFcnb\\_hi &  499\\\\\n",
       "\tFcnb\\_mid & 1744\\\\\n",
       "\tIl1b\\_hi &  518\\\\\n",
       "\tMmp8\\_hi &  382\\\\\n",
       "\tMono\\_outliers & 1153\\\\\n",
       "\tStfa3\\_hi & 1341\\\\\n",
       "\tUndetermined &  197\\\\\n",
       "\\end{tabular}\n"
      ],
      "text/markdown": [
       "\n",
       "A matrix: 10 × 1 of type int\n",
       "\n",
       "| Dusp1_hi |  589 |\n",
       "| Elane_hi | 1328 |\n",
       "| Ery_outliers |  578 |\n",
       "| Fcnb_hi |  499 |\n",
       "| Fcnb_mid | 1744 |\n",
       "| Il1b_hi |  518 |\n",
       "| Mmp8_hi |  382 |\n",
       "| Mono_outliers | 1153 |\n",
       "| Stfa3_hi | 1341 |\n",
       "| Undetermined |  197 |\n",
       "\n"
      ],
      "text/plain": [
       "              [,1]\n",
       "Dusp1_hi       589\n",
       "Elane_hi      1328\n",
       "Ery_outliers   578\n",
       "Fcnb_hi        499\n",
       "Fcnb_mid      1744\n",
       "Il1b_hi        518\n",
       "Mmp8_hi        382\n",
       "Mono_outliers 1153\n",
       "Stfa3_hi      1341\n",
       "Undetermined   197"
      ]
     },
     "metadata": {},
     "output_type": "display_data"
    }
   ],
   "source": [
    "message(\"mc contains the assignment of cell to metacell\")\n",
    "head(sin_cl@mc)\n",
    "\n",
    "message(\"colors assigns a color label to each metacell, such that each color denotes one annotated cell type or state\")\n",
    "head(sin_cl@colors)\n",
    "\n",
    "message(\"color_key maps each color to its annotation\")\n",
    "head(sin_cl@color_key)\n",
    "\n",
    "message(\"It is useful to create two-sided directories that allow mapping from color to annotation and from annotation to color\")\n",
    "color_scheme = sin_cl@color_key\n",
    "color2name = as.vector(color_scheme$group); names(color2name) = color_scheme$color\n",
    "name2color = as.vector(color_scheme$color); names(name2color) = color_scheme$group\n",
    "\n",
    "message(\"Now we can assign each cell with its annotation\")\n",
    "sin_names = color2name[ sin_cl@colors[ sin_cl@mc]]; names(sin_names) = names(sin_cl@mc)\n",
    "\n",
    "as.matrix(table(sin_names))\n"
   ]
  },
  {
   "cell_type": "code",
   "execution_count": 6,
   "id": "4bb0ef17",
   "metadata": {},
   "outputs": [
    {
     "name": "stderr",
     "output_type": "stream",
     "text": [
      "In addition, metadata per cell can be extracted from the mat object\n",
      "\n"
     ]
    },
    {
     "data": {
      "text/html": [
       "<table class=\"dataframe\">\n",
       "<caption>A data.frame: 5 × 30</caption>\n",
       "<thead>\n",
       "\t<tr><th></th><th scope=col>plate</th><th scope=col>cell</th><th scope=col>barcode</th><th scope=col>umicount</th><th scope=col>mt_frac</th><th scope=col>Seq.Batch.ID</th><th scope=col>Date.of.sequencing</th><th scope=col>Batch.Set.ID</th><th scope=col>Owner</th><th scope=col>Date.of.sort</th><th scope=col>⋯</th><th scope=col>FACS.machine</th><th scope=col>Wells</th><th scope=col>condition</th><th scope=col>Tissue</th><th scope=col>Age</th><th scope=col>Cell_type</th><th scope=col>Replicate</th><th scope=col>Analysis</th><th scope=col>Include</th><th scope=col>amp_batch_id</th></tr>\n",
       "\t<tr><th></th><th scope=col>&lt;fct&gt;</th><th scope=col>&lt;fct&gt;</th><th scope=col>&lt;fct&gt;</th><th scope=col>&lt;dbl&gt;</th><th scope=col>&lt;dbl&gt;</th><th scope=col>&lt;chr&gt;</th><th scope=col>&lt;chr&gt;</th><th scope=col>&lt;chr&gt;</th><th scope=col>&lt;chr&gt;</th><th scope=col>&lt;chr&gt;</th><th scope=col>⋯</th><th scope=col>&lt;chr&gt;</th><th scope=col>&lt;chr&gt;</th><th scope=col>&lt;chr&gt;</th><th scope=col>&lt;chr&gt;</th><th scope=col>&lt;chr&gt;</th><th scope=col>&lt;chr&gt;</th><th scope=col>&lt;int&gt;</th><th scope=col>&lt;chr&gt;</th><th scope=col>&lt;chr&gt;</th><th scope=col>&lt;dbl&gt;</th></tr>\n",
       "</thead>\n",
       "<tbody>\n",
       "\t<tr><th scope=row>AB780_TATCGCG</th><td>AB780 </td><td>AB780_TATCGCG </td><td>TATCGCG</td><td> 604</td><td>0.01986755</td><td>SB011</td><td>04/09/2023</td><td>Maiia-FL-E16.5</td><td>Maiia</td><td>16/08/2023</td><td>⋯</td><td>BD Aria III    </td><td>ALL</td><td></td><td>Liver</td><td>E16.5</td><td>CD45+</td><td> 3</td><td>Neutrophils</td><td>Models</td><td>1</td></tr>\n",
       "\t<tr><th scope=row>AB834_TCGAAGG</th><td>AB834 </td><td>AB834_TCGAAGG </td><td>TCGAAGG</td><td> 545</td><td>0.02018349</td><td>SB012</td><td>14/12/2023</td><td>Maiia-BM-E16.5</td><td>Maiia</td><td>27/09/2023</td><td>⋯</td><td>BD Aria III (b)</td><td>ALL</td><td></td><td>Bones</td><td>E16.5</td><td>CD45+</td><td> 4</td><td>Neutrophils</td><td>Models</td><td>1</td></tr>\n",
       "\t<tr><th scope=row>AB780_CAATCGA</th><td>AB780 </td><td>AB780_CAATCGA </td><td>CAATCGA</td><td>4166</td><td>0.08425348</td><td>SB011</td><td>04/09/2023</td><td>Maiia-FL-E16.5</td><td>Maiia</td><td>16/08/2023</td><td>⋯</td><td>BD Aria III    </td><td>ALL</td><td></td><td>Liver</td><td>E16.5</td><td>CD45+</td><td> 3</td><td>Neutrophils</td><td>Models</td><td>1</td></tr>\n",
       "\t<tr><th scope=row>AB1392_TCCATGC</th><td>AB1392</td><td>AB1392_TCCATGC</td><td>TCCATGC</td><td>4060</td><td>0.07438424</td><td>SB016</td><td>19/11/2024</td><td>Maiia-index   </td><td>Maiia</td><td>03/11/2024</td><td>⋯</td><td>S6             </td><td>ALL</td><td></td><td>Liver</td><td>P0   </td><td>CD45+</td><td>NA</td><td>Neutrophils</td><td>Index </td><td>1</td></tr>\n",
       "\t<tr><th scope=row>AB344_ATCCAGG</th><td>AB344 </td><td>AB344_ATCCAGG </td><td>ATCCAGG</td><td> 839</td><td>0.09296782</td><td>SB006</td><td>18/09/2022</td><td>Maiia-FL-P0   </td><td>Maiia</td><td>17/08/2022</td><td>⋯</td><td>BD Aria III    </td><td>ALL</td><td></td><td>Liver</td><td>P0   </td><td>CD45+</td><td> 1</td><td>Neutrophils</td><td>Models</td><td>1</td></tr>\n",
       "</tbody>\n",
       "</table>\n"
      ],
      "text/latex": [
       "A data.frame: 5 × 30\n",
       "\\begin{tabular}{r|lllllllllllllllllllll}\n",
       "  & plate & cell & barcode & umicount & mt\\_frac & Seq.Batch.ID & Date.of.sequencing & Batch.Set.ID & Owner & Date.of.sort & ⋯ & FACS.machine & Wells & condition & Tissue & Age & Cell\\_type & Replicate & Analysis & Include & amp\\_batch\\_id\\\\\n",
       "  & <fct> & <fct> & <fct> & <dbl> & <dbl> & <chr> & <chr> & <chr> & <chr> & <chr> & ⋯ & <chr> & <chr> & <chr> & <chr> & <chr> & <chr> & <int> & <chr> & <chr> & <dbl>\\\\\n",
       "\\hline\n",
       "\tAB780\\_TATCGCG & AB780  & AB780\\_TATCGCG  & TATCGCG &  604 & 0.01986755 & SB011 & 04/09/2023 & Maiia-FL-E16.5 & Maiia & 16/08/2023 & ⋯ & BD Aria III     & ALL &  & Liver & E16.5 & CD45+ &  3 & Neutrophils & Models & 1\\\\\n",
       "\tAB834\\_TCGAAGG & AB834  & AB834\\_TCGAAGG  & TCGAAGG &  545 & 0.02018349 & SB012 & 14/12/2023 & Maiia-BM-E16.5 & Maiia & 27/09/2023 & ⋯ & BD Aria III (b) & ALL &  & Bones & E16.5 & CD45+ &  4 & Neutrophils & Models & 1\\\\\n",
       "\tAB780\\_CAATCGA & AB780  & AB780\\_CAATCGA  & CAATCGA & 4166 & 0.08425348 & SB011 & 04/09/2023 & Maiia-FL-E16.5 & Maiia & 16/08/2023 & ⋯ & BD Aria III     & ALL &  & Liver & E16.5 & CD45+ &  3 & Neutrophils & Models & 1\\\\\n",
       "\tAB1392\\_TCCATGC & AB1392 & AB1392\\_TCCATGC & TCCATGC & 4060 & 0.07438424 & SB016 & 19/11/2024 & Maiia-index    & Maiia & 03/11/2024 & ⋯ & S6              & ALL &  & Liver & P0    & CD45+ & NA & Neutrophils & Index  & 1\\\\\n",
       "\tAB344\\_ATCCAGG & AB344  & AB344\\_ATCCAGG  & ATCCAGG &  839 & 0.09296782 & SB006 & 18/09/2022 & Maiia-FL-P0    & Maiia & 17/08/2022 & ⋯ & BD Aria III     & ALL &  & Liver & P0    & CD45+ &  1 & Neutrophils & Models & 1\\\\\n",
       "\\end{tabular}\n"
      ],
      "text/markdown": [
       "\n",
       "A data.frame: 5 × 30\n",
       "\n",
       "| <!--/--> | plate &lt;fct&gt; | cell &lt;fct&gt; | barcode &lt;fct&gt; | umicount &lt;dbl&gt; | mt_frac &lt;dbl&gt; | Seq.Batch.ID &lt;chr&gt; | Date.of.sequencing &lt;chr&gt; | Batch.Set.ID &lt;chr&gt; | Owner &lt;chr&gt; | Date.of.sort &lt;chr&gt; | ⋯ ⋯ | FACS.machine &lt;chr&gt; | Wells &lt;chr&gt; | condition &lt;chr&gt; | Tissue &lt;chr&gt; | Age &lt;chr&gt; | Cell_type &lt;chr&gt; | Replicate &lt;int&gt; | Analysis &lt;chr&gt; | Include &lt;chr&gt; | amp_batch_id &lt;dbl&gt; |\n",
       "|---|---|---|---|---|---|---|---|---|---|---|---|---|---|---|---|---|---|---|---|---|---|\n",
       "| AB780_TATCGCG | AB780  | AB780_TATCGCG  | TATCGCG |  604 | 0.01986755 | SB011 | 04/09/2023 | Maiia-FL-E16.5 | Maiia | 16/08/2023 | ⋯ | BD Aria III     | ALL | <!----> | Liver | E16.5 | CD45+ |  3 | Neutrophils | Models | 1 |\n",
       "| AB834_TCGAAGG | AB834  | AB834_TCGAAGG  | TCGAAGG |  545 | 0.02018349 | SB012 | 14/12/2023 | Maiia-BM-E16.5 | Maiia | 27/09/2023 | ⋯ | BD Aria III (b) | ALL | <!----> | Bones | E16.5 | CD45+ |  4 | Neutrophils | Models | 1 |\n",
       "| AB780_CAATCGA | AB780  | AB780_CAATCGA  | CAATCGA | 4166 | 0.08425348 | SB011 | 04/09/2023 | Maiia-FL-E16.5 | Maiia | 16/08/2023 | ⋯ | BD Aria III     | ALL | <!----> | Liver | E16.5 | CD45+ |  3 | Neutrophils | Models | 1 |\n",
       "| AB1392_TCCATGC | AB1392 | AB1392_TCCATGC | TCCATGC | 4060 | 0.07438424 | SB016 | 19/11/2024 | Maiia-index    | Maiia | 03/11/2024 | ⋯ | S6              | ALL | <!----> | Liver | P0    | CD45+ | NA | Neutrophils | Index  | 1 |\n",
       "| AB344_ATCCAGG | AB344  | AB344_ATCCAGG  | ATCCAGG |  839 | 0.09296782 | SB006 | 18/09/2022 | Maiia-FL-P0    | Maiia | 17/08/2022 | ⋯ | BD Aria III     | ALL | <!----> | Liver | P0    | CD45+ |  1 | Neutrophils | Models | 1 |\n",
       "\n"
      ],
      "text/plain": [
       "               plate  cell           barcode umicount mt_frac    Seq.Batch.ID\n",
       "AB780_TATCGCG  AB780  AB780_TATCGCG  TATCGCG  604     0.01986755 SB011       \n",
       "AB834_TCGAAGG  AB834  AB834_TCGAAGG  TCGAAGG  545     0.02018349 SB012       \n",
       "AB780_CAATCGA  AB780  AB780_CAATCGA  CAATCGA 4166     0.08425348 SB011       \n",
       "AB1392_TCCATGC AB1392 AB1392_TCCATGC TCCATGC 4060     0.07438424 SB016       \n",
       "AB344_ATCCAGG  AB344  AB344_ATCCAGG  ATCCAGG  839     0.09296782 SB006       \n",
       "               Date.of.sequencing Batch.Set.ID   Owner Date.of.sort ⋯\n",
       "AB780_TATCGCG  04/09/2023         Maiia-FL-E16.5 Maiia 16/08/2023   ⋯\n",
       "AB834_TCGAAGG  14/12/2023         Maiia-BM-E16.5 Maiia 27/09/2023   ⋯\n",
       "AB780_CAATCGA  04/09/2023         Maiia-FL-E16.5 Maiia 16/08/2023   ⋯\n",
       "AB1392_TCCATGC 19/11/2024         Maiia-index    Maiia 03/11/2024   ⋯\n",
       "AB344_ATCCAGG  18/09/2022         Maiia-FL-P0    Maiia 17/08/2022   ⋯\n",
       "               FACS.machine    Wells condition Tissue Age   Cell_type Replicate\n",
       "AB780_TATCGCG  BD Aria III     ALL             Liver  E16.5 CD45+      3       \n",
       "AB834_TCGAAGG  BD Aria III (b) ALL             Bones  E16.5 CD45+      4       \n",
       "AB780_CAATCGA  BD Aria III     ALL             Liver  E16.5 CD45+      3       \n",
       "AB1392_TCCATGC S6              ALL             Liver  P0    CD45+     NA       \n",
       "AB344_ATCCAGG  BD Aria III     ALL             Liver  P0    CD45+      1       \n",
       "               Analysis    Include amp_batch_id\n",
       "AB780_TATCGCG  Neutrophils Models  1           \n",
       "AB834_TCGAAGG  Neutrophils Models  1           \n",
       "AB780_CAATCGA  Neutrophils Models  1           \n",
       "AB1392_TCCATGC Neutrophils Index   1           \n",
       "AB344_ATCCAGG  Neutrophils Models  1           "
      ]
     },
     "metadata": {},
     "output_type": "display_data"
    }
   ],
   "source": [
    "message(\"In addition, metadata per cell can be extracted from the mat object\")\n",
    "sin_stats = sin_mat@cell_metadata[names(sin_cl@mc),]\n",
    "sin_stats[ sample(rownames(sin_stats), 5),]"
   ]
  },
  {
   "cell_type": "code",
   "execution_count": 7,
   "id": "3a401cb8",
   "metadata": {},
   "outputs": [
    {
     "data": {
      "text/html": [
       "<style>\n",
       ".list-inline {list-style: none; margin:0; padding: 0}\n",
       ".list-inline>li {display: inline-block}\n",
       ".list-inline>li:not(:last-child)::after {content: \"\\00b7\"; padding: 0 .5ex}\n",
       "</style>\n",
       "<ol class=list-inline><li>'Elane_hi'</li><li>'Fcnb_hi'</li><li>'Fcnb_mid'</li><li>'Mmp8_hi'</li><li>'Stfa3_hi'</li><li>'Dusp1_hi'</li><li>'Il1b_hi'</li><li>'Mono_outliers'</li><li>'Ery_outliers'</li><li>'Undetermined'</li></ol>\n"
      ],
      "text/latex": [
       "\\begin{enumerate*}\n",
       "\\item 'Elane\\_hi'\n",
       "\\item 'Fcnb\\_hi'\n",
       "\\item 'Fcnb\\_mid'\n",
       "\\item 'Mmp8\\_hi'\n",
       "\\item 'Stfa3\\_hi'\n",
       "\\item 'Dusp1\\_hi'\n",
       "\\item 'Il1b\\_hi'\n",
       "\\item 'Mono\\_outliers'\n",
       "\\item 'Ery\\_outliers'\n",
       "\\item 'Undetermined'\n",
       "\\end{enumerate*}\n"
      ],
      "text/markdown": [
       "1. 'Elane_hi'\n",
       "2. 'Fcnb_hi'\n",
       "3. 'Fcnb_mid'\n",
       "4. 'Mmp8_hi'\n",
       "5. 'Stfa3_hi'\n",
       "6. 'Dusp1_hi'\n",
       "7. 'Il1b_hi'\n",
       "8. 'Mono_outliers'\n",
       "9. 'Ery_outliers'\n",
       "10. 'Undetermined'\n",
       "\n",
       "\n"
      ],
      "text/plain": [
       " [1] \"Elane_hi\"      \"Fcnb_hi\"       \"Fcnb_mid\"      \"Mmp8_hi\"      \n",
       " [5] \"Stfa3_hi\"      \"Dusp1_hi\"      \"Il1b_hi\"       \"Mono_outliers\"\n",
       " [9] \"Ery_outliers\"  \"Undetermined\" "
      ]
     },
     "metadata": {},
     "output_type": "display_data"
    }
   ],
   "source": [
    "annotations = as.matrix(read.delim(paste0(\"config/\", id, \"_lin-ord.txt\"), stringsAsFactor=F, h=T))[,1]\n",
    "lin_ord = annotations\n",
    "lin_ord"
   ]
  },
  {
   "cell_type": "code",
   "execution_count": 8,
   "id": "de29a494",
   "metadata": {},
   "outputs": [
    {
     "name": "stderr",
     "output_type": "stream",
     "text": [
      "zlim: -7.43949135261453<>7.43949135261453\n",
      "\n"
     ]
    },
    {
     "data": {
      "image/png": "[encoded data removed]",
      "text/plain": [
       "plot without title"
      ]
     },
     "metadata": {
      "image/png": {
       "height": 420,
       "width": 420
      }
     },
     "output_type": "display_data"
    }
   ],
   "source": [
    "mc2lin = factor(color2name[ sin_cl@colors], levels = lin_ord); \n",
    "names(mc2lin) = seq_along(mc2lin)\n",
    "mc_ord = order(mc2lin)\n",
    "\n",
    "lfp = log2(sin_cl@mc_fp)\n",
    "nms = choose_genes_from_clust(mc_id = id_s,      # the unique id of the mc object\n",
    "                              mat_id = id_s,     # the unique id of the mat object\n",
    "                              nms_per_clust = 2, # number of differential genes per metacell\n",
    "                              nms_thresh = 2)  # minimum threshold for gene enrichment\n",
    "\n",
    "IM = lfp[ nms, mc_ord]\n",
    "IM = IM[ order(max.col(IM)),]\n",
    "\n",
    "image.2(IM, balance=T, vct = mc2lin[ colnames(IM)])\n",
    "box()"
   ]
  },
  {
   "cell_type": "code",
   "execution_count": 16,
   "id": "b0533c10",
   "metadata": {},
   "outputs": [
    {
     "data": {
      "text/plain": [
       "sin_names\n",
       "     Dusp1_hi      Elane_hi  Ery_outliers       Fcnb_hi      Fcnb_mid \n",
       "          589          1328           578           499          1744 \n",
       "      Il1b_hi       Mmp8_hi Mono_outliers      Stfa3_hi  Undetermined \n",
       "          518           382          1153          1341           197 "
      ]
     },
     "metadata": {},
     "output_type": "display_data"
    },
    {
     "data": {
      "text/html": [
       "6013"
      ],
      "text/latex": [
       "6013"
      ],
      "text/markdown": [
       "6013"
      ],
      "text/plain": [
       "[1] 6013"
      ]
     },
     "metadata": {},
     "output_type": "display_data"
    }
   ],
   "source": [
    "table(sin_names)\n",
    "bad_pops = c('Mono_outliers', 'Ery_outliers', 'Undetermined', \"Mmp8_hi\")\n",
    "good_pops = setdiff(lin_ord, bad_pops)\n",
    "good_cells = names(sin_names)[ sin_names %in% good_pops]\n",
    "good_cells = intersect(good_cells, rownames(sin_stats)[ sin_stats$Tissue != \"Bone adult\"])\n",
    "length(good_cells)"
   ]
  },
  {
   "cell_type": "code",
   "execution_count": 17,
   "id": "235e28b8",
   "metadata": {},
   "outputs": [
    {
     "name": "stderr",
     "output_type": "stream",
     "text": [
      "Warning message in dir.create(\"figures\"):\n",
      "“'figures' already exists”\n",
      "Warning message in dir.create(outdir):\n",
      "“'figures/figure3' already exists”\n"
     ]
    }
   ],
   "source": [
    "dir.create(\"figures\")\n",
    "outdir = \"figures/figure3\"\n",
    "dir.create(outdir)"
   ]
  },
  {
   "cell_type": "code",
   "execution_count": 18,
   "id": "0b9f1e86",
   "metadata": {},
   "outputs": [
    {
     "data": {
      "text/html": [
       "<strong>pdf:</strong> 2"
      ],
      "text/latex": [
       "\\textbf{pdf:} 2"
      ],
      "text/markdown": [
       "**pdf:** 2"
      ],
      "text/plain": [
       "pdf \n",
       "  2 "
      ]
     },
     "metadata": {},
     "output_type": "display_data"
    },
    {
     "data": {
      "text/html": [
       "<strong>pdf:</strong> 2"
      ],
      "text/latex": [
       "\\textbf{pdf:} 2"
      ],
      "text/markdown": [
       "**pdf:** 2"
      ],
      "text/plain": [
       "pdf \n",
       "  2 "
      ]
     },
     "metadata": {},
     "output_type": "display_data"
    }
   ],
   "source": [
    "pdf(paste0(outdir, \"/Fig1D.pdf\"), useDingbats = F)\n",
    "plot.2(sin_2d@sc_x[ good_cells], sin_2d@sc_y[ good_cells], col = sin_cl@colors[ sin_cl@mc[ good_cells]])\n",
    "dev.off()\n",
    "\n",
    "pdf(paste0(outdir, \"/Fig1D_legend.pdf\"), useDingbats = F)\n",
    "plot.empty()\n",
    "legend(\"topleft\", good_pops, pch = 20, pt.cex = 2, col = name2color[ good_pops])\n",
    "dev.off()\n"
   ]
  },
  {
   "cell_type": "code",
   "execution_count": 19,
   "id": "05de62d1",
   "metadata": {},
   "outputs": [
    {
     "data": {
      "text/plain": [
       "\n",
       "Bones Liver \n",
       " 1717  4296 "
      ]
     },
     "metadata": {},
     "output_type": "display_data"
    },
    {
     "data": {
      "text/html": [
       "<strong>pdf:</strong> 2"
      ],
      "text/latex": [
       "\\textbf{pdf:} 2"
      ],
      "text/markdown": [
       "**pdf:** 2"
      ],
      "text/plain": [
       "pdf \n",
       "  2 "
      ]
     },
     "metadata": {},
     "output_type": "display_data"
    }
   ],
   "source": [
    "table(sin_stats[ good_cells, \"Tissue\"])\n",
    "tissue = ifelse(sin_stats$Tissue == \"Liver\", \"Liver\", \"Bone\")\n",
    "names(tissue) = rownames(sin_stats)\n",
    "\n",
    "good_cells = sample(good_cells)\n",
    "\n",
    "pdf(paste0(outdir, \"/Fig1E.pdf\"), useDingbats = F)\n",
    "plot.2(sin_2d@sc_x[ good_cells], sin_2d@sc_y[ good_cells], \n",
    "       col = ifelse(tissue[ good_cells] == \"Liver\", \"red\", \"blue\"))\n",
    "dev.off()"
   ]
  },
  {
   "cell_type": "code",
   "execution_count": 20,
   "id": "d8690103",
   "metadata": {},
   "outputs": [
    {
     "data": {
      "text/plain": [
       "comb\n",
       " Bone@E16.5     Bone@P0     Bone@P5 Bone@Week 6 Liver@E14.5 Liver@E16.5 \n",
       "        376         883         781         437         835        1429 \n",
       "   Liver@P0    Liver@P5 \n",
       "       2465        1123 "
      ]
     },
     "metadata": {},
     "output_type": "display_data"
    }
   ],
   "source": [
    "comb = paste0(tissue, \"@\", sin_stats$Age)\n",
    "names(comb) = rownames(sin_stats)\n",
    "table(comb)"
   ]
  },
  {
   "cell_type": "code",
   "execution_count": 21,
   "id": "d74e9573",
   "metadata": {},
   "outputs": [],
   "source": [
    "sample_dist = table(comb[ good_cells], factor(sin_names[ good_cells], levels = good_pops))\n",
    "dist_n = sample_dist / rowSums(sample_dist)\n",
    "\n",
    "l = names(table(tissue))\n",
    "for (c in l) {\n",
    "    pdf(paste0(outdir, \"/sample_dist_\", c, \".pdf\"), height = 5, width = 4)\n",
    "    X = dist_n[ grep(paste0(c, \"@\"), rownames(dist_n)),]\n",
    "    rownames(X) = vecsplit(rownames(X), \"@\", 2)\n",
    "    barplot(t(X) * 100, col = name2color[ colnames(sample_dist)], main = c, axes = F)\n",
    "    axis(2, las = 2)\n",
    "    dev.off()\n",
    "}"
   ]
  },
  {
   "cell_type": "code",
   "execution_count": 22,
   "id": "6e7fcf11",
   "metadata": {},
   "outputs": [
    {
     "name": "stderr",
     "output_type": "stream",
     "text": [
      "Warning message in asMethod(object):\n",
      "“sparse->dense coercion: allocating vector of size 1.4 GiB”\n"
     ]
    }
   ],
   "source": [
    "umis = read_large_umis(id, cells = good_cells)\n",
    "umis_n = sweep(umis, 2, colSums(umis), \"/\") * 1000"
   ]
  },
  {
   "cell_type": "code",
   "execution_count": 23,
   "id": "8d88fffe",
   "metadata": {},
   "outputs": [
    {
     "data": {
      "text/html": [
       "<style>\n",
       ".list-inline {list-style: none; margin:0; padding: 0}\n",
       ".list-inline>li {display: inline-block}\n",
       ".list-inline>li:not(:last-child)::after {content: \"\\00b7\"; padding: 0 .5ex}\n",
       "</style>\n",
       "<ol class=list-inline><li>'Elane_hi'</li><li>'Fcnb_hi'</li><li>'Fcnb_mid'</li><li>'Stfa3_hi'</li><li>'Dusp1_hi'</li><li>'Il1b_hi'</li></ol>\n"
      ],
      "text/latex": [
       "\\begin{enumerate*}\n",
       "\\item 'Elane\\_hi'\n",
       "\\item 'Fcnb\\_hi'\n",
       "\\item 'Fcnb\\_mid'\n",
       "\\item 'Stfa3\\_hi'\n",
       "\\item 'Dusp1\\_hi'\n",
       "\\item 'Il1b\\_hi'\n",
       "\\end{enumerate*}\n"
      ],
      "text/markdown": [
       "1. 'Elane_hi'\n",
       "2. 'Fcnb_hi'\n",
       "3. 'Fcnb_mid'\n",
       "4. 'Stfa3_hi'\n",
       "5. 'Dusp1_hi'\n",
       "6. 'Il1b_hi'\n",
       "\n",
       "\n"
      ],
      "text/plain": [
       "[1] \"Elane_hi\" \"Fcnb_hi\"  \"Fcnb_mid\" \"Stfa3_hi\" \"Dusp1_hi\" \"Il1b_hi\" "
      ]
     },
     "metadata": {},
     "output_type": "display_data"
    }
   ],
   "source": [
    "good_pops"
   ]
  },
  {
   "cell_type": "code",
   "execution_count": 25,
   "id": "311b99be",
   "metadata": {},
   "outputs": [
    {
     "data": {
      "text/html": [
       "<strong>pdf:</strong> 2"
      ],
      "text/latex": [
       "\\textbf{pdf:} 2"
      ],
      "text/markdown": [
       "**pdf:** 2"
      ],
      "text/plain": [
       "pdf \n",
       "  2 "
      ]
     },
     "metadata": {},
     "output_type": "display_data"
    }
   ],
   "source": [
    "genes = c(\"Elane\", \"Gstm1\", \"Pcna\", \"Top2a\", \"Fcnb\", \"Ltf\", \"Csf3r\",\n",
    "         \"Retnlg\", \"Mmp8\", \"Dusp1\", \"Il1b\", \"Stfa1\", \"Csta2\")\n",
    "#         \"IL13RA2\", \"IL6ST\", \"IL17RA\")\n",
    "m = t(apply(umis_n[genes, good_cells], 1, tapply, \n",
    "            factor(sin_names[ good_cells], levels = good_pops), mean))\n",
    "#m = m[, intersect(lin_ord, names(which(table(sc_names[ good_cells]) > 20)))]\n",
    "IM = log2(m[, rev(colnames(m))] + 0.02)\n",
    "exp_freq = t(apply(umis[genes, good_cells] > 0, 1, tapply, sin_names[ good_cells], mean)) * 100\n",
    "exp_freq = exp_freq[ ,colnames(IM)]\n",
    "\n",
    "grad = colorRampPalette(c(\"white\", \n",
    "        \"orange\", \"tomato\", \"mediumorchid4\", \"midnightblue\"))(101)\n",
    "\n",
    "p = function() {\n",
    "    par(mar = c(3,10,1,3))\n",
    "    matplot.2(t(IM), t(exp_freq), grad=grad, cex_lim = seq(0,100, by = 25))\n",
    "}\n",
    "\n",
    "pdf(paste0(outdir, \"/gene_expression.pdf\"), height = 10, width = 15, useDingbats = F)\n",
    "p()\n",
    "dev.off()"
   ]
  },
  {
   "cell_type": "code",
   "execution_count": 26,
   "id": "b64e390b",
   "metadata": {},
   "outputs": [
    {
     "data": {
      "text/html": [
       "4296"
      ],
      "text/latex": [
       "4296"
      ],
      "text/markdown": [
       "4296"
      ],
      "text/plain": [
       "[1] 4296"
      ]
     },
     "metadata": {},
     "output_type": "display_data"
    },
    {
     "data": {
      "text/html": [
       "1717"
      ],
      "text/latex": [
       "1717"
      ],
      "text/markdown": [
       "1717"
      ],
      "text/plain": [
       "[1] 1717"
      ]
     },
     "metadata": {},
     "output_type": "display_data"
    }
   ],
   "source": [
    "g1 = intersect(good_cells, names(which(tissue == \"Liver\")))\n",
    "g2 = intersect(good_cells, names(which(tissue == \"Bone\")))\n",
    "length(g1)\n",
    "length(g2)"
   ]
  },
  {
   "cell_type": "code",
   "execution_count": 27,
   "id": "e805b68b",
   "metadata": {},
   "outputs": [
    {
     "data": {
      "text/html": [
       "2761"
      ],
      "text/latex": [
       "2761"
      ],
      "text/markdown": [
       "2761"
      ],
      "text/plain": [
       "[1] 2761"
      ]
     },
     "metadata": {},
     "output_type": "display_data"
    }
   ],
   "source": [
    "genes = scr_chi_square_diff_genes(umis, g1 = g1, g2 = g2, pval = 1e-4, fdr = T)\n",
    "length(genes)"
   ]
  },
  {
   "cell_type": "code",
   "execution_count": 28,
   "id": "87159cf3",
   "metadata": {},
   "outputs": [],
   "source": [
    "m = t(apply(umis_n[, good_cells], 1, tapply, tissue[ good_cells], mean))"
   ]
  },
  {
   "cell_type": "code",
   "execution_count": 29,
   "id": "b6ea0e40",
   "metadata": {},
   "outputs": [
    {
     "data": {
      "text/html": [
       "<table class=\"dataframe\">\n",
       "<caption>A matrix: 6 × 2 of type dbl</caption>\n",
       "<thead>\n",
       "\t<tr><th></th><th scope=col>Bone</th><th scope=col>Liver</th></tr>\n",
       "</thead>\n",
       "<tbody>\n",
       "\t<tr><th scope=row>0610005C13Rik</th><td>0.000000000</td><td>0.0004479342</td></tr>\n",
       "\t<tr><th scope=row>0610006L08Rik</th><td>0.000000000</td><td>0.0000000000</td></tr>\n",
       "\t<tr><th scope=row>0610009B22Rik</th><td>0.014422363</td><td>0.0204475303</td></tr>\n",
       "\t<tr><th scope=row>0610009E02Rik</th><td>0.000000000</td><td>0.0007861252</td></tr>\n",
       "\t<tr><th scope=row>0610009L18Rik</th><td>0.005124041</td><td>0.0032217050</td></tr>\n",
       "\t<tr><th scope=row>0610010K14Rik</th><td>0.000000000</td><td>0.0000000000</td></tr>\n",
       "</tbody>\n",
       "</table>\n"
      ],
      "text/latex": [
       "A matrix: 6 × 2 of type dbl\n",
       "\\begin{tabular}{r|ll}\n",
       "  & Bone & Liver\\\\\n",
       "\\hline\n",
       "\t0610005C13Rik & 0.000000000 & 0.0004479342\\\\\n",
       "\t0610006L08Rik & 0.000000000 & 0.0000000000\\\\\n",
       "\t0610009B22Rik & 0.014422363 & 0.0204475303\\\\\n",
       "\t0610009E02Rik & 0.000000000 & 0.0007861252\\\\\n",
       "\t0610009L18Rik & 0.005124041 & 0.0032217050\\\\\n",
       "\t0610010K14Rik & 0.000000000 & 0.0000000000\\\\\n",
       "\\end{tabular}\n"
      ],
      "text/markdown": [
       "\n",
       "A matrix: 6 × 2 of type dbl\n",
       "\n",
       "| <!--/--> | Bone | Liver |\n",
       "|---|---|---|\n",
       "| 0610005C13Rik | 0.000000000 | 0.0004479342 |\n",
       "| 0610006L08Rik | 0.000000000 | 0.0000000000 |\n",
       "| 0610009B22Rik | 0.014422363 | 0.0204475303 |\n",
       "| 0610009E02Rik | 0.000000000 | 0.0007861252 |\n",
       "| 0610009L18Rik | 0.005124041 | 0.0032217050 |\n",
       "| 0610010K14Rik | 0.000000000 | 0.0000000000 |\n",
       "\n"
      ],
      "text/plain": [
       "              Bone        Liver       \n",
       "0610005C13Rik 0.000000000 0.0004479342\n",
       "0610006L08Rik 0.000000000 0.0000000000\n",
       "0610009B22Rik 0.014422363 0.0204475303\n",
       "0610009E02Rik 0.000000000 0.0007861252\n",
       "0610009L18Rik 0.005124041 0.0032217050\n",
       "0610010K14Rik 0.000000000 0.0000000000"
      ]
     },
     "metadata": {},
     "output_type": "display_data"
    }
   ],
   "source": [
    "head(m)"
   ]
  },
  {
   "cell_type": "code",
   "execution_count": 30,
   "id": "f4d7be9d",
   "metadata": {},
   "outputs": [
    {
     "data": {
      "text/html": [
       "<style>\n",
       ".dl-inline {width: auto; margin:0; padding: 0}\n",
       ".dl-inline>dt, .dl-inline>dd {float: none; width: auto; display: inline-block}\n",
       ".dl-inline>dt::after {content: \":\\0020\"; padding-right: .5ex}\n",
       ".dl-inline>dt:not(:first-of-type) {padding-left: .5ex}\n",
       "</style><dl class=dl-inline><dt>Il1b</dt><dd>3.52834355674625</dd><dt>Cxcl2</dt><dd>2.8606742994539</dd><dt>Retnlg</dt><dd>2.6215673299376</dd><dt>Dusp1</dt><dd>2.48501031020918</dd><dt>Ccl6</dt><dd>2.43072596840888</dd><dt>S100a6</dt><dd>2.39310971476697</dd><dt>Clec4d</dt><dd>2.18503804782413</dd><dt>Csta3</dt><dd>1.97873814730948</dd><dt>Pla2g7</dt><dd>1.9768847598308</dd><dt>Btg1</dt><dd>1.87391639658297</dd></dl>\n"
      ],
      "text/latex": [
       "\\begin{description*}\n",
       "\\item[Il1b] 3.52834355674625\n",
       "\\item[Cxcl2] 2.8606742994539\n",
       "\\item[Retnlg] 2.6215673299376\n",
       "\\item[Dusp1] 2.48501031020918\n",
       "\\item[Ccl6] 2.43072596840888\n",
       "\\item[S100a6] 2.39310971476697\n",
       "\\item[Clec4d] 2.18503804782413\n",
       "\\item[Csta3] 1.97873814730948\n",
       "\\item[Pla2g7] 1.9768847598308\n",
       "\\item[Btg1] 1.87391639658297\n",
       "\\end{description*}\n"
      ],
      "text/markdown": [
       "Il1b\n",
       ":   3.52834355674625Cxcl2\n",
       ":   2.8606742994539Retnlg\n",
       ":   2.6215673299376Dusp1\n",
       ":   2.48501031020918Ccl6\n",
       ":   2.43072596840888S100a6\n",
       ":   2.39310971476697Clec4d\n",
       ":   2.18503804782413Csta3\n",
       ":   1.97873814730948Pla2g7\n",
       ":   1.9768847598308Btg1\n",
       ":   1.87391639658297\n",
       "\n"
      ],
      "text/plain": [
       "    Il1b    Cxcl2   Retnlg    Dusp1     Ccl6   S100a6   Clec4d    Csta3 \n",
       "3.528344 2.860674 2.621567 2.485010 2.430726 2.393110 2.185038 1.978738 \n",
       "  Pla2g7     Btg1 \n",
       "1.976885 1.873916 "
      ]
     },
     "metadata": {},
     "output_type": "display_data"
    },
    {
     "data": {
      "text/html": [
       "<style>\n",
       ".dl-inline {width: auto; margin:0; padding: 0}\n",
       ".dl-inline>dt, .dl-inline>dd {float: none; width: auto; display: inline-block}\n",
       ".dl-inline>dt::after {content: \":\\0020\"; padding-right: .5ex}\n",
       ".dl-inline>dt:not(:first-of-type) {padding-left: .5ex}\n",
       "</style><dl class=dl-inline><dt>Hbb-bs</dt><dd>-2.87825861617837</dd><dt>Prtn3</dt><dd>-2.87003976453041</dd><dt>Hba-a1</dt><dd>-2.80212540802269</dd><dt>Mpo</dt><dd>-2.76819673925561</dd><dt>Elane</dt><dd>-2.58934011038594</dd><dt>Ctsg</dt><dd>-2.39649670164627</dd><dt>Hbb-bt</dt><dd>-2.20756787706097</dd><dt>Fcnb</dt><dd>-2.15708595675885</dd><dt>Hba-a2</dt><dd>-2.14721230951392</dd><dt>Ms4a3</dt><dd>-2.10089840432428</dd></dl>\n"
      ],
      "text/latex": [
       "\\begin{description*}\n",
       "\\item[Hbb-bs] -2.87825861617837\n",
       "\\item[Prtn3] -2.87003976453041\n",
       "\\item[Hba-a1] -2.80212540802269\n",
       "\\item[Mpo] -2.76819673925561\n",
       "\\item[Elane] -2.58934011038594\n",
       "\\item[Ctsg] -2.39649670164627\n",
       "\\item[Hbb-bt] -2.20756787706097\n",
       "\\item[Fcnb] -2.15708595675885\n",
       "\\item[Hba-a2] -2.14721230951392\n",
       "\\item[Ms4a3] -2.10089840432428\n",
       "\\end{description*}\n"
      ],
      "text/markdown": [
       "Hbb-bs\n",
       ":   -2.87825861617837Prtn3\n",
       ":   -2.87003976453041Hba-a1\n",
       ":   -2.80212540802269Mpo\n",
       ":   -2.76819673925561Elane\n",
       ":   -2.58934011038594Ctsg\n",
       ":   -2.39649670164627Hbb-bt\n",
       ":   -2.20756787706097Fcnb\n",
       ":   -2.15708595675885Hba-a2\n",
       ":   -2.14721230951392Ms4a3\n",
       ":   -2.10089840432428\n",
       "\n"
      ],
      "text/plain": [
       "   Hbb-bs     Prtn3    Hba-a1       Mpo     Elane      Ctsg    Hbb-bt      Fcnb \n",
       "-2.878259 -2.870040 -2.802125 -2.768197 -2.589340 -2.396497 -2.207568 -2.157086 \n",
       "   Hba-a2     Ms4a3 \n",
       "-2.147212 -2.100898 "
      ]
     },
     "metadata": {},
     "output_type": "display_data"
    },
    {
     "data": {
      "text/html": [
       "<style>\n",
       ".list-inline {list-style: none; margin:0; padding: 0}\n",
       ".list-inline>li {display: inline-block}\n",
       ".list-inline>li:not(:last-child)::after {content: \"\\00b7\"; padding: 0 .5ex}\n",
       "</style>\n",
       "<ol class=list-inline><li>'Il1b'</li><li>'Cxcl2'</li><li>'Retnlg'</li><li>'Dusp1'</li><li>'Ccl6'</li><li>'S100a6'</li><li>'Clec4d'</li><li>'Csta3'</li><li>'Pla2g7'</li><li>'Btg1'</li><li>'Ms4a3'</li><li>'Hba-a2'</li><li>'Fcnb'</li><li>'Ctsg'</li><li>'Elane'</li><li>'Mpo'</li><li>'Prtn3'</li></ol>\n"
      ],
      "text/latex": [
       "\\begin{enumerate*}\n",
       "\\item 'Il1b'\n",
       "\\item 'Cxcl2'\n",
       "\\item 'Retnlg'\n",
       "\\item 'Dusp1'\n",
       "\\item 'Ccl6'\n",
       "\\item 'S100a6'\n",
       "\\item 'Clec4d'\n",
       "\\item 'Csta3'\n",
       "\\item 'Pla2g7'\n",
       "\\item 'Btg1'\n",
       "\\item 'Ms4a3'\n",
       "\\item 'Hba-a2'\n",
       "\\item 'Fcnb'\n",
       "\\item 'Ctsg'\n",
       "\\item 'Elane'\n",
       "\\item 'Mpo'\n",
       "\\item 'Prtn3'\n",
       "\\end{enumerate*}\n"
      ],
      "text/markdown": [
       "1. 'Il1b'\n",
       "2. 'Cxcl2'\n",
       "3. 'Retnlg'\n",
       "4. 'Dusp1'\n",
       "5. 'Ccl6'\n",
       "6. 'S100a6'\n",
       "7. 'Clec4d'\n",
       "8. 'Csta3'\n",
       "9. 'Pla2g7'\n",
       "10. 'Btg1'\n",
       "11. 'Ms4a3'\n",
       "12. 'Hba-a2'\n",
       "13. 'Fcnb'\n",
       "14. 'Ctsg'\n",
       "15. 'Elane'\n",
       "16. 'Mpo'\n",
       "17. 'Prtn3'\n",
       "\n",
       "\n"
      ],
      "text/plain": [
       " [1] \"Il1b\"   \"Cxcl2\"  \"Retnlg\" \"Dusp1\"  \"Ccl6\"   \"S100a6\" \"Clec4d\" \"Csta3\" \n",
       " [9] \"Pla2g7\" \"Btg1\"   \"Ms4a3\"  \"Hba-a2\" \"Fcnb\"   \"Ctsg\"   \"Elane\"  \"Mpo\"   \n",
       "[17] \"Prtn3\" "
      ]
     },
     "metadata": {},
     "output_type": "display_data"
    }
   ],
   "source": [
    "reg = 0.05\n",
    "a = \"Liver\"; b = \"Bone\"\n",
    "x = log2(reg + m[,a])\n",
    "y = log2(reg + m[,b])\n",
    "z = log2((reg + m[,b]) / (reg + m[,a]))\n",
    "head(sort(z,T),10)\n",
    "head(sort(z,F),10)\n",
    "\n",
    "disp_genes = setdiff(\n",
    "    c(names(head(sort(z,T),10)),\n",
    "    names(tail(sort(z,T),10))),\n",
    "    c(\"Hbb-bs\", \"Hba-a1\", \"Hbb-bt\")\n",
    ")\n",
    "\n",
    "disp_genes"
   ]
  },
  {
   "cell_type": "code",
   "execution_count": 31,
   "id": "287ad9fd",
   "metadata": {},
   "outputs": [
    {
     "data": {
      "text/html": [
       "<table class=\"dataframe\">\n",
       "<caption>A data.frame: 6 × 6</caption>\n",
       "<thead>\n",
       "\t<tr><th></th><th scope=col>x</th><th scope=col>y</th><th scope=col>disp</th><th scope=col>rx</th><th scope=col>ry</th><th scope=col>dup</th></tr>\n",
       "\t<tr><th></th><th scope=col>&lt;dbl&gt;</th><th scope=col>&lt;dbl&gt;</th><th scope=col>&lt;lgl&gt;</th><th scope=col>&lt;dbl&gt;</th><th scope=col>&lt;dbl&gt;</th><th scope=col>&lt;lgl&gt;</th></tr>\n",
       "</thead>\n",
       "<tbody>\n",
       "\t<tr><th scope=row>0610005C13Rik</th><td>-4.309061</td><td>-4.321928</td><td>FALSE</td><td>-4.31</td><td>-4.32</td><td>FALSE</td></tr>\n",
       "\t<tr><th scope=row>0610006L08Rik</th><td>-4.321928</td><td>-4.321928</td><td>FALSE</td><td>-4.32</td><td>-4.32</td><td>FALSE</td></tr>\n",
       "\t<tr><th scope=row>0610009B22Rik</th><td>-3.827307</td><td>-3.956295</td><td>FALSE</td><td>-3.83</td><td>-3.96</td><td>FALSE</td></tr>\n",
       "\t<tr><th scope=row>0610009E02Rik</th><td>-4.299422</td><td>-4.321928</td><td>FALSE</td><td>-4.30</td><td>-4.32</td><td>FALSE</td></tr>\n",
       "\t<tr><th scope=row>0610009L18Rik</th><td>-4.231841</td><td>-4.181175</td><td>FALSE</td><td>-4.23</td><td>-4.18</td><td>FALSE</td></tr>\n",
       "\t<tr><th scope=row>0610010K14Rik</th><td>-4.321928</td><td>-4.321928</td><td>FALSE</td><td>-4.32</td><td>-4.32</td><td> TRUE</td></tr>\n",
       "</tbody>\n",
       "</table>\n"
      ],
      "text/latex": [
       "A data.frame: 6 × 6\n",
       "\\begin{tabular}{r|llllll}\n",
       "  & x & y & disp & rx & ry & dup\\\\\n",
       "  & <dbl> & <dbl> & <lgl> & <dbl> & <dbl> & <lgl>\\\\\n",
       "\\hline\n",
       "\t0610005C13Rik & -4.309061 & -4.321928 & FALSE & -4.31 & -4.32 & FALSE\\\\\n",
       "\t0610006L08Rik & -4.321928 & -4.321928 & FALSE & -4.32 & -4.32 & FALSE\\\\\n",
       "\t0610009B22Rik & -3.827307 & -3.956295 & FALSE & -3.83 & -3.96 & FALSE\\\\\n",
       "\t0610009E02Rik & -4.299422 & -4.321928 & FALSE & -4.30 & -4.32 & FALSE\\\\\n",
       "\t0610009L18Rik & -4.231841 & -4.181175 & FALSE & -4.23 & -4.18 & FALSE\\\\\n",
       "\t0610010K14Rik & -4.321928 & -4.321928 & FALSE & -4.32 & -4.32 &  TRUE\\\\\n",
       "\\end{tabular}\n"
      ],
      "text/markdown": [
       "\n",
       "A data.frame: 6 × 6\n",
       "\n",
       "| <!--/--> | x &lt;dbl&gt; | y &lt;dbl&gt; | disp &lt;lgl&gt; | rx &lt;dbl&gt; | ry &lt;dbl&gt; | dup &lt;lgl&gt; |\n",
       "|---|---|---|---|---|---|---|\n",
       "| 0610005C13Rik | -4.309061 | -4.321928 | FALSE | -4.31 | -4.32 | FALSE |\n",
       "| 0610006L08Rik | -4.321928 | -4.321928 | FALSE | -4.32 | -4.32 | FALSE |\n",
       "| 0610009B22Rik | -3.827307 | -3.956295 | FALSE | -3.83 | -3.96 | FALSE |\n",
       "| 0610009E02Rik | -4.299422 | -4.321928 | FALSE | -4.30 | -4.32 | FALSE |\n",
       "| 0610009L18Rik | -4.231841 | -4.181175 | FALSE | -4.23 | -4.18 | FALSE |\n",
       "| 0610010K14Rik | -4.321928 | -4.321928 | FALSE | -4.32 | -4.32 |  TRUE |\n",
       "\n"
      ],
      "text/plain": [
       "              x         y         disp  rx    ry    dup  \n",
       "0610005C13Rik -4.309061 -4.321928 FALSE -4.31 -4.32 FALSE\n",
       "0610006L08Rik -4.321928 -4.321928 FALSE -4.32 -4.32 FALSE\n",
       "0610009B22Rik -3.827307 -3.956295 FALSE -3.83 -3.96 FALSE\n",
       "0610009E02Rik -4.299422 -4.321928 FALSE -4.30 -4.32 FALSE\n",
       "0610009L18Rik -4.231841 -4.181175 FALSE -4.23 -4.18 FALSE\n",
       "0610010K14Rik -4.321928 -4.321928 FALSE -4.32 -4.32  TRUE"
      ]
     },
     "metadata": {},
     "output_type": "display_data"
    },
    {
     "data": {
      "text/plain": [
       "\n",
       "FALSE  TRUE \n",
       " 5931 24399 "
      ]
     },
     "metadata": {},
     "output_type": "display_data"
    }
   ],
   "source": [
    "df = data.frame(x,y,disp = names(x) %in% genes & abs(z) > 1)\n",
    "df$rx = round(x,2)\n",
    "df$ry = round(y,2)\n",
    "df$dup = duplicated(df[,c(\"disp\", \"rx\", \"ry\")])\n",
    "head(df)\n",
    "table(df$dup)"
   ]
  },
  {
   "cell_type": "code",
   "execution_count": 32,
   "id": "e5552fe3",
   "metadata": {},
   "outputs": [
    {
     "data": {
      "text/html": [
       "<strong>pdf:</strong> 2"
      ],
      "text/latex": [
       "\\textbf{pdf:} 2"
      ],
      "text/markdown": [
       "**pdf:** 2"
      ],
      "text/plain": [
       "pdf \n",
       "  2 "
      ]
     },
     "metadata": {},
     "output_type": "display_data"
    }
   ],
   "source": [
    "pdf(paste0(outdir, \"/diff_expression_by_tissue.pdf\"), height = 5, width = 5, useDingbats = F)\n",
    "with(df[ !df$dup,], plot.2(x,y, xlab = a, ylab = b, col = ifelse(disp, \"tomato\", \"gray\")))\n",
    "abline(coef = c(0,1))\n",
    "abline(coef = c(1,1), lty = 2)\n",
    "abline(coef = c(-1,1), lty = 2)\n",
    "text(x[ disp_genes],y[ disp_genes], disp_genes)\n",
    "dev.off()"
   ]
  },
  {
   "cell_type": "code",
   "execution_count": null,
   "id": "8c510f7d",
   "metadata": {},
   "outputs": [],
   "source": []
  }
 ],
 "metadata": {
  "kernelspec": {
   "display_name": "R [conda env:my_env_metacell]",
   "language": "R",
   "name": "conda-env-my_env_metacell-r"
  },
  "language_info": {
   "codemirror_mode": "r",
   "file_extension": ".r",
   "mimetype": "text/x-r-source",
   "name": "R",
   "pygments_lexer": "r",
   "version": "4.2.2"
  }
 },
 "nbformat": 4,
 "nbformat_minor": 5
}
